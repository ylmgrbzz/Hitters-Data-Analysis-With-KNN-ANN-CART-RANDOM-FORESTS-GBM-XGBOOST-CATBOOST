{
  "nbformat": 4,
  "nbformat_minor": 0,
  "metadata": {
    "colab": {
      "provenance": [],
      "authorship_tag": "ABX9TyNV+QileVy5MfVIod8Rv33L",
      "include_colab_link": true
    },
    "kernelspec": {
      "name": "python3",
      "display_name": "Python 3"
    },
    "language_info": {
      "name": "python"
    }
  },
  "cells": [
    {
      "cell_type": "markdown",
      "metadata": {
        "id": "view-in-github",
        "colab_type": "text"
      },
      "source": [
        "<a href=\"https://colab.research.google.com/github/ylmgrbzz/Hitters-Data-Analysis-With-KNN-ANN-CART-RANDOM-FORESTS-GBM-XGBOOST-CATBOOST/blob/main/Hitters_Data_Analysis_With_KNN_ANN_CART_RANDOM_FORESTS_GBM_XGBOOST_CATBOOST.ipynb\" target=\"_parent\"><img src=\"https://colab.research.google.com/assets/colab-badge.svg\" alt=\"Open In Colab\"/></a>"
      ]
    },
    {
      "cell_type": "code",
      "execution_count": null,
      "metadata": {
        "id": "3t84byLOdqnT"
      },
      "outputs": [],
      "source": [
        "import numpy as np\n",
        "import pandas as pd\n",
        "from sklearn.model_selection import train_test_split, GridSearchCV\n",
        "from sklearn.metrics import mean_squared_error, r2_score\n",
        "import matplotlib.pyplot as plt\n",
        "from sklearn.preprocessing import scale\n",
        "from sklearn.preprocessing import StandardScaler\n",
        "from sklearn import model_selection\n",
        "from sklearn.linear_model import LinearRegression\n",
        "from sklearn.tree import DecisionTreeRegressor\n",
        "from sklearn.neighbors import KNeighborsRegressor\n",
        "from sklearn.neural_network import MLPRegressor\n",
        "from sklearn.ensemble import RandomForestRegressor\n",
        "from sklearn.ensemble import GradientBoostingRegressor\n",
        "from sklearn import neighbors\n",
        "from sklearn.svm import SVR\n",
        "\n",
        "\n",
        "\n"
      ]
    },
    {
      "cell_type": "code",
      "source": [
        "df = pd.read_csv(\"Hitters.csv\")\n",
        "df = df.dropna()\n",
        "df.head()\n"
      ],
      "metadata": {
        "colab": {
          "base_uri": "https://localhost:8080/",
          "height": 270
        },
        "id": "b6rqXgmpfCPe",
        "outputId": "5ff0a0ca-f8f6-4bf3-c6f0-2ebcc57a7a37"
      },
      "execution_count": null,
      "outputs": [
        {
          "output_type": "execute_result",
          "data": {
            "text/plain": [
              "   AtBat  Hits  HmRun  Runs  RBI  Walks  Years  CAtBat  CHits  CHmRun  CRuns  \\\n",
              "1    315    81      7    24   38     39     14    3449    835      69    321   \n",
              "2    479   130     18    66   72     76      3    1624    457      63    224   \n",
              "3    496   141     20    65   78     37     11    5628   1575     225    828   \n",
              "4    321    87     10    39   42     30      2     396    101      12     48   \n",
              "5    594   169      4    74   51     35     11    4408   1133      19    501   \n",
              "\n",
              "   CRBI  CWalks League Division  PutOuts  Assists  Errors  Salary NewLeague  \n",
              "1   414     375      N        W      632       43      10   475.0         N  \n",
              "2   266     263      A        W      880       82      14   480.0         A  \n",
              "3   838     354      N        E      200       11       3   500.0         N  \n",
              "4    46      33      N        E      805       40       4    91.5         N  \n",
              "5   336     194      A        W      282      421      25   750.0         A  "
            ],
            "text/html": [
              "\n",
              "  <div id=\"df-36ceb257-0ff2-4dd8-99ea-8db26537ff4f\">\n",
              "    <div class=\"colab-df-container\">\n",
              "      <div>\n",
              "<style scoped>\n",
              "    .dataframe tbody tr th:only-of-type {\n",
              "        vertical-align: middle;\n",
              "    }\n",
              "\n",
              "    .dataframe tbody tr th {\n",
              "        vertical-align: top;\n",
              "    }\n",
              "\n",
              "    .dataframe thead th {\n",
              "        text-align: right;\n",
              "    }\n",
              "</style>\n",
              "<table border=\"1\" class=\"dataframe\">\n",
              "  <thead>\n",
              "    <tr style=\"text-align: right;\">\n",
              "      <th></th>\n",
              "      <th>AtBat</th>\n",
              "      <th>Hits</th>\n",
              "      <th>HmRun</th>\n",
              "      <th>Runs</th>\n",
              "      <th>RBI</th>\n",
              "      <th>Walks</th>\n",
              "      <th>Years</th>\n",
              "      <th>CAtBat</th>\n",
              "      <th>CHits</th>\n",
              "      <th>CHmRun</th>\n",
              "      <th>CRuns</th>\n",
              "      <th>CRBI</th>\n",
              "      <th>CWalks</th>\n",
              "      <th>League</th>\n",
              "      <th>Division</th>\n",
              "      <th>PutOuts</th>\n",
              "      <th>Assists</th>\n",
              "      <th>Errors</th>\n",
              "      <th>Salary</th>\n",
              "      <th>NewLeague</th>\n",
              "    </tr>\n",
              "  </thead>\n",
              "  <tbody>\n",
              "    <tr>\n",
              "      <th>1</th>\n",
              "      <td>315</td>\n",
              "      <td>81</td>\n",
              "      <td>7</td>\n",
              "      <td>24</td>\n",
              "      <td>38</td>\n",
              "      <td>39</td>\n",
              "      <td>14</td>\n",
              "      <td>3449</td>\n",
              "      <td>835</td>\n",
              "      <td>69</td>\n",
              "      <td>321</td>\n",
              "      <td>414</td>\n",
              "      <td>375</td>\n",
              "      <td>N</td>\n",
              "      <td>W</td>\n",
              "      <td>632</td>\n",
              "      <td>43</td>\n",
              "      <td>10</td>\n",
              "      <td>475.0</td>\n",
              "      <td>N</td>\n",
              "    </tr>\n",
              "    <tr>\n",
              "      <th>2</th>\n",
              "      <td>479</td>\n",
              "      <td>130</td>\n",
              "      <td>18</td>\n",
              "      <td>66</td>\n",
              "      <td>72</td>\n",
              "      <td>76</td>\n",
              "      <td>3</td>\n",
              "      <td>1624</td>\n",
              "      <td>457</td>\n",
              "      <td>63</td>\n",
              "      <td>224</td>\n",
              "      <td>266</td>\n",
              "      <td>263</td>\n",
              "      <td>A</td>\n",
              "      <td>W</td>\n",
              "      <td>880</td>\n",
              "      <td>82</td>\n",
              "      <td>14</td>\n",
              "      <td>480.0</td>\n",
              "      <td>A</td>\n",
              "    </tr>\n",
              "    <tr>\n",
              "      <th>3</th>\n",
              "      <td>496</td>\n",
              "      <td>141</td>\n",
              "      <td>20</td>\n",
              "      <td>65</td>\n",
              "      <td>78</td>\n",
              "      <td>37</td>\n",
              "      <td>11</td>\n",
              "      <td>5628</td>\n",
              "      <td>1575</td>\n",
              "      <td>225</td>\n",
              "      <td>828</td>\n",
              "      <td>838</td>\n",
              "      <td>354</td>\n",
              "      <td>N</td>\n",
              "      <td>E</td>\n",
              "      <td>200</td>\n",
              "      <td>11</td>\n",
              "      <td>3</td>\n",
              "      <td>500.0</td>\n",
              "      <td>N</td>\n",
              "    </tr>\n",
              "    <tr>\n",
              "      <th>4</th>\n",
              "      <td>321</td>\n",
              "      <td>87</td>\n",
              "      <td>10</td>\n",
              "      <td>39</td>\n",
              "      <td>42</td>\n",
              "      <td>30</td>\n",
              "      <td>2</td>\n",
              "      <td>396</td>\n",
              "      <td>101</td>\n",
              "      <td>12</td>\n",
              "      <td>48</td>\n",
              "      <td>46</td>\n",
              "      <td>33</td>\n",
              "      <td>N</td>\n",
              "      <td>E</td>\n",
              "      <td>805</td>\n",
              "      <td>40</td>\n",
              "      <td>4</td>\n",
              "      <td>91.5</td>\n",
              "      <td>N</td>\n",
              "    </tr>\n",
              "    <tr>\n",
              "      <th>5</th>\n",
              "      <td>594</td>\n",
              "      <td>169</td>\n",
              "      <td>4</td>\n",
              "      <td>74</td>\n",
              "      <td>51</td>\n",
              "      <td>35</td>\n",
              "      <td>11</td>\n",
              "      <td>4408</td>\n",
              "      <td>1133</td>\n",
              "      <td>19</td>\n",
              "      <td>501</td>\n",
              "      <td>336</td>\n",
              "      <td>194</td>\n",
              "      <td>A</td>\n",
              "      <td>W</td>\n",
              "      <td>282</td>\n",
              "      <td>421</td>\n",
              "      <td>25</td>\n",
              "      <td>750.0</td>\n",
              "      <td>A</td>\n",
              "    </tr>\n",
              "  </tbody>\n",
              "</table>\n",
              "</div>\n",
              "      <button class=\"colab-df-convert\" onclick=\"convertToInteractive('df-36ceb257-0ff2-4dd8-99ea-8db26537ff4f')\"\n",
              "              title=\"Convert this dataframe to an interactive table.\"\n",
              "              style=\"display:none;\">\n",
              "        \n",
              "  <svg xmlns=\"http://www.w3.org/2000/svg\" height=\"24px\"viewBox=\"0 0 24 24\"\n",
              "       width=\"24px\">\n",
              "    <path d=\"M0 0h24v24H0V0z\" fill=\"none\"/>\n",
              "    <path d=\"M18.56 5.44l.94 2.06.94-2.06 2.06-.94-2.06-.94-.94-2.06-.94 2.06-2.06.94zm-11 1L8.5 8.5l.94-2.06 2.06-.94-2.06-.94L8.5 2.5l-.94 2.06-2.06.94zm10 10l.94 2.06.94-2.06 2.06-.94-2.06-.94-.94-2.06-.94 2.06-2.06.94z\"/><path d=\"M17.41 7.96l-1.37-1.37c-.4-.4-.92-.59-1.43-.59-.52 0-1.04.2-1.43.59L10.3 9.45l-7.72 7.72c-.78.78-.78 2.05 0 2.83L4 21.41c.39.39.9.59 1.41.59.51 0 1.02-.2 1.41-.59l7.78-7.78 2.81-2.81c.8-.78.8-2.07 0-2.86zM5.41 20L4 18.59l7.72-7.72 1.47 1.35L5.41 20z\"/>\n",
              "  </svg>\n",
              "      </button>\n",
              "      \n",
              "  <style>\n",
              "    .colab-df-container {\n",
              "      display:flex;\n",
              "      flex-wrap:wrap;\n",
              "      gap: 12px;\n",
              "    }\n",
              "\n",
              "    .colab-df-convert {\n",
              "      background-color: #E8F0FE;\n",
              "      border: none;\n",
              "      border-radius: 50%;\n",
              "      cursor: pointer;\n",
              "      display: none;\n",
              "      fill: #1967D2;\n",
              "      height: 32px;\n",
              "      padding: 0 0 0 0;\n",
              "      width: 32px;\n",
              "    }\n",
              "\n",
              "    .colab-df-convert:hover {\n",
              "      background-color: #E2EBFA;\n",
              "      box-shadow: 0px 1px 2px rgba(60, 64, 67, 0.3), 0px 1px 3px 1px rgba(60, 64, 67, 0.15);\n",
              "      fill: #174EA6;\n",
              "    }\n",
              "\n",
              "    [theme=dark] .colab-df-convert {\n",
              "      background-color: #3B4455;\n",
              "      fill: #D2E3FC;\n",
              "    }\n",
              "\n",
              "    [theme=dark] .colab-df-convert:hover {\n",
              "      background-color: #434B5C;\n",
              "      box-shadow: 0px 1px 3px 1px rgba(0, 0, 0, 0.15);\n",
              "      filter: drop-shadow(0px 1px 2px rgba(0, 0, 0, 0.3));\n",
              "      fill: #FFFFFF;\n",
              "    }\n",
              "  </style>\n",
              "\n",
              "      <script>\n",
              "        const buttonEl =\n",
              "          document.querySelector('#df-36ceb257-0ff2-4dd8-99ea-8db26537ff4f button.colab-df-convert');\n",
              "        buttonEl.style.display =\n",
              "          google.colab.kernel.accessAllowed ? 'block' : 'none';\n",
              "\n",
              "        async function convertToInteractive(key) {\n",
              "          const element = document.querySelector('#df-36ceb257-0ff2-4dd8-99ea-8db26537ff4f');\n",
              "          const dataTable =\n",
              "            await google.colab.kernel.invokeFunction('convertToInteractive',\n",
              "                                                     [key], {});\n",
              "          if (!dataTable) return;\n",
              "\n",
              "          const docLinkHtml = 'Like what you see? Visit the ' +\n",
              "            '<a target=\"_blank\" href=https://colab.research.google.com/notebooks/data_table.ipynb>data table notebook</a>'\n",
              "            + ' to learn more about interactive tables.';\n",
              "          element.innerHTML = '';\n",
              "          dataTable['output_type'] = 'display_data';\n",
              "          await google.colab.output.renderOutput(dataTable, element);\n",
              "          const docLink = document.createElement('div');\n",
              "          docLink.innerHTML = docLinkHtml;\n",
              "          element.appendChild(docLink);\n",
              "        }\n",
              "      </script>\n",
              "    </div>\n",
              "  </div>\n",
              "  "
            ]
          },
          "metadata": {},
          "execution_count": 10
        }
      ]
    },
    {
      "cell_type": "code",
      "source": [
        "dms = pd.get_dummies(df[[\"League\",\"Division\",\"NewLeague\"]])\n"
      ],
      "metadata": {
        "id": "LBuhEUZxgFsd"
      },
      "execution_count": null,
      "outputs": []
    },
    {
      "cell_type": "code",
      "source": [
        "dms"
      ],
      "metadata": {
        "colab": {
          "base_uri": "https://localhost:8080/",
          "height": 424
        },
        "id": "ft6gnB4-gHdz",
        "outputId": "dec192ac-0f47-4a4a-c1be-e4383f1a4707"
      },
      "execution_count": null,
      "outputs": [
        {
          "output_type": "execute_result",
          "data": {
            "text/plain": [
              "     League_A  League_N  Division_E  Division_W  NewLeague_A  NewLeague_N\n",
              "1           0         1           0           1            0            1\n",
              "2           1         0           0           1            1            0\n",
              "3           0         1           1           0            0            1\n",
              "4           0         1           1           0            0            1\n",
              "5           1         0           0           1            1            0\n",
              "..        ...       ...         ...         ...          ...          ...\n",
              "317         0         1           1           0            0            1\n",
              "318         1         0           1           0            1            0\n",
              "319         1         0           0           1            1            0\n",
              "320         1         0           1           0            1            0\n",
              "321         1         0           0           1            1            0\n",
              "\n",
              "[263 rows x 6 columns]"
            ],
            "text/html": [
              "\n",
              "  <div id=\"df-82c5cbc6-17c9-42e6-8120-739e6b6ff002\">\n",
              "    <div class=\"colab-df-container\">\n",
              "      <div>\n",
              "<style scoped>\n",
              "    .dataframe tbody tr th:only-of-type {\n",
              "        vertical-align: middle;\n",
              "    }\n",
              "\n",
              "    .dataframe tbody tr th {\n",
              "        vertical-align: top;\n",
              "    }\n",
              "\n",
              "    .dataframe thead th {\n",
              "        text-align: right;\n",
              "    }\n",
              "</style>\n",
              "<table border=\"1\" class=\"dataframe\">\n",
              "  <thead>\n",
              "    <tr style=\"text-align: right;\">\n",
              "      <th></th>\n",
              "      <th>League_A</th>\n",
              "      <th>League_N</th>\n",
              "      <th>Division_E</th>\n",
              "      <th>Division_W</th>\n",
              "      <th>NewLeague_A</th>\n",
              "      <th>NewLeague_N</th>\n",
              "    </tr>\n",
              "  </thead>\n",
              "  <tbody>\n",
              "    <tr>\n",
              "      <th>1</th>\n",
              "      <td>0</td>\n",
              "      <td>1</td>\n",
              "      <td>0</td>\n",
              "      <td>1</td>\n",
              "      <td>0</td>\n",
              "      <td>1</td>\n",
              "    </tr>\n",
              "    <tr>\n",
              "      <th>2</th>\n",
              "      <td>1</td>\n",
              "      <td>0</td>\n",
              "      <td>0</td>\n",
              "      <td>1</td>\n",
              "      <td>1</td>\n",
              "      <td>0</td>\n",
              "    </tr>\n",
              "    <tr>\n",
              "      <th>3</th>\n",
              "      <td>0</td>\n",
              "      <td>1</td>\n",
              "      <td>1</td>\n",
              "      <td>0</td>\n",
              "      <td>0</td>\n",
              "      <td>1</td>\n",
              "    </tr>\n",
              "    <tr>\n",
              "      <th>4</th>\n",
              "      <td>0</td>\n",
              "      <td>1</td>\n",
              "      <td>1</td>\n",
              "      <td>0</td>\n",
              "      <td>0</td>\n",
              "      <td>1</td>\n",
              "    </tr>\n",
              "    <tr>\n",
              "      <th>5</th>\n",
              "      <td>1</td>\n",
              "      <td>0</td>\n",
              "      <td>0</td>\n",
              "      <td>1</td>\n",
              "      <td>1</td>\n",
              "      <td>0</td>\n",
              "    </tr>\n",
              "    <tr>\n",
              "      <th>...</th>\n",
              "      <td>...</td>\n",
              "      <td>...</td>\n",
              "      <td>...</td>\n",
              "      <td>...</td>\n",
              "      <td>...</td>\n",
              "      <td>...</td>\n",
              "    </tr>\n",
              "    <tr>\n",
              "      <th>317</th>\n",
              "      <td>0</td>\n",
              "      <td>1</td>\n",
              "      <td>1</td>\n",
              "      <td>0</td>\n",
              "      <td>0</td>\n",
              "      <td>1</td>\n",
              "    </tr>\n",
              "    <tr>\n",
              "      <th>318</th>\n",
              "      <td>1</td>\n",
              "      <td>0</td>\n",
              "      <td>1</td>\n",
              "      <td>0</td>\n",
              "      <td>1</td>\n",
              "      <td>0</td>\n",
              "    </tr>\n",
              "    <tr>\n",
              "      <th>319</th>\n",
              "      <td>1</td>\n",
              "      <td>0</td>\n",
              "      <td>0</td>\n",
              "      <td>1</td>\n",
              "      <td>1</td>\n",
              "      <td>0</td>\n",
              "    </tr>\n",
              "    <tr>\n",
              "      <th>320</th>\n",
              "      <td>1</td>\n",
              "      <td>0</td>\n",
              "      <td>1</td>\n",
              "      <td>0</td>\n",
              "      <td>1</td>\n",
              "      <td>0</td>\n",
              "    </tr>\n",
              "    <tr>\n",
              "      <th>321</th>\n",
              "      <td>1</td>\n",
              "      <td>0</td>\n",
              "      <td>0</td>\n",
              "      <td>1</td>\n",
              "      <td>1</td>\n",
              "      <td>0</td>\n",
              "    </tr>\n",
              "  </tbody>\n",
              "</table>\n",
              "<p>263 rows × 6 columns</p>\n",
              "</div>\n",
              "      <button class=\"colab-df-convert\" onclick=\"convertToInteractive('df-82c5cbc6-17c9-42e6-8120-739e6b6ff002')\"\n",
              "              title=\"Convert this dataframe to an interactive table.\"\n",
              "              style=\"display:none;\">\n",
              "        \n",
              "  <svg xmlns=\"http://www.w3.org/2000/svg\" height=\"24px\"viewBox=\"0 0 24 24\"\n",
              "       width=\"24px\">\n",
              "    <path d=\"M0 0h24v24H0V0z\" fill=\"none\"/>\n",
              "    <path d=\"M18.56 5.44l.94 2.06.94-2.06 2.06-.94-2.06-.94-.94-2.06-.94 2.06-2.06.94zm-11 1L8.5 8.5l.94-2.06 2.06-.94-2.06-.94L8.5 2.5l-.94 2.06-2.06.94zm10 10l.94 2.06.94-2.06 2.06-.94-2.06-.94-.94-2.06-.94 2.06-2.06.94z\"/><path d=\"M17.41 7.96l-1.37-1.37c-.4-.4-.92-.59-1.43-.59-.52 0-1.04.2-1.43.59L10.3 9.45l-7.72 7.72c-.78.78-.78 2.05 0 2.83L4 21.41c.39.39.9.59 1.41.59.51 0 1.02-.2 1.41-.59l7.78-7.78 2.81-2.81c.8-.78.8-2.07 0-2.86zM5.41 20L4 18.59l7.72-7.72 1.47 1.35L5.41 20z\"/>\n",
              "  </svg>\n",
              "      </button>\n",
              "      \n",
              "  <style>\n",
              "    .colab-df-container {\n",
              "      display:flex;\n",
              "      flex-wrap:wrap;\n",
              "      gap: 12px;\n",
              "    }\n",
              "\n",
              "    .colab-df-convert {\n",
              "      background-color: #E8F0FE;\n",
              "      border: none;\n",
              "      border-radius: 50%;\n",
              "      cursor: pointer;\n",
              "      display: none;\n",
              "      fill: #1967D2;\n",
              "      height: 32px;\n",
              "      padding: 0 0 0 0;\n",
              "      width: 32px;\n",
              "    }\n",
              "\n",
              "    .colab-df-convert:hover {\n",
              "      background-color: #E2EBFA;\n",
              "      box-shadow: 0px 1px 2px rgba(60, 64, 67, 0.3), 0px 1px 3px 1px rgba(60, 64, 67, 0.15);\n",
              "      fill: #174EA6;\n",
              "    }\n",
              "\n",
              "    [theme=dark] .colab-df-convert {\n",
              "      background-color: #3B4455;\n",
              "      fill: #D2E3FC;\n",
              "    }\n",
              "\n",
              "    [theme=dark] .colab-df-convert:hover {\n",
              "      background-color: #434B5C;\n",
              "      box-shadow: 0px 1px 3px 1px rgba(0, 0, 0, 0.15);\n",
              "      filter: drop-shadow(0px 1px 2px rgba(0, 0, 0, 0.3));\n",
              "      fill: #FFFFFF;\n",
              "    }\n",
              "  </style>\n",
              "\n",
              "      <script>\n",
              "        const buttonEl =\n",
              "          document.querySelector('#df-82c5cbc6-17c9-42e6-8120-739e6b6ff002 button.colab-df-convert');\n",
              "        buttonEl.style.display =\n",
              "          google.colab.kernel.accessAllowed ? 'block' : 'none';\n",
              "\n",
              "        async function convertToInteractive(key) {\n",
              "          const element = document.querySelector('#df-82c5cbc6-17c9-42e6-8120-739e6b6ff002');\n",
              "          const dataTable =\n",
              "            await google.colab.kernel.invokeFunction('convertToInteractive',\n",
              "                                                     [key], {});\n",
              "          if (!dataTable) return;\n",
              "\n",
              "          const docLinkHtml = 'Like what you see? Visit the ' +\n",
              "            '<a target=\"_blank\" href=https://colab.research.google.com/notebooks/data_table.ipynb>data table notebook</a>'\n",
              "            + ' to learn more about interactive tables.';\n",
              "          element.innerHTML = '';\n",
              "          dataTable['output_type'] = 'display_data';\n",
              "          await google.colab.output.renderOutput(dataTable, element);\n",
              "          const docLink = document.createElement('div');\n",
              "          docLink.innerHTML = docLinkHtml;\n",
              "          element.appendChild(docLink);\n",
              "        }\n",
              "      </script>\n",
              "    </div>\n",
              "  </div>\n",
              "  "
            ]
          },
          "metadata": {},
          "execution_count": 12
        }
      ]
    },
    {
      "cell_type": "code",
      "source": [
        "y=df[\"Salary\"]\n",
        "X_ = df.drop([\"Salary\",\"League\",\"Division\",\"NewLeague\"],axis=1).astype(\"float64\")\n",
        "X = pd.concat([X_,dms[[\"League_N\",\"Division_W\",\"NewLeague_N\"]]],axis=1)\n",
        "X_train,X_test,y_train,y_test = train_test_split(X,y,test_size=0.25,random_state=42)"
      ],
      "metadata": {
        "id": "Fk_litj5gCdn"
      },
      "execution_count": null,
      "outputs": []
    },
    {
      "cell_type": "code",
      "source": [
        "X_train.head()"
      ],
      "metadata": {
        "colab": {
          "base_uri": "https://localhost:8080/",
          "height": 270
        },
        "id": "fgDhQkPWgmWk",
        "outputId": "c057faa9-9ab3-4b8c-fddc-d3d0340cf52a"
      },
      "execution_count": null,
      "outputs": [
        {
          "output_type": "execute_result",
          "data": {
            "text/plain": [
              "     AtBat   Hits  HmRun  Runs   RBI  Walks  Years  CAtBat   CHits  CHmRun  \\\n",
              "183  328.0   91.0   12.0  51.0  43.0   33.0    2.0   342.0    94.0    12.0   \n",
              "229  514.0  144.0    0.0  67.0  54.0   79.0    9.0  4739.0  1169.0    13.0   \n",
              "286  593.0  152.0   23.0  69.0  75.0   53.0    6.0  2765.0   686.0   133.0   \n",
              "102  233.0   49.0    2.0  41.0  23.0   18.0    8.0  1350.0   336.0     7.0   \n",
              "153  341.0   95.0    6.0  48.0  42.0   20.0   10.0  2964.0   808.0    81.0   \n",
              "\n",
              "     CRuns   CRBI  CWalks  PutOuts  Assists  Errors  League_N  Division_W  \\\n",
              "183   51.0   44.0    33.0    145.0     59.0     8.0         1           0   \n",
              "229  583.0  374.0   528.0    229.0    453.0    15.0         1           0   \n",
              "286  369.0  384.0   321.0    315.0     10.0     6.0         0           1   \n",
              "102  166.0  122.0   106.0    102.0    132.0    10.0         0           0   \n",
              "153  379.0  428.0   221.0    158.0      4.0     5.0         1           1   \n",
              "\n",
              "     NewLeague_N  \n",
              "183            1  \n",
              "229            1  \n",
              "286            0  \n",
              "102            0  \n",
              "153            1  "
            ],
            "text/html": [
              "\n",
              "  <div id=\"df-a580807e-4ef3-4cc9-8780-b023a782a136\">\n",
              "    <div class=\"colab-df-container\">\n",
              "      <div>\n",
              "<style scoped>\n",
              "    .dataframe tbody tr th:only-of-type {\n",
              "        vertical-align: middle;\n",
              "    }\n",
              "\n",
              "    .dataframe tbody tr th {\n",
              "        vertical-align: top;\n",
              "    }\n",
              "\n",
              "    .dataframe thead th {\n",
              "        text-align: right;\n",
              "    }\n",
              "</style>\n",
              "<table border=\"1\" class=\"dataframe\">\n",
              "  <thead>\n",
              "    <tr style=\"text-align: right;\">\n",
              "      <th></th>\n",
              "      <th>AtBat</th>\n",
              "      <th>Hits</th>\n",
              "      <th>HmRun</th>\n",
              "      <th>Runs</th>\n",
              "      <th>RBI</th>\n",
              "      <th>Walks</th>\n",
              "      <th>Years</th>\n",
              "      <th>CAtBat</th>\n",
              "      <th>CHits</th>\n",
              "      <th>CHmRun</th>\n",
              "      <th>CRuns</th>\n",
              "      <th>CRBI</th>\n",
              "      <th>CWalks</th>\n",
              "      <th>PutOuts</th>\n",
              "      <th>Assists</th>\n",
              "      <th>Errors</th>\n",
              "      <th>League_N</th>\n",
              "      <th>Division_W</th>\n",
              "      <th>NewLeague_N</th>\n",
              "    </tr>\n",
              "  </thead>\n",
              "  <tbody>\n",
              "    <tr>\n",
              "      <th>183</th>\n",
              "      <td>328.0</td>\n",
              "      <td>91.0</td>\n",
              "      <td>12.0</td>\n",
              "      <td>51.0</td>\n",
              "      <td>43.0</td>\n",
              "      <td>33.0</td>\n",
              "      <td>2.0</td>\n",
              "      <td>342.0</td>\n",
              "      <td>94.0</td>\n",
              "      <td>12.0</td>\n",
              "      <td>51.0</td>\n",
              "      <td>44.0</td>\n",
              "      <td>33.0</td>\n",
              "      <td>145.0</td>\n",
              "      <td>59.0</td>\n",
              "      <td>8.0</td>\n",
              "      <td>1</td>\n",
              "      <td>0</td>\n",
              "      <td>1</td>\n",
              "    </tr>\n",
              "    <tr>\n",
              "      <th>229</th>\n",
              "      <td>514.0</td>\n",
              "      <td>144.0</td>\n",
              "      <td>0.0</td>\n",
              "      <td>67.0</td>\n",
              "      <td>54.0</td>\n",
              "      <td>79.0</td>\n",
              "      <td>9.0</td>\n",
              "      <td>4739.0</td>\n",
              "      <td>1169.0</td>\n",
              "      <td>13.0</td>\n",
              "      <td>583.0</td>\n",
              "      <td>374.0</td>\n",
              "      <td>528.0</td>\n",
              "      <td>229.0</td>\n",
              "      <td>453.0</td>\n",
              "      <td>15.0</td>\n",
              "      <td>1</td>\n",
              "      <td>0</td>\n",
              "      <td>1</td>\n",
              "    </tr>\n",
              "    <tr>\n",
              "      <th>286</th>\n",
              "      <td>593.0</td>\n",
              "      <td>152.0</td>\n",
              "      <td>23.0</td>\n",
              "      <td>69.0</td>\n",
              "      <td>75.0</td>\n",
              "      <td>53.0</td>\n",
              "      <td>6.0</td>\n",
              "      <td>2765.0</td>\n",
              "      <td>686.0</td>\n",
              "      <td>133.0</td>\n",
              "      <td>369.0</td>\n",
              "      <td>384.0</td>\n",
              "      <td>321.0</td>\n",
              "      <td>315.0</td>\n",
              "      <td>10.0</td>\n",
              "      <td>6.0</td>\n",
              "      <td>0</td>\n",
              "      <td>1</td>\n",
              "      <td>0</td>\n",
              "    </tr>\n",
              "    <tr>\n",
              "      <th>102</th>\n",
              "      <td>233.0</td>\n",
              "      <td>49.0</td>\n",
              "      <td>2.0</td>\n",
              "      <td>41.0</td>\n",
              "      <td>23.0</td>\n",
              "      <td>18.0</td>\n",
              "      <td>8.0</td>\n",
              "      <td>1350.0</td>\n",
              "      <td>336.0</td>\n",
              "      <td>7.0</td>\n",
              "      <td>166.0</td>\n",
              "      <td>122.0</td>\n",
              "      <td>106.0</td>\n",
              "      <td>102.0</td>\n",
              "      <td>132.0</td>\n",
              "      <td>10.0</td>\n",
              "      <td>0</td>\n",
              "      <td>0</td>\n",
              "      <td>0</td>\n",
              "    </tr>\n",
              "    <tr>\n",
              "      <th>153</th>\n",
              "      <td>341.0</td>\n",
              "      <td>95.0</td>\n",
              "      <td>6.0</td>\n",
              "      <td>48.0</td>\n",
              "      <td>42.0</td>\n",
              "      <td>20.0</td>\n",
              "      <td>10.0</td>\n",
              "      <td>2964.0</td>\n",
              "      <td>808.0</td>\n",
              "      <td>81.0</td>\n",
              "      <td>379.0</td>\n",
              "      <td>428.0</td>\n",
              "      <td>221.0</td>\n",
              "      <td>158.0</td>\n",
              "      <td>4.0</td>\n",
              "      <td>5.0</td>\n",
              "      <td>1</td>\n",
              "      <td>1</td>\n",
              "      <td>1</td>\n",
              "    </tr>\n",
              "  </tbody>\n",
              "</table>\n",
              "</div>\n",
              "      <button class=\"colab-df-convert\" onclick=\"convertToInteractive('df-a580807e-4ef3-4cc9-8780-b023a782a136')\"\n",
              "              title=\"Convert this dataframe to an interactive table.\"\n",
              "              style=\"display:none;\">\n",
              "        \n",
              "  <svg xmlns=\"http://www.w3.org/2000/svg\" height=\"24px\"viewBox=\"0 0 24 24\"\n",
              "       width=\"24px\">\n",
              "    <path d=\"M0 0h24v24H0V0z\" fill=\"none\"/>\n",
              "    <path d=\"M18.56 5.44l.94 2.06.94-2.06 2.06-.94-2.06-.94-.94-2.06-.94 2.06-2.06.94zm-11 1L8.5 8.5l.94-2.06 2.06-.94-2.06-.94L8.5 2.5l-.94 2.06-2.06.94zm10 10l.94 2.06.94-2.06 2.06-.94-2.06-.94-.94-2.06-.94 2.06-2.06.94z\"/><path d=\"M17.41 7.96l-1.37-1.37c-.4-.4-.92-.59-1.43-.59-.52 0-1.04.2-1.43.59L10.3 9.45l-7.72 7.72c-.78.78-.78 2.05 0 2.83L4 21.41c.39.39.9.59 1.41.59.51 0 1.02-.2 1.41-.59l7.78-7.78 2.81-2.81c.8-.78.8-2.07 0-2.86zM5.41 20L4 18.59l7.72-7.72 1.47 1.35L5.41 20z\"/>\n",
              "  </svg>\n",
              "      </button>\n",
              "      \n",
              "  <style>\n",
              "    .colab-df-container {\n",
              "      display:flex;\n",
              "      flex-wrap:wrap;\n",
              "      gap: 12px;\n",
              "    }\n",
              "\n",
              "    .colab-df-convert {\n",
              "      background-color: #E8F0FE;\n",
              "      border: none;\n",
              "      border-radius: 50%;\n",
              "      cursor: pointer;\n",
              "      display: none;\n",
              "      fill: #1967D2;\n",
              "      height: 32px;\n",
              "      padding: 0 0 0 0;\n",
              "      width: 32px;\n",
              "    }\n",
              "\n",
              "    .colab-df-convert:hover {\n",
              "      background-color: #E2EBFA;\n",
              "      box-shadow: 0px 1px 2px rgba(60, 64, 67, 0.3), 0px 1px 3px 1px rgba(60, 64, 67, 0.15);\n",
              "      fill: #174EA6;\n",
              "    }\n",
              "\n",
              "    [theme=dark] .colab-df-convert {\n",
              "      background-color: #3B4455;\n",
              "      fill: #D2E3FC;\n",
              "    }\n",
              "\n",
              "    [theme=dark] .colab-df-convert:hover {\n",
              "      background-color: #434B5C;\n",
              "      box-shadow: 0px 1px 3px 1px rgba(0, 0, 0, 0.15);\n",
              "      filter: drop-shadow(0px 1px 2px rgba(0, 0, 0, 0.3));\n",
              "      fill: #FFFFFF;\n",
              "    }\n",
              "  </style>\n",
              "\n",
              "      <script>\n",
              "        const buttonEl =\n",
              "          document.querySelector('#df-a580807e-4ef3-4cc9-8780-b023a782a136 button.colab-df-convert');\n",
              "        buttonEl.style.display =\n",
              "          google.colab.kernel.accessAllowed ? 'block' : 'none';\n",
              "\n",
              "        async function convertToInteractive(key) {\n",
              "          const element = document.querySelector('#df-a580807e-4ef3-4cc9-8780-b023a782a136');\n",
              "          const dataTable =\n",
              "            await google.colab.kernel.invokeFunction('convertToInteractive',\n",
              "                                                     [key], {});\n",
              "          if (!dataTable) return;\n",
              "\n",
              "          const docLinkHtml = 'Like what you see? Visit the ' +\n",
              "            '<a target=\"_blank\" href=https://colab.research.google.com/notebooks/data_table.ipynb>data table notebook</a>'\n",
              "            + ' to learn more about interactive tables.';\n",
              "          element.innerHTML = '';\n",
              "          dataTable['output_type'] = 'display_data';\n",
              "          await google.colab.output.renderOutput(dataTable, element);\n",
              "          const docLink = document.createElement('div');\n",
              "          docLink.innerHTML = docLinkHtml;\n",
              "          element.appendChild(docLink);\n",
              "        }\n",
              "      </script>\n",
              "    </div>\n",
              "  </div>\n",
              "  "
            ]
          },
          "metadata": {},
          "execution_count": 14
        }
      ]
    },
    {
      "cell_type": "code",
      "source": [
        "knn_model = KNeighborsRegressor().fit(X_train,y_train)\n"
      ],
      "metadata": {
        "id": "tfcVhtTHgnBc"
      },
      "execution_count": null,
      "outputs": []
    },
    {
      "cell_type": "code",
      "source": [
        "knn_model"
      ],
      "metadata": {
        "colab": {
          "base_uri": "https://localhost:8080/"
        },
        "id": "JEOLp_OzgvQ-",
        "outputId": "0eaacf00-2b83-40da-bbef-c8156c223ab4"
      },
      "execution_count": null,
      "outputs": [
        {
          "output_type": "execute_result",
          "data": {
            "text/plain": [
              "KNeighborsRegressor()"
            ]
          },
          "metadata": {},
          "execution_count": 16
        }
      ]
    },
    {
      "cell_type": "code",
      "source": [
        "knn_model.n_neighbors\n"
      ],
      "metadata": {
        "colab": {
          "base_uri": "https://localhost:8080/"
        },
        "id": "i_Pi4sIOg5NG",
        "outputId": "66b23d75-2da4-4945-b04e-3f02fb973f4b"
      },
      "execution_count": null,
      "outputs": [
        {
          "output_type": "execute_result",
          "data": {
            "text/plain": [
              "5"
            ]
          },
          "metadata": {},
          "execution_count": 17
        }
      ]
    },
    {
      "cell_type": "code",
      "source": [
        "knn_model.metric\n"
      ],
      "metadata": {
        "colab": {
          "base_uri": "https://localhost:8080/",
          "height": 35
        },
        "id": "0Dp_Cbflg9nG",
        "outputId": "f1b79370-cf2f-42fb-f8bb-96acc8bb3200"
      },
      "execution_count": null,
      "outputs": [
        {
          "output_type": "execute_result",
          "data": {
            "text/plain": [
              "'minkowski'"
            ],
            "application/vnd.google.colaboratory.intrinsic+json": {
              "type": "string"
            }
          },
          "metadata": {},
          "execution_count": 18
        }
      ]
    },
    {
      "cell_type": "code",
      "source": [
        "dir(knn_model)\n"
      ],
      "metadata": {
        "id": "EkUNjaGJg_5e"
      },
      "execution_count": null,
      "outputs": []
    },
    {
      "cell_type": "code",
      "source": [
        "knn_model.predict(X_test)[0:5]\n"
      ],
      "metadata": {
        "colab": {
          "base_uri": "https://localhost:8080/"
        },
        "id": "5aW--ARohEjP",
        "outputId": "3c925eb9-3efa-4594-d250-49b5bfd7f4db"
      },
      "execution_count": null,
      "outputs": [
        {
          "output_type": "execute_result",
          "data": {
            "text/plain": [
              "array([ 510.3334,  808.3334,  772.5   ,  125.5   , 1005.    ])"
            ]
          },
          "metadata": {},
          "execution_count": 20
        }
      ]
    },
    {
      "cell_type": "code",
      "source": [
        "y_pred = knn_model.predict(X_test)\n"
      ],
      "metadata": {
        "id": "15-RAF-vhLj5"
      },
      "execution_count": null,
      "outputs": []
    },
    {
      "cell_type": "code",
      "source": [
        "np.sqrt(mean_squared_error(y_test,y_pred))\n"
      ],
      "metadata": {
        "colab": {
          "base_uri": "https://localhost:8080/"
        },
        "id": "ujhp4xo6hOrj",
        "outputId": "7092cc26-4c19-4ebf-efac-0e42d5486490"
      },
      "execution_count": null,
      "outputs": [
        {
          "output_type": "execute_result",
          "data": {
            "text/plain": [
              "426.6570764525201"
            ]
          },
          "metadata": {},
          "execution_count": 22
        }
      ]
    },
    {
      "cell_type": "code",
      "source": [
        "RMSE = []\n",
        "\n",
        "for k in range(10):\n",
        "    k = k+1\n",
        "    knn_model = KNeighborsRegressor(n_neighbors = k).fit(X_train,y_train)\n",
        "    y_pred = knn_model.predict(X_test)\n",
        "    rmse = np.sqrt(mean_squared_error(y_test,y_pred))\n",
        "    RMSE.append(rmse)\n",
        "    print(\"k=\", k , \" için RMSE değeri \",rmse)\n",
        "    "
      ],
      "metadata": {
        "colab": {
          "base_uri": "https://localhost:8080/"
        },
        "id": "sOo7EAiUhuS3",
        "outputId": "fee727d9-ecaa-4d7f-813f-54b4bdaf2cd1"
      },
      "execution_count": null,
      "outputs": [
        {
          "output_type": "stream",
          "name": "stdout",
          "text": [
            "k= 1  için RMSE değeri  455.03925390751965\n",
            "k= 2  için RMSE değeri  415.99629571490965\n",
            "k= 3  için RMSE değeri  420.6765370082348\n",
            "k= 4  için RMSE değeri  428.8564674588792\n",
            "k= 5  için RMSE değeri  426.6570764525201\n",
            "k= 6  için RMSE değeri  423.5071669008732\n",
            "k= 7  için RMSE değeri  414.9361222421057\n",
            "k= 8  için RMSE değeri  413.7094731463598\n",
            "k= 9  için RMSE değeri  417.84419990871265\n",
            "k= 10  için RMSE değeri  421.6252180741266\n"
          ]
        }
      ]
    },
    {
      "cell_type": "code",
      "source": [
        "knn_params = {\"n_neighbors\": np.arange(1,30,1)}\n"
      ],
      "metadata": {
        "id": "sR-pkAYQi2ll"
      },
      "execution_count": null,
      "outputs": []
    },
    {
      "cell_type": "code",
      "source": [
        "knn = KNeighborsRegressor()\n"
      ],
      "metadata": {
        "id": "OshDix_vjAFR"
      },
      "execution_count": null,
      "outputs": []
    },
    {
      "cell_type": "code",
      "source": [
        "knn_cv_model = GridSearchCV(knn,knn_params,cv=10).fit(X_train,y_train)\n"
      ],
      "metadata": {
        "id": "34W-TDZEjBFj"
      },
      "execution_count": null,
      "outputs": []
    },
    {
      "cell_type": "code",
      "source": [
        "knn_cv_model.best_params_\n"
      ],
      "metadata": {
        "colab": {
          "base_uri": "https://localhost:8080/"
        },
        "id": "jrDGwVm1jJza",
        "outputId": "6ccbab24-34bb-42dc-d0a3-5e2e6d554fdf"
      },
      "execution_count": null,
      "outputs": [
        {
          "output_type": "execute_result",
          "data": {
            "text/plain": [
              "{'n_neighbors': 8}"
            ]
          },
          "metadata": {},
          "execution_count": 27
        }
      ]
    },
    {
      "cell_type": "code",
      "source": [
        "knn_tuned = KNeighborsRegressor(n_neighbors = knn_cv_model.best_params_[\"n_neighbors\"]).fit(X_train,y_train)\n"
      ],
      "metadata": {
        "id": "YsiBDP75jOvJ"
      },
      "execution_count": null,
      "outputs": []
    },
    {
      "cell_type": "code",
      "source": [
        "y_pred = knn_tuned.predict(X_test)\n",
        "np.sqrt(mean_squared_error(y_test,y_pred))"
      ],
      "metadata": {
        "colab": {
          "base_uri": "https://localhost:8080/"
        },
        "id": "lZM9Q8oRjVnR",
        "outputId": "69bcab9b-f2cb-43a4-9f89-4756f5d47fed"
      },
      "execution_count": null,
      "outputs": [
        {
          "output_type": "execute_result",
          "data": {
            "text/plain": [
              "413.7094731463598"
            ]
          },
          "metadata": {},
          "execution_count": 29
        }
      ]
    },
    {
      "cell_type": "code",
      "source": [
        "scaler = StandardScaler() "
      ],
      "metadata": {
        "id": "PC5kSI0GmDZP"
      },
      "execution_count": null,
      "outputs": []
    },
    {
      "cell_type": "code",
      "source": [
        "scaler.fit(X_train)\n",
        "X_train_scaled = scaler.transform(X_train)"
      ],
      "metadata": {
        "id": "zqsS6OSgsge7"
      },
      "execution_count": null,
      "outputs": []
    },
    {
      "cell_type": "code",
      "source": [
        "X_test_scaled = scaler.transform(X_test)\n"
      ],
      "metadata": {
        "id": "bh8HUP6vtBQQ"
      },
      "execution_count": null,
      "outputs": []
    },
    {
      "cell_type": "code",
      "source": [
        "mlp_model = MLPRegressor().fit(X_train_scaled,y_train)\n"
      ],
      "metadata": {
        "colab": {
          "base_uri": "https://localhost:8080/"
        },
        "id": "Y6LxVJngtEst",
        "outputId": "a18a8e93-60cb-42f3-c32f-c739bed32710"
      },
      "execution_count": null,
      "outputs": [
        {
          "output_type": "stream",
          "name": "stderr",
          "text": [
            "/usr/local/lib/python3.7/dist-packages/sklearn/neural_network/_multilayer_perceptron.py:696: ConvergenceWarning: Stochastic Optimizer: Maximum iterations (200) reached and the optimization hasn't converged yet.\n",
            "  ConvergenceWarning,\n"
          ]
        }
      ]
    },
    {
      "cell_type": "code",
      "source": [
        "mlp_model\n"
      ],
      "metadata": {
        "colab": {
          "base_uri": "https://localhost:8080/"
        },
        "id": "__kUB4sQtJ5p",
        "outputId": "a634081f-5e7c-42b2-ee3e-3ce7ff8ac095"
      },
      "execution_count": null,
      "outputs": [
        {
          "output_type": "execute_result",
          "data": {
            "text/plain": [
              "MLPRegressor()"
            ]
          },
          "metadata": {},
          "execution_count": 38
        }
      ]
    },
    {
      "cell_type": "code",
      "source": [
        "mlp_model.predict(X_test_scaled)[0:5]\n"
      ],
      "metadata": {
        "colab": {
          "base_uri": "https://localhost:8080/"
        },
        "id": "ErD5tcidtLoo",
        "outputId": "d2bf7f0a-f816-4acc-8f55-11760a897d19"
      },
      "execution_count": null,
      "outputs": [
        {
          "output_type": "execute_result",
          "data": {
            "text/plain": [
              "array([20.49221345, 38.55140616, 71.20998944, 11.1555374 , 22.57701039])"
            ]
          },
          "metadata": {},
          "execution_count": 39
        }
      ]
    },
    {
      "cell_type": "code",
      "source": [
        "y_pred = mlp_model.predict(X_test_scaled)\n"
      ],
      "metadata": {
        "id": "ZNSVaaAytcgZ"
      },
      "execution_count": null,
      "outputs": []
    },
    {
      "cell_type": "code",
      "source": [
        "np.sqrt(mean_squared_error(y_test,y_pred))\n"
      ],
      "metadata": {
        "colab": {
          "base_uri": "https://localhost:8080/"
        },
        "id": "BrcmZ6ITteaB",
        "outputId": "a0e50484-fdec-413a-ffd3-fdb7b86d0fe4"
      },
      "execution_count": null,
      "outputs": [
        {
          "output_type": "execute_result",
          "data": {
            "text/plain": [
              "658.412425342569"
            ]
          },
          "metadata": {},
          "execution_count": 41
        }
      ]
    },
    {
      "cell_type": "code",
      "source": [
        "mlp_params = {\"alpha\" : [0.1,0.01,0.02,0.001,0.0001],\n",
        "             \"hidden_layer_sizes\": [(10,20),(5,5),(100,100)]}"
      ],
      "metadata": {
        "id": "QkoijWRJuPnU"
      },
      "execution_count": null,
      "outputs": []
    },
    {
      "cell_type": "code",
      "source": [
        "mlp_cv_model = GridSearchCV(mlp_model,mlp_params,cv=5,verbose = 2,n_jobs =-1).fit(X_train,y_train)\n"
      ],
      "metadata": {
        "colab": {
          "base_uri": "https://localhost:8080/"
        },
        "id": "hnZeAW4FvHU9",
        "outputId": "e55e2fa1-31c2-4458-bf85-aad5c9ac1d0a"
      },
      "execution_count": null,
      "outputs": [
        {
          "output_type": "stream",
          "name": "stdout",
          "text": [
            "Fitting 5 folds for each of 15 candidates, totalling 75 fits\n"
          ]
        },
        {
          "output_type": "stream",
          "name": "stderr",
          "text": [
            "/usr/local/lib/python3.7/dist-packages/sklearn/neural_network/_multilayer_perceptron.py:696: ConvergenceWarning: Stochastic Optimizer: Maximum iterations (200) reached and the optimization hasn't converged yet.\n",
            "  ConvergenceWarning,\n"
          ]
        }
      ]
    },
    {
      "cell_type": "code",
      "source": [
        "mlp_cv_model.best_params_\n"
      ],
      "metadata": {
        "colab": {
          "base_uri": "https://localhost:8080/"
        },
        "id": "bBtT5oW_vemH",
        "outputId": "55cd00db-fcfd-40dc-c712-04a8008be0e2"
      },
      "execution_count": null,
      "outputs": [
        {
          "output_type": "execute_result",
          "data": {
            "text/plain": [
              "{'alpha': 0.1, 'hidden_layer_sizes': (100, 100)}"
            ]
          },
          "metadata": {},
          "execution_count": 44
        }
      ]
    },
    {
      "cell_type": "code",
      "source": [
        "mlp_tuned = MLPRegressor(alpha=0.1,hidden_layer_sizes=(100,100)).fit(X_train_scaled,y_train)\n"
      ],
      "metadata": {
        "colab": {
          "base_uri": "https://localhost:8080/"
        },
        "id": "Vi0okyCave2l",
        "outputId": "4073cd52-3a9c-400c-ae29-b822349b7e7e"
      },
      "execution_count": null,
      "outputs": [
        {
          "output_type": "stream",
          "name": "stderr",
          "text": [
            "/usr/local/lib/python3.7/dist-packages/sklearn/neural_network/_multilayer_perceptron.py:696: ConvergenceWarning: Stochastic Optimizer: Maximum iterations (200) reached and the optimization hasn't converged yet.\n",
            "  ConvergenceWarning,\n"
          ]
        }
      ]
    },
    {
      "cell_type": "code",
      "source": [
        "y_pred=mlp_tuned.predict(X_test_scaled)\n"
      ],
      "metadata": {
        "id": "7CKj_O-yv4SP"
      },
      "execution_count": null,
      "outputs": []
    },
    {
      "cell_type": "code",
      "source": [
        "np.sqrt(mean_squared_error(y_test,y_pred))\n"
      ],
      "metadata": {
        "colab": {
          "base_uri": "https://localhost:8080/"
        },
        "id": "LiutAtu0v74d",
        "outputId": "d860017f-6e30-43fe-e684-5f29abd7fe77"
      },
      "execution_count": null,
      "outputs": [
        {
          "output_type": "execute_result",
          "data": {
            "text/plain": [
              "362.76019251092583"
            ]
          },
          "metadata": {},
          "execution_count": 47
        }
      ]
    },
    {
      "cell_type": "code",
      "source": [
        "X_train = pd.DataFrame(X_train[\"Hits\"])\n",
        "X_test = pd.DataFrame(X_test[\"Hits\"])"
      ],
      "metadata": {
        "id": "3VNdME9W3lt3"
      },
      "execution_count": null,
      "outputs": []
    },
    {
      "cell_type": "code",
      "source": [
        "cart_model = DecisionTreeRegressor(max_leaf_nodes = 3)\n"
      ],
      "metadata": {
        "id": "z2WOn1cp3otb"
      },
      "execution_count": null,
      "outputs": []
    },
    {
      "cell_type": "code",
      "source": [
        "cart_model.fit(X_train,y_train)\n"
      ],
      "metadata": {
        "colab": {
          "base_uri": "https://localhost:8080/"
        },
        "id": "mygcR1Xu3s8N",
        "outputId": "9ead5c85-c97c-4062-b895-97a386b2a8ff"
      },
      "execution_count": null,
      "outputs": [
        {
          "output_type": "execute_result",
          "data": {
            "text/plain": [
              "DecisionTreeRegressor(max_leaf_nodes=3)"
            ]
          },
          "metadata": {},
          "execution_count": 50
        }
      ]
    },
    {
      "cell_type": "code",
      "source": [
        "cart_model.predict(X_test)[0:5]\n"
      ],
      "metadata": {
        "colab": {
          "base_uri": "https://localhost:8080/"
        },
        "id": "ZEMaX1Et3uOH",
        "outputId": "bb246d87-c972-4e7c-a843-ce7101cdf25c"
      },
      "execution_count": null,
      "outputs": [
        {
          "output_type": "execute_result",
          "data": {
            "text/plain": [
              "array([813.0988    , 813.0988    , 813.0988    , 345.20115517,\n",
              "       345.20115517])"
            ]
          },
          "metadata": {},
          "execution_count": 51
        }
      ]
    },
    {
      "cell_type": "code",
      "source": [
        "y_pred = cart_model.predict(X_test)\n"
      ],
      "metadata": {
        "id": "fIJUb-aE3wQL"
      },
      "execution_count": null,
      "outputs": []
    },
    {
      "cell_type": "code",
      "source": [
        "np.sqrt(mean_squared_error(y_test,y_pred))\n"
      ],
      "metadata": {
        "colab": {
          "base_uri": "https://localhost:8080/"
        },
        "id": "6CUZuBZI3xW0",
        "outputId": "6b116a48-5252-402b-fb67-ca9f36431cd0"
      },
      "execution_count": null,
      "outputs": [
        {
          "output_type": "execute_result",
          "data": {
            "text/plain": [
              "460.0663148428844"
            ]
          },
          "metadata": {},
          "execution_count": 53
        }
      ]
    },
    {
      "cell_type": "code",
      "source": [
        "X_train,X_test,y_train,y_test = train_test_split(X,y,test_size=0.25,random_state=42)\n"
      ],
      "metadata": {
        "id": "fDdBXd-15RM5"
      },
      "execution_count": null,
      "outputs": []
    },
    {
      "cell_type": "code",
      "source": [
        "cart_model = DecisionTreeRegressor().fit(X_train,y_train)\n"
      ],
      "metadata": {
        "id": "aV2TdSQP5TG7"
      },
      "execution_count": null,
      "outputs": []
    },
    {
      "cell_type": "code",
      "source": [
        "y_pred = cart_model.predict(X_test)\n"
      ],
      "metadata": {
        "id": "5C3mQ9EC5Ipg"
      },
      "execution_count": null,
      "outputs": []
    },
    {
      "cell_type": "code",
      "source": [
        "np.sqrt(mean_squared_error(y_test,y_pred))\n"
      ],
      "metadata": {
        "colab": {
          "base_uri": "https://localhost:8080/"
        },
        "id": "EpiXoYAG5Wg-",
        "outputId": "1efd45ab-c77e-434e-a3e5-98176b7a666c"
      },
      "execution_count": null,
      "outputs": [
        {
          "output_type": "execute_result",
          "data": {
            "text/plain": [
              "449.25440345239093"
            ]
          },
          "metadata": {},
          "execution_count": 58
        }
      ]
    },
    {
      "cell_type": "code",
      "source": [
        "cart_model"
      ],
      "metadata": {
        "colab": {
          "base_uri": "https://localhost:8080/"
        },
        "id": "acuXkZnv5yYC",
        "outputId": "bcb22a39-9ecf-4cd7-fa3d-760ef420ef8d"
      },
      "execution_count": null,
      "outputs": [
        {
          "output_type": "execute_result",
          "data": {
            "text/plain": [
              "DecisionTreeRegressor()"
            ]
          },
          "metadata": {},
          "execution_count": 59
        }
      ]
    },
    {
      "cell_type": "code",
      "source": [
        "cart_model = DecisionTreeRegressor(max_depth=3).fit(X_train,y_train)\n",
        "y_pred = cart_model.predict(X_test)\n",
        "np.sqrt(mean_squared_error(y_test,y_pred))"
      ],
      "metadata": {
        "colab": {
          "base_uri": "https://localhost:8080/"
        },
        "id": "mIw0te2m55ah",
        "outputId": "f5f54e82-806a-440a-faaf-e83c24dbc23d"
      },
      "execution_count": null,
      "outputs": [
        {
          "output_type": "execute_result",
          "data": {
            "text/plain": [
              "391.5530522634766"
            ]
          },
          "metadata": {},
          "execution_count": 62
        }
      ]
    },
    {
      "cell_type": "markdown",
      "source": [],
      "metadata": {
        "id": "msZPiCRc8D9s"
      }
    },
    {
      "cell_type": "code",
      "source": [
        "cart_params = {\"max_depth\":[1,3,4,5,10,20],\"min_samples_split\":[2,10,5,30,50,100]}\n"
      ],
      "metadata": {
        "id": "zcXqi0aP7AU2"
      },
      "execution_count": null,
      "outputs": []
    },
    {
      "cell_type": "code",
      "source": [
        "cart_cv_model = GridSearchCV(cart_model,cart_params,cv=10).fit(X_train,y_train)\n"
      ],
      "metadata": {
        "id": "0cMy2AHO8AcS"
      },
      "execution_count": null,
      "outputs": []
    },
    {
      "cell_type": "code",
      "source": [
        "cart_cv_model.best_params_\n"
      ],
      "metadata": {
        "colab": {
          "base_uri": "https://localhost:8080/"
        },
        "id": "5Pm8MWP-8F8n",
        "outputId": "5713e7c3-c2b0-441b-a537-476a8658bae0"
      },
      "execution_count": null,
      "outputs": [
        {
          "output_type": "execute_result",
          "data": {
            "text/plain": [
              "{'max_depth': 4, 'min_samples_split': 50}"
            ]
          },
          "metadata": {},
          "execution_count": 65
        }
      ]
    },
    {
      "cell_type": "code",
      "source": [
        "cart_tuned = DecisionTreeRegressor(max_depth=4,min_samples_split=50).fit(X_train,y_train)\n"
      ],
      "metadata": {
        "id": "oEnZ9VQO8Jeb"
      },
      "execution_count": null,
      "outputs": []
    },
    {
      "cell_type": "code",
      "source": [
        "y_pred = cart_tuned.predict(X_test)\n",
        "np.sqrt(mean_squared_error(y_test,y_pred))"
      ],
      "metadata": {
        "colab": {
          "base_uri": "https://localhost:8080/"
        },
        "id": "64u4iHVh8NFP",
        "outputId": "be476d9d-1593-413d-db41-1dfa61858086"
      },
      "execution_count": null,
      "outputs": [
        {
          "output_type": "execute_result",
          "data": {
            "text/plain": [
              "361.0876906511434"
            ]
          },
          "metadata": {},
          "execution_count": 67
        }
      ]
    },
    {
      "cell_type": "code",
      "source": [
        "rf_model = RandomForestRegressor(random_state=42).fit(X_train,y_train)\n"
      ],
      "metadata": {
        "id": "2Ku_PsAXDf3B"
      },
      "execution_count": null,
      "outputs": []
    },
    {
      "cell_type": "code",
      "source": [
        "rf_model\n"
      ],
      "metadata": {
        "colab": {
          "base_uri": "https://localhost:8080/"
        },
        "id": "UxiseF6dDhcp",
        "outputId": "f8d12fc6-080e-4d07-9e70-ff888922617a"
      },
      "execution_count": null,
      "outputs": [
        {
          "output_type": "execute_result",
          "data": {
            "text/plain": [
              "RandomForestRegressor(random_state=42)"
            ]
          },
          "metadata": {},
          "execution_count": 69
        }
      ]
    },
    {
      "cell_type": "code",
      "source": [
        "y_pred = rf_model.predict(X_test)\n"
      ],
      "metadata": {
        "id": "rC7OM3TpDihz"
      },
      "execution_count": null,
      "outputs": []
    },
    {
      "cell_type": "code",
      "source": [
        "np.sqrt(mean_squared_error(y_test,y_pred))\n"
      ],
      "metadata": {
        "colab": {
          "base_uri": "https://localhost:8080/"
        },
        "id": "5lDPh7_7DmfX",
        "outputId": "46601c9d-8488-43b5-e8b5-5ebfeca26543"
      },
      "execution_count": null,
      "outputs": [
        {
          "output_type": "execute_result",
          "data": {
            "text/plain": [
              "344.8191624908484"
            ]
          },
          "metadata": {},
          "execution_count": 71
        }
      ]
    },
    {
      "cell_type": "code",
      "source": [
        "rf_params = {\"max_depth\": [5,8],\n",
        "            \"max_features\": [2,5],\n",
        "            \"n_estimators\":[200,500,1000],\n",
        "            \"min_samples_split\":[2,10,80]}"
      ],
      "metadata": {
        "id": "R991IXa4E6fp"
      },
      "execution_count": null,
      "outputs": []
    },
    {
      "cell_type": "code",
      "source": [
        "rf_cv_model = GridSearchCV(rf_model,rf_params,cv=10,n_jobs=-1,verbose=2).fit(X_train,y_train)\n"
      ],
      "metadata": {
        "colab": {
          "base_uri": "https://localhost:8080/"
        },
        "id": "dH3lML93D9sO",
        "outputId": "89b53c25-0c4d-4434-faac-d9269072df62"
      },
      "execution_count": null,
      "outputs": [
        {
          "output_type": "stream",
          "name": "stdout",
          "text": [
            "Fitting 10 folds for each of 36 candidates, totalling 360 fits\n"
          ]
        }
      ]
    },
    {
      "cell_type": "code",
      "source": [
        "rf_cv_model.best_params_\n"
      ],
      "metadata": {
        "colab": {
          "base_uri": "https://localhost:8080/"
        },
        "id": "Y91soyHVFzBK",
        "outputId": "56dec5ed-17b2-46a6-e926-fb5660229efb"
      },
      "execution_count": null,
      "outputs": [
        {
          "output_type": "execute_result",
          "data": {
            "text/plain": [
              "{'max_depth': 8,\n",
              " 'max_features': 2,\n",
              " 'min_samples_split': 2,\n",
              " 'n_estimators': 200}"
            ]
          },
          "metadata": {},
          "execution_count": 75
        }
      ]
    },
    {
      "cell_type": "code",
      "source": [
        "rf_model = RandomForestRegressor(random_state=42,\n",
        "                                max_depth=8,\n",
        "                                max_features=2,\n",
        "                                min_samples_split=2,\n",
        "                                n_estimators=200)\n",
        "rf_tuned=rf_model.fit(X_train,y_train)"
      ],
      "metadata": {
        "id": "2b3112zUF2W9"
      },
      "execution_count": null,
      "outputs": []
    },
    {
      "cell_type": "code",
      "source": [
        "y_pred = rf_tuned.predict(X_test)\n"
      ],
      "metadata": {
        "id": "A1FUvLujF5Vz"
      },
      "execution_count": null,
      "outputs": []
    },
    {
      "cell_type": "code",
      "source": [
        "np.sqrt(mean_squared_error(y_test,y_pred))\n"
      ],
      "metadata": {
        "colab": {
          "base_uri": "https://localhost:8080/"
        },
        "id": "v9dOCviHF6UR",
        "outputId": "f4c0aee0-d1d9-4dfc-804e-ec9dd55078a6"
      },
      "execution_count": null,
      "outputs": [
        {
          "output_type": "execute_result",
          "data": {
            "text/plain": [
              "349.1649379391149"
            ]
          },
          "metadata": {},
          "execution_count": 78
        }
      ]
    },
    {
      "cell_type": "code",
      "source": [
        "Importance = pd.DataFrame({'Importance':rf_tuned.feature_importances_*100},\n",
        "                         index=X_train.columns)\n",
        "\n",
        "Importance.sort_values(by='Importance',\n",
        "                      axis=0,\n",
        "                      ascending = True).plot(kind = 'barh',\n",
        "                                           color = 'b',)\n",
        "\n",
        "plt.xlabel('Variable Importance')\n",
        "plt.gca().legend_=None"
      ],
      "metadata": {
        "colab": {
          "base_uri": "https://localhost:8080/",
          "height": 279
        },
        "id": "GmjL19nTGp97",
        "outputId": "587ff48a-5769-4ca2-b6fa-8c716902d1bd"
      },
      "execution_count": null,
      "outputs": [
        {
          "output_type": "display_data",
          "data": {
            "text/plain": [
              "<Figure size 432x288 with 1 Axes>"
            ],
            "image/png": "[encoded data removed]"
          },
          "metadata": {
            "needs_background": "light"
          }
        }
      ]
    },
    {
      "cell_type": "code",
      "source": [
        "gbm_model = GradientBoostingRegressor().fit(X_train,y_train)\n"
      ],
      "metadata": {
        "id": "3-MS9uSlIVUb"
      },
      "execution_count": null,
      "outputs": []
    },
    {
      "cell_type": "code",
      "source": [
        "gbm_model"
      ],
      "metadata": {
        "colab": {
          "base_uri": "https://localhost:8080/"
        },
        "id": "vi-577PpIW-r",
        "outputId": "cd09c9af-28d0-42be-8673-086d3312bb29"
      },
      "execution_count": null,
      "outputs": [
        {
          "output_type": "execute_result",
          "data": {
            "text/plain": [
              "GradientBoostingRegressor()"
            ]
          },
          "metadata": {},
          "execution_count": 81
        }
      ]
    },
    {
      "cell_type": "code",
      "source": [
        "y_pred = gbm_model.predict(X_test)\n"
      ],
      "metadata": {
        "id": "CIoglyNZIYGj"
      },
      "execution_count": null,
      "outputs": []
    },
    {
      "cell_type": "code",
      "source": [
        "np.sqrt(mean_squared_error(y_test,y_pred))\n"
      ],
      "metadata": {
        "colab": {
          "base_uri": "https://localhost:8080/"
        },
        "id": "_WJlwwk8IZgf",
        "outputId": "22e407b5-2f53-4941-a16e-0e9845a16670"
      },
      "execution_count": null,
      "outputs": [
        {
          "output_type": "execute_result",
          "data": {
            "text/plain": [
              "342.4826294124384"
            ]
          },
          "metadata": {},
          "execution_count": 84
        }
      ]
    },
    {
      "cell_type": "code",
      "source": [
        "gbm_model = GradientBoostingRegressor().fit(X_train,y_train)\n"
      ],
      "metadata": {
        "id": "ZR4EiyYHIcHJ"
      },
      "execution_count": null,
      "outputs": []
    },
    {
      "cell_type": "code",
      "source": [
        "gbm_params = {\"learning_rate\":[0.1,0.01],\n",
        "             \"max_depth\":[3,5],\n",
        "             \"n_estimators\":[200,500],\n",
        "             \"subsample\":[1,0.5,0.8]}"
      ],
      "metadata": {
        "id": "mOO_NLEOIgMR"
      },
      "execution_count": null,
      "outputs": []
    },
    {
      "cell_type": "code",
      "source": [
        "gbm_cv_model = GridSearchCV(gbm_model,gbm_params,cv=10,\n",
        "                            n_jobs=1,verbose = 2).fit(X_train,y_train)"
      ],
      "metadata": {
        "colab": {
          "base_uri": "https://localhost:8080/"
        },
        "id": "cIDIwwjeIejl",
        "outputId": "a1327a3e-9a80-4c8f-9c5c-43ccb23bd330"
      },
      "execution_count": null,
      "outputs": [
        {
          "output_type": "stream",
          "name": "stdout",
          "text": [
            "Fitting 10 folds for each of 24 candidates, totalling 240 fits\n",
            "[CV] END learning_rate=0.1, max_depth=3, n_estimators=200, subsample=1; total time=   0.2s\n",
            "[CV] END learning_rate=0.1, max_depth=3, n_estimators=200, subsample=1; total time=   0.2s\n",
            "[CV] END learning_rate=0.1, max_depth=3, n_estimators=200, subsample=1; total time=   0.2s\n",
            "[CV] END learning_rate=0.1, max_depth=3, n_estimators=200, subsample=1; total time=   0.2s\n",
            "[CV] END learning_rate=0.1, max_depth=3, n_estimators=200, subsample=1; total time=   0.2s\n",
            "[CV] END learning_rate=0.1, max_depth=3, n_estimators=200, subsample=1; total time=   0.2s\n",
            "[CV] END learning_rate=0.1, max_depth=3, n_estimators=200, subsample=1; total time=   0.2s\n",
            "[CV] END learning_rate=0.1, max_depth=3, n_estimators=200, subsample=1; total time=   0.2s\n",
            "[CV] END learning_rate=0.1, max_depth=3, n_estimators=200, subsample=1; total time=   0.2s\n",
            "[CV] END learning_rate=0.1, max_depth=3, n_estimators=200, subsample=1; total time=   0.2s\n",
            "[CV] END learning_rate=0.1, max_depth=3, n_estimators=200, subsample=0.5; total time=   0.1s\n",
            "[CV] END learning_rate=0.1, max_depth=3, n_estimators=200, subsample=0.5; total time=   0.1s\n",
            "[CV] END learning_rate=0.1, max_depth=3, n_estimators=200, subsample=0.5; total time=   0.1s\n",
            "[CV] END learning_rate=0.1, max_depth=3, n_estimators=200, subsample=0.5; total time=   0.1s\n",
            "[CV] END learning_rate=0.1, max_depth=3, n_estimators=200, subsample=0.5; total time=   0.1s\n",
            "[CV] END learning_rate=0.1, max_depth=3, n_estimators=200, subsample=0.5; total time=   0.1s\n",
            "[CV] END learning_rate=0.1, max_depth=3, n_estimators=200, subsample=0.5; total time=   0.1s\n",
            "[CV] END learning_rate=0.1, max_depth=3, n_estimators=200, subsample=0.5; total time=   0.1s\n",
            "[CV] END learning_rate=0.1, max_depth=3, n_estimators=200, subsample=0.5; total time=   0.1s\n",
            "[CV] END learning_rate=0.1, max_depth=3, n_estimators=200, subsample=0.5; total time=   0.1s\n",
            "[CV] END learning_rate=0.1, max_depth=3, n_estimators=200, subsample=0.8; total time=   0.2s\n",
            "[CV] END learning_rate=0.1, max_depth=3, n_estimators=200, subsample=0.8; total time=   0.2s\n",
            "[CV] END learning_rate=0.1, max_depth=3, n_estimators=200, subsample=0.8; total time=   0.2s\n",
            "[CV] END learning_rate=0.1, max_depth=3, n_estimators=200, subsample=0.8; total time=   0.2s\n",
            "[CV] END learning_rate=0.1, max_depth=3, n_estimators=200, subsample=0.8; total time=   0.2s\n",
            "[CV] END learning_rate=0.1, max_depth=3, n_estimators=200, subsample=0.8; total time=   0.2s\n",
            "[CV] END learning_rate=0.1, max_depth=3, n_estimators=200, subsample=0.8; total time=   0.2s\n",
            "[CV] END learning_rate=0.1, max_depth=3, n_estimators=200, subsample=0.8; total time=   0.2s\n",
            "[CV] END learning_rate=0.1, max_depth=3, n_estimators=200, subsample=0.8; total time=   0.2s\n",
            "[CV] END learning_rate=0.1, max_depth=3, n_estimators=200, subsample=0.8; total time=   0.2s\n",
            "[CV] END learning_rate=0.1, max_depth=3, n_estimators=500, subsample=1; total time=   0.4s\n",
            "[CV] END learning_rate=0.1, max_depth=3, n_estimators=500, subsample=1; total time=   0.4s\n",
            "[CV] END learning_rate=0.1, max_depth=3, n_estimators=500, subsample=1; total time=   0.4s\n",
            "[CV] END learning_rate=0.1, max_depth=3, n_estimators=500, subsample=1; total time=   0.4s\n",
            "[CV] END learning_rate=0.1, max_depth=3, n_estimators=500, subsample=1; total time=   0.4s\n",
            "[CV] END learning_rate=0.1, max_depth=3, n_estimators=500, subsample=1; total time=   0.4s\n",
            "[CV] END learning_rate=0.1, max_depth=3, n_estimators=500, subsample=1; total time=   0.4s\n",
            "[CV] END learning_rate=0.1, max_depth=3, n_estimators=500, subsample=1; total time=   0.4s\n",
            "[CV] END learning_rate=0.1, max_depth=3, n_estimators=500, subsample=1; total time=   0.4s\n",
            "[CV] END learning_rate=0.1, max_depth=3, n_estimators=500, subsample=1; total time=   0.4s\n",
            "[CV] END learning_rate=0.1, max_depth=3, n_estimators=500, subsample=0.5; total time=   0.3s\n",
            "[CV] END learning_rate=0.1, max_depth=3, n_estimators=500, subsample=0.5; total time=   0.3s\n",
            "[CV] END learning_rate=0.1, max_depth=3, n_estimators=500, subsample=0.5; total time=   0.3s\n",
            "[CV] END learning_rate=0.1, max_depth=3, n_estimators=500, subsample=0.5; total time=   0.3s\n",
            "[CV] END learning_rate=0.1, max_depth=3, n_estimators=500, subsample=0.5; total time=   0.3s\n",
            "[CV] END learning_rate=0.1, max_depth=3, n_estimators=500, subsample=0.5; total time=   0.3s\n",
            "[CV] END learning_rate=0.1, max_depth=3, n_estimators=500, subsample=0.5; total time=   0.3s\n",
            "[CV] END learning_rate=0.1, max_depth=3, n_estimators=500, subsample=0.5; total time=   0.3s\n",
            "[CV] END learning_rate=0.1, max_depth=3, n_estimators=500, subsample=0.5; total time=   0.3s\n",
            "[CV] END learning_rate=0.1, max_depth=3, n_estimators=500, subsample=0.5; total time=   0.3s\n",
            "[CV] END learning_rate=0.1, max_depth=3, n_estimators=500, subsample=0.8; total time=   0.4s\n",
            "[CV] END learning_rate=0.1, max_depth=3, n_estimators=500, subsample=0.8; total time=   0.4s\n",
            "[CV] END learning_rate=0.1, max_depth=3, n_estimators=500, subsample=0.8; total time=   0.4s\n",
            "[CV] END learning_rate=0.1, max_depth=3, n_estimators=500, subsample=0.8; total time=   0.4s\n",
            "[CV] END learning_rate=0.1, max_depth=3, n_estimators=500, subsample=0.8; total time=   0.4s\n",
            "[CV] END learning_rate=0.1, max_depth=3, n_estimators=500, subsample=0.8; total time=   0.4s\n",
            "[CV] END learning_rate=0.1, max_depth=3, n_estimators=500, subsample=0.8; total time=   0.4s\n",
            "[CV] END learning_rate=0.1, max_depth=3, n_estimators=500, subsample=0.8; total time=   0.4s\n",
            "[CV] END learning_rate=0.1, max_depth=3, n_estimators=500, subsample=0.8; total time=   0.4s\n",
            "[CV] END learning_rate=0.1, max_depth=3, n_estimators=500, subsample=0.8; total time=   0.4s\n",
            "[CV] END learning_rate=0.1, max_depth=5, n_estimators=200, subsample=1; total time=   0.3s\n",
            "[CV] END learning_rate=0.1, max_depth=5, n_estimators=200, subsample=1; total time=   0.3s\n",
            "[CV] END learning_rate=0.1, max_depth=5, n_estimators=200, subsample=1; total time=   0.2s\n",
            "[CV] END learning_rate=0.1, max_depth=5, n_estimators=200, subsample=1; total time=   0.2s\n",
            "[CV] END learning_rate=0.1, max_depth=5, n_estimators=200, subsample=1; total time=   0.3s\n",
            "[CV] END learning_rate=0.1, max_depth=5, n_estimators=200, subsample=1; total time=   0.3s\n",
            "[CV] END learning_rate=0.1, max_depth=5, n_estimators=200, subsample=1; total time=   0.3s\n",
            "[CV] END learning_rate=0.1, max_depth=5, n_estimators=200, subsample=1; total time=   0.3s\n",
            "[CV] END learning_rate=0.1, max_depth=5, n_estimators=200, subsample=1; total time=   0.2s\n",
            "[CV] END learning_rate=0.1, max_depth=5, n_estimators=200, subsample=1; total time=   0.3s\n",
            "[CV] END learning_rate=0.1, max_depth=5, n_estimators=200, subsample=0.5; total time=   0.2s\n",
            "[CV] END learning_rate=0.1, max_depth=5, n_estimators=200, subsample=0.5; total time=   0.2s\n",
            "[CV] END learning_rate=0.1, max_depth=5, n_estimators=200, subsample=0.5; total time=   0.2s\n",
            "[CV] END learning_rate=0.1, max_depth=5, n_estimators=200, subsample=0.5; total time=   0.2s\n",
            "[CV] END learning_rate=0.1, max_depth=5, n_estimators=200, subsample=0.5; total time=   0.2s\n",
            "[CV] END learning_rate=0.1, max_depth=5, n_estimators=200, subsample=0.5; total time=   0.2s\n",
            "[CV] END learning_rate=0.1, max_depth=5, n_estimators=200, subsample=0.5; total time=   0.2s\n",
            "[CV] END learning_rate=0.1, max_depth=5, n_estimators=200, subsample=0.5; total time=   0.2s\n",
            "[CV] END learning_rate=0.1, max_depth=5, n_estimators=200, subsample=0.5; total time=   0.2s\n",
            "[CV] END learning_rate=0.1, max_depth=5, n_estimators=200, subsample=0.5; total time=   0.2s\n",
            "[CV] END learning_rate=0.1, max_depth=5, n_estimators=200, subsample=0.8; total time=   0.2s\n",
            "[CV] END learning_rate=0.1, max_depth=5, n_estimators=200, subsample=0.8; total time=   0.2s\n",
            "[CV] END learning_rate=0.1, max_depth=5, n_estimators=200, subsample=0.8; total time=   0.2s\n",
            "[CV] END learning_rate=0.1, max_depth=5, n_estimators=200, subsample=0.8; total time=   0.2s\n",
            "[CV] END learning_rate=0.1, max_depth=5, n_estimators=200, subsample=0.8; total time=   0.2s\n",
            "[CV] END learning_rate=0.1, max_depth=5, n_estimators=200, subsample=0.8; total time=   0.2s\n",
            "[CV] END learning_rate=0.1, max_depth=5, n_estimators=200, subsample=0.8; total time=   0.2s\n",
            "[CV] END learning_rate=0.1, max_depth=5, n_estimators=200, subsample=0.8; total time=   0.2s\n",
            "[CV] END learning_rate=0.1, max_depth=5, n_estimators=200, subsample=0.8; total time=   0.2s\n",
            "[CV] END learning_rate=0.1, max_depth=5, n_estimators=200, subsample=0.8; total time=   0.2s\n",
            "[CV] END learning_rate=0.1, max_depth=5, n_estimators=500, subsample=1; total time=   0.6s\n",
            "[CV] END learning_rate=0.1, max_depth=5, n_estimators=500, subsample=1; total time=   0.6s\n",
            "[CV] END learning_rate=0.1, max_depth=5, n_estimators=500, subsample=1; total time=   0.6s\n",
            "[CV] END learning_rate=0.1, max_depth=5, n_estimators=500, subsample=1; total time=   0.6s\n",
            "[CV] END learning_rate=0.1, max_depth=5, n_estimators=500, subsample=1; total time=   0.6s\n",
            "[CV] END learning_rate=0.1, max_depth=5, n_estimators=500, subsample=1; total time=   0.6s\n",
            "[CV] END learning_rate=0.1, max_depth=5, n_estimators=500, subsample=1; total time=   0.6s\n",
            "[CV] END learning_rate=0.1, max_depth=5, n_estimators=500, subsample=1; total time=   0.6s\n",
            "[CV] END learning_rate=0.1, max_depth=5, n_estimators=500, subsample=1; total time=   0.6s\n",
            "[CV] END learning_rate=0.1, max_depth=5, n_estimators=500, subsample=1; total time=   0.6s\n",
            "[CV] END learning_rate=0.1, max_depth=5, n_estimators=500, subsample=0.5; total time=   0.4s\n",
            "[CV] END learning_rate=0.1, max_depth=5, n_estimators=500, subsample=0.5; total time=   0.9s\n",
            "[CV] END learning_rate=0.1, max_depth=5, n_estimators=500, subsample=0.5; total time=   0.9s\n",
            "[CV] END learning_rate=0.1, max_depth=5, n_estimators=500, subsample=0.5; total time=   0.6s\n",
            "[CV] END learning_rate=0.1, max_depth=5, n_estimators=500, subsample=0.5; total time=   0.9s\n",
            "[CV] END learning_rate=0.1, max_depth=5, n_estimators=500, subsample=0.5; total time=   0.8s\n",
            "[CV] END learning_rate=0.1, max_depth=5, n_estimators=500, subsample=0.5; total time=   0.7s\n",
            "[CV] END learning_rate=0.1, max_depth=5, n_estimators=500, subsample=0.5; total time=   0.4s\n",
            "[CV] END learning_rate=0.1, max_depth=5, n_estimators=500, subsample=0.5; total time=   0.4s\n",
            "[CV] END learning_rate=0.1, max_depth=5, n_estimators=500, subsample=0.5; total time=   0.4s\n",
            "[CV] END learning_rate=0.1, max_depth=5, n_estimators=500, subsample=0.8; total time=   0.6s\n",
            "[CV] END learning_rate=0.1, max_depth=5, n_estimators=500, subsample=0.8; total time=   0.6s\n",
            "[CV] END learning_rate=0.1, max_depth=5, n_estimators=500, subsample=0.8; total time=   0.6s\n",
            "[CV] END learning_rate=0.1, max_depth=5, n_estimators=500, subsample=0.8; total time=   0.6s\n",
            "[CV] END learning_rate=0.1, max_depth=5, n_estimators=500, subsample=0.8; total time=   1.2s\n",
            "[CV] END learning_rate=0.1, max_depth=5, n_estimators=500, subsample=0.8; total time=   1.4s\n",
            "[CV] END learning_rate=0.1, max_depth=5, n_estimators=500, subsample=0.8; total time=   2.1s\n",
            "[CV] END learning_rate=0.1, max_depth=5, n_estimators=500, subsample=0.8; total time=   1.3s\n",
            "[CV] END learning_rate=0.1, max_depth=5, n_estimators=500, subsample=0.8; total time=   1.0s\n",
            "[CV] END learning_rate=0.1, max_depth=5, n_estimators=500, subsample=0.8; total time=   1.3s\n",
            "[CV] END learning_rate=0.01, max_depth=3, n_estimators=200, subsample=1; total time=   0.2s\n",
            "[CV] END learning_rate=0.01, max_depth=3, n_estimators=200, subsample=1; total time=   0.2s\n",
            "[CV] END learning_rate=0.01, max_depth=3, n_estimators=200, subsample=1; total time=   0.2s\n",
            "[CV] END learning_rate=0.01, max_depth=3, n_estimators=200, subsample=1; total time=   0.2s\n",
            "[CV] END learning_rate=0.01, max_depth=3, n_estimators=200, subsample=1; total time=   0.2s\n",
            "[CV] END learning_rate=0.01, max_depth=3, n_estimators=200, subsample=1; total time=   0.2s\n",
            "[CV] END learning_rate=0.01, max_depth=3, n_estimators=200, subsample=1; total time=   0.2s\n",
            "[CV] END learning_rate=0.01, max_depth=3, n_estimators=200, subsample=1; total time=   0.2s\n",
            "[CV] END learning_rate=0.01, max_depth=3, n_estimators=200, subsample=1; total time=   0.2s\n",
            "[CV] END learning_rate=0.01, max_depth=3, n_estimators=200, subsample=1; total time=   0.2s\n",
            "[CV] END learning_rate=0.01, max_depth=3, n_estimators=200, subsample=0.5; total time=   0.1s\n",
            "[CV] END learning_rate=0.01, max_depth=3, n_estimators=200, subsample=0.5; total time=   0.1s\n",
            "[CV] END learning_rate=0.01, max_depth=3, n_estimators=200, subsample=0.5; total time=   0.1s\n",
            "[CV] END learning_rate=0.01, max_depth=3, n_estimators=200, subsample=0.5; total time=   0.1s\n",
            "[CV] END learning_rate=0.01, max_depth=3, n_estimators=200, subsample=0.5; total time=   0.1s\n",
            "[CV] END learning_rate=0.01, max_depth=3, n_estimators=200, subsample=0.5; total time=   0.1s\n",
            "[CV] END learning_rate=0.01, max_depth=3, n_estimators=200, subsample=0.5; total time=   0.1s\n",
            "[CV] END learning_rate=0.01, max_depth=3, n_estimators=200, subsample=0.5; total time=   0.1s\n",
            "[CV] END learning_rate=0.01, max_depth=3, n_estimators=200, subsample=0.5; total time=   0.1s\n",
            "[CV] END learning_rate=0.01, max_depth=3, n_estimators=200, subsample=0.5; total time=   0.1s\n",
            "[CV] END learning_rate=0.01, max_depth=3, n_estimators=200, subsample=0.8; total time=   0.2s\n",
            "[CV] END learning_rate=0.01, max_depth=3, n_estimators=200, subsample=0.8; total time=   0.2s\n",
            "[CV] END learning_rate=0.01, max_depth=3, n_estimators=200, subsample=0.8; total time=   0.2s\n",
            "[CV] END learning_rate=0.01, max_depth=3, n_estimators=200, subsample=0.8; total time=   0.2s\n",
            "[CV] END learning_rate=0.01, max_depth=3, n_estimators=200, subsample=0.8; total time=   0.2s\n",
            "[CV] END learning_rate=0.01, max_depth=3, n_estimators=200, subsample=0.8; total time=   0.2s\n",
            "[CV] END learning_rate=0.01, max_depth=3, n_estimators=200, subsample=0.8; total time=   0.2s\n",
            "[CV] END learning_rate=0.01, max_depth=3, n_estimators=200, subsample=0.8; total time=   0.2s\n",
            "[CV] END learning_rate=0.01, max_depth=3, n_estimators=200, subsample=0.8; total time=   0.2s\n",
            "[CV] END learning_rate=0.01, max_depth=3, n_estimators=200, subsample=0.8; total time=   0.2s\n",
            "[CV] END learning_rate=0.01, max_depth=3, n_estimators=500, subsample=1; total time=   0.4s\n",
            "[CV] END learning_rate=0.01, max_depth=3, n_estimators=500, subsample=1; total time=   0.4s\n",
            "[CV] END learning_rate=0.01, max_depth=3, n_estimators=500, subsample=1; total time=   0.4s\n",
            "[CV] END learning_rate=0.01, max_depth=3, n_estimators=500, subsample=1; total time=   0.4s\n",
            "[CV] END learning_rate=0.01, max_depth=3, n_estimators=500, subsample=1; total time=   0.4s\n",
            "[CV] END learning_rate=0.01, max_depth=3, n_estimators=500, subsample=1; total time=   0.4s\n",
            "[CV] END learning_rate=0.01, max_depth=3, n_estimators=500, subsample=1; total time=   0.4s\n",
            "[CV] END learning_rate=0.01, max_depth=3, n_estimators=500, subsample=1; total time=   0.4s\n",
            "[CV] END learning_rate=0.01, max_depth=3, n_estimators=500, subsample=1; total time=   0.4s\n",
            "[CV] END learning_rate=0.01, max_depth=3, n_estimators=500, subsample=1; total time=   0.4s\n",
            "[CV] END learning_rate=0.01, max_depth=3, n_estimators=500, subsample=0.5; total time=   0.3s\n",
            "[CV] END learning_rate=0.01, max_depth=3, n_estimators=500, subsample=0.5; total time=   0.3s\n",
            "[CV] END learning_rate=0.01, max_depth=3, n_estimators=500, subsample=0.5; total time=   0.3s\n",
            "[CV] END learning_rate=0.01, max_depth=3, n_estimators=500, subsample=0.5; total time=   0.3s\n",
            "[CV] END learning_rate=0.01, max_depth=3, n_estimators=500, subsample=0.5; total time=   0.3s\n",
            "[CV] END learning_rate=0.01, max_depth=3, n_estimators=500, subsample=0.5; total time=   0.3s\n",
            "[CV] END learning_rate=0.01, max_depth=3, n_estimators=500, subsample=0.5; total time=   0.3s\n",
            "[CV] END learning_rate=0.01, max_depth=3, n_estimators=500, subsample=0.5; total time=   0.3s\n",
            "[CV] END learning_rate=0.01, max_depth=3, n_estimators=500, subsample=0.5; total time=   0.3s\n",
            "[CV] END learning_rate=0.01, max_depth=3, n_estimators=500, subsample=0.5; total time=   0.3s\n",
            "[CV] END learning_rate=0.01, max_depth=3, n_estimators=500, subsample=0.8; total time=   0.4s\n",
            "[CV] END learning_rate=0.01, max_depth=3, n_estimators=500, subsample=0.8; total time=   0.4s\n",
            "[CV] END learning_rate=0.01, max_depth=3, n_estimators=500, subsample=0.8; total time=   0.4s\n",
            "[CV] END learning_rate=0.01, max_depth=3, n_estimators=500, subsample=0.8; total time=   0.4s\n",
            "[CV] END learning_rate=0.01, max_depth=3, n_estimators=500, subsample=0.8; total time=   0.7s\n",
            "[CV] END learning_rate=0.01, max_depth=3, n_estimators=500, subsample=0.8; total time=   0.8s\n",
            "[CV] END learning_rate=0.01, max_depth=3, n_estimators=500, subsample=0.8; total time=   1.1s\n",
            "[CV] END learning_rate=0.01, max_depth=3, n_estimators=500, subsample=0.8; total time=   1.1s\n",
            "[CV] END learning_rate=0.01, max_depth=3, n_estimators=500, subsample=0.8; total time=   0.8s\n",
            "[CV] END learning_rate=0.01, max_depth=3, n_estimators=500, subsample=0.8; total time=   0.5s\n",
            "[CV] END learning_rate=0.01, max_depth=5, n_estimators=200, subsample=1; total time=   0.3s\n",
            "[CV] END learning_rate=0.01, max_depth=5, n_estimators=200, subsample=1; total time=   0.3s\n",
            "[CV] END learning_rate=0.01, max_depth=5, n_estimators=200, subsample=1; total time=   0.3s\n",
            "[CV] END learning_rate=0.01, max_depth=5, n_estimators=200, subsample=1; total time=   0.3s\n",
            "[CV] END learning_rate=0.01, max_depth=5, n_estimators=200, subsample=1; total time=   0.3s\n",
            "[CV] END learning_rate=0.01, max_depth=5, n_estimators=200, subsample=1; total time=   0.3s\n",
            "[CV] END learning_rate=0.01, max_depth=5, n_estimators=200, subsample=1; total time=   0.4s\n",
            "[CV] END learning_rate=0.01, max_depth=5, n_estimators=200, subsample=1; total time=   0.5s\n",
            "[CV] END learning_rate=0.01, max_depth=5, n_estimators=200, subsample=1; total time=   0.4s\n",
            "[CV] END learning_rate=0.01, max_depth=5, n_estimators=200, subsample=1; total time=   0.4s\n",
            "[CV] END learning_rate=0.01, max_depth=5, n_estimators=200, subsample=0.5; total time=   0.2s\n",
            "[CV] END learning_rate=0.01, max_depth=5, n_estimators=200, subsample=0.5; total time=   0.2s\n",
            "[CV] END learning_rate=0.01, max_depth=5, n_estimators=200, subsample=0.5; total time=   0.2s\n",
            "[CV] END learning_rate=0.01, max_depth=5, n_estimators=200, subsample=0.5; total time=   0.2s\n",
            "[CV] END learning_rate=0.01, max_depth=5, n_estimators=200, subsample=0.5; total time=   0.2s\n",
            "[CV] END learning_rate=0.01, max_depth=5, n_estimators=200, subsample=0.5; total time=   0.2s\n",
            "[CV] END learning_rate=0.01, max_depth=5, n_estimators=200, subsample=0.5; total time=   0.2s\n",
            "[CV] END learning_rate=0.01, max_depth=5, n_estimators=200, subsample=0.5; total time=   0.2s\n",
            "[CV] END learning_rate=0.01, max_depth=5, n_estimators=200, subsample=0.5; total time=   0.2s\n",
            "[CV] END learning_rate=0.01, max_depth=5, n_estimators=200, subsample=0.5; total time=   0.3s\n",
            "[CV] END learning_rate=0.01, max_depth=5, n_estimators=200, subsample=0.8; total time=   0.4s\n",
            "[CV] END learning_rate=0.01, max_depth=5, n_estimators=200, subsample=0.8; total time=   0.4s\n",
            "[CV] END learning_rate=0.01, max_depth=5, n_estimators=200, subsample=0.8; total time=   0.3s\n",
            "[CV] END learning_rate=0.01, max_depth=5, n_estimators=200, subsample=0.8; total time=   0.2s\n",
            "[CV] END learning_rate=0.01, max_depth=5, n_estimators=200, subsample=0.8; total time=   0.2s\n",
            "[CV] END learning_rate=0.01, max_depth=5, n_estimators=200, subsample=0.8; total time=   0.2s\n",
            "[CV] END learning_rate=0.01, max_depth=5, n_estimators=200, subsample=0.8; total time=   0.2s\n",
            "[CV] END learning_rate=0.01, max_depth=5, n_estimators=200, subsample=0.8; total time=   0.2s\n",
            "[CV] END learning_rate=0.01, max_depth=5, n_estimators=200, subsample=0.8; total time=   0.2s\n",
            "[CV] END learning_rate=0.01, max_depth=5, n_estimators=200, subsample=0.8; total time=   0.2s\n",
            "[CV] END learning_rate=0.01, max_depth=5, n_estimators=500, subsample=1; total time=   0.6s\n",
            "[CV] END learning_rate=0.01, max_depth=5, n_estimators=500, subsample=1; total time=   0.6s\n",
            "[CV] END learning_rate=0.01, max_depth=5, n_estimators=500, subsample=1; total time=   0.6s\n",
            "[CV] END learning_rate=0.01, max_depth=5, n_estimators=500, subsample=1; total time=   0.6s\n",
            "[CV] END learning_rate=0.01, max_depth=5, n_estimators=500, subsample=1; total time=   0.6s\n",
            "[CV] END learning_rate=0.01, max_depth=5, n_estimators=500, subsample=1; total time=   0.6s\n",
            "[CV] END learning_rate=0.01, max_depth=5, n_estimators=500, subsample=1; total time=   0.6s\n",
            "[CV] END learning_rate=0.01, max_depth=5, n_estimators=500, subsample=1; total time=   0.6s\n",
            "[CV] END learning_rate=0.01, max_depth=5, n_estimators=500, subsample=1; total time=   0.6s\n",
            "[CV] END learning_rate=0.01, max_depth=5, n_estimators=500, subsample=1; total time=   0.6s\n",
            "[CV] END learning_rate=0.01, max_depth=5, n_estimators=500, subsample=0.5; total time=   0.4s\n",
            "[CV] END learning_rate=0.01, max_depth=5, n_estimators=500, subsample=0.5; total time=   0.4s\n",
            "[CV] END learning_rate=0.01, max_depth=5, n_estimators=500, subsample=0.5; total time=   0.4s\n",
            "[CV] END learning_rate=0.01, max_depth=5, n_estimators=500, subsample=0.5; total time=   0.4s\n",
            "[CV] END learning_rate=0.01, max_depth=5, n_estimators=500, subsample=0.5; total time=   0.4s\n",
            "[CV] END learning_rate=0.01, max_depth=5, n_estimators=500, subsample=0.5; total time=   0.4s\n",
            "[CV] END learning_rate=0.01, max_depth=5, n_estimators=500, subsample=0.5; total time=   0.4s\n",
            "[CV] END learning_rate=0.01, max_depth=5, n_estimators=500, subsample=0.5; total time=   0.4s\n",
            "[CV] END learning_rate=0.01, max_depth=5, n_estimators=500, subsample=0.5; total time=   0.4s\n",
            "[CV] END learning_rate=0.01, max_depth=5, n_estimators=500, subsample=0.5; total time=   0.4s\n",
            "[CV] END learning_rate=0.01, max_depth=5, n_estimators=500, subsample=0.8; total time=   0.6s\n",
            "[CV] END learning_rate=0.01, max_depth=5, n_estimators=500, subsample=0.8; total time=   0.6s\n",
            "[CV] END learning_rate=0.01, max_depth=5, n_estimators=500, subsample=0.8; total time=   0.6s\n",
            "[CV] END learning_rate=0.01, max_depth=5, n_estimators=500, subsample=0.8; total time=   0.6s\n",
            "[CV] END learning_rate=0.01, max_depth=5, n_estimators=500, subsample=0.8; total time=   0.6s\n",
            "[CV] END learning_rate=0.01, max_depth=5, n_estimators=500, subsample=0.8; total time=   0.6s\n",
            "[CV] END learning_rate=0.01, max_depth=5, n_estimators=500, subsample=0.8; total time=   0.6s\n",
            "[CV] END learning_rate=0.01, max_depth=5, n_estimators=500, subsample=0.8; total time=   0.6s\n",
            "[CV] END learning_rate=0.01, max_depth=5, n_estimators=500, subsample=0.8; total time=   0.6s\n",
            "[CV] END learning_rate=0.01, max_depth=5, n_estimators=500, subsample=0.8; total time=   0.6s\n"
          ]
        }
      ]
    },
    {
      "cell_type": "code",
      "source": [
        "gbm_cv_model.best_params_\n"
      ],
      "metadata": {
        "colab": {
          "base_uri": "https://localhost:8080/"
        },
        "id": "UZlWHnHPIukS",
        "outputId": "e5780c89-41d4-4915-fd8e-bb6f7de02ef2"
      },
      "execution_count": null,
      "outputs": [
        {
          "output_type": "execute_result",
          "data": {
            "text/plain": [
              "{'learning_rate': 0.1, 'max_depth': 3, 'n_estimators': 200, 'subsample': 0.8}"
            ]
          },
          "metadata": {},
          "execution_count": 89
        }
      ]
    },
    {
      "cell_type": "code",
      "source": [
        "gbm_tuned = GradientBoostingRegressor(learning_rate =0.1,\n",
        "                                     max_depth = 3,\n",
        "                                     n_estimators=200,\n",
        "                                     subsample=0.8,\n",
        "                                     loss=\"lad\").fit(X_train,y_train)"
      ],
      "metadata": {
        "colab": {
          "base_uri": "https://localhost:8080/"
        },
        "id": "-GLUV3NgIu2R",
        "outputId": "ae4c9175-bacf-4ae4-81c4-d52b33239c8e"
      },
      "execution_count": null,
      "outputs": [
        {
          "output_type": "stream",
          "name": "stderr",
          "text": [
            "/usr/local/lib/python3.7/dist-packages/sklearn/ensemble/_gb.py:297: FutureWarning: The loss 'lad' was deprecated in v1.0 and will be removed in version 1.2. Use 'absolute_error' which is equivalent.\n",
            "  FutureWarning,\n"
          ]
        }
      ]
    },
    {
      "cell_type": "code",
      "source": [
        "y_pred = gbm_tuned.predict(X_test)\n"
      ],
      "metadata": {
        "id": "jLmWtOmVI3YJ"
      },
      "execution_count": null,
      "outputs": []
    },
    {
      "cell_type": "code",
      "source": [
        "np.sqrt(mean_squared_error(y_test,y_pred))\n"
      ],
      "metadata": {
        "colab": {
          "base_uri": "https://localhost:8080/"
        },
        "id": "SFQIHSQsI4LX",
        "outputId": "53e9565c-5505-4019-9b0c-82bae68f84d0"
      },
      "execution_count": null,
      "outputs": [
        {
          "output_type": "execute_result",
          "data": {
            "text/plain": [
              "342.5441508604146"
            ]
          },
          "metadata": {},
          "execution_count": 93
        }
      ]
    },
    {
      "cell_type": "code",
      "source": [
        "Importance = pd.DataFrame({'Importance':gbm_tuned.feature_importances_*100},\n",
        "                         index=X_train.columns)\n",
        "\n",
        "Importance.sort_values(by='Importance',\n",
        "                      axis=0,\n",
        "                      ascending = True).plot(kind = 'barh',\n",
        "                                           color = 'r',)\n",
        "\n",
        "plt.xlabel('Variable Importance')\n",
        "plt.gca().legend_=None"
      ],
      "metadata": {
        "colab": {
          "base_uri": "https://localhost:8080/",
          "height": 279
        },
        "id": "XgI4RkzII9wQ",
        "outputId": "91526747-0050-423c-bc26-c4025f3532e3"
      },
      "execution_count": null,
      "outputs": [
        {
          "output_type": "display_data",
          "data": {
            "text/plain": [
              "<Figure size 432x288 with 1 Axes>"
            ],
            "image/png": "[encoded data removed]"
          },
          "metadata": {
            "needs_background": "light"
          }
        }
      ]
    },
    {
      "cell_type": "code",
      "source": [
        "!pip install xgboost\n"
      ],
      "metadata": {
        "colab": {
          "base_uri": "https://localhost:8080/"
        },
        "id": "jiOGSiLvJUzY",
        "outputId": "888d49c1-2718-4d2c-9e9d-b2539dad5c23"
      },
      "execution_count": null,
      "outputs": [
        {
          "output_type": "stream",
          "name": "stdout",
          "text": [
            "Looking in indexes: https://pypi.org/simple, https://us-python.pkg.dev/colab-wheels/public/simple/\n",
            "Requirement already satisfied: xgboost in /usr/local/lib/python3.7/dist-packages (0.90)\n",
            "Requirement already satisfied: numpy in /usr/local/lib/python3.7/dist-packages (from xgboost) (1.21.6)\n",
            "Requirement already satisfied: scipy in /usr/local/lib/python3.7/dist-packages (from xgboost) (1.7.3)\n"
          ]
        }
      ]
    },
    {
      "cell_type": "code",
      "source": [
        "import xgboost\n",
        "from xgboost import XGBRegressor"
      ],
      "metadata": {
        "id": "1I49AEwiL2ZE"
      },
      "execution_count": null,
      "outputs": []
    },
    {
      "cell_type": "code",
      "source": [
        "xgb = XGBRegressor().fit(X_train,y_train)\n"
      ],
      "metadata": {
        "colab": {
          "base_uri": "https://localhost:8080/"
        },
        "id": "ylYx3fbYL_UD",
        "outputId": "dff4897d-a13c-41bb-894e-18b0163f3183"
      },
      "execution_count": null,
      "outputs": [
        {
          "output_type": "stream",
          "name": "stdout",
          "text": [
            "[14:53:21] WARNING: /workspace/src/objective/regression_obj.cu:152: reg:linear is now deprecated in favor of reg:squarederror.\n"
          ]
        }
      ]
    },
    {
      "cell_type": "code",
      "source": [
        "xgb"
      ],
      "metadata": {
        "colab": {
          "base_uri": "https://localhost:8080/"
        },
        "id": "ReQTuzFGMAxY",
        "outputId": "26735063-e321-4b55-b265-a9391cd3103b"
      },
      "execution_count": null,
      "outputs": [
        {
          "output_type": "execute_result",
          "data": {
            "text/plain": [
              "XGBRegressor()"
            ]
          },
          "metadata": {},
          "execution_count": 98
        }
      ]
    },
    {
      "cell_type": "code",
      "source": [
        "y_pred = xgb.predict(X_test)\n",
        "np.sqrt(mean_squared_error(y_test,y_pred))"
      ],
      "metadata": {
        "colab": {
          "base_uri": "https://localhost:8080/"
        },
        "id": "ykv0qHWxMChP",
        "outputId": "acd6a922-6ccf-4a4b-af7e-c9738bbf4ed0"
      },
      "execution_count": null,
      "outputs": [
        {
          "output_type": "execute_result",
          "data": {
            "text/plain": [
              "359.91750599447033"
            ]
          },
          "metadata": {},
          "execution_count": 99
        }
      ]
    },
    {
      "cell_type": "code",
      "source": [
        "xgb_params = {\"learning_rate\": [0.1,0.01,0.5] ,\n",
        "             \"max_depth\":[2,3,4,5,8],\n",
        "             \"n_estimators\":[100,200,500],\n",
        "             \"colsample_bylevel\":[0.4,0.7]}\n"
      ],
      "metadata": {
        "id": "HaOig2YTMFzb"
      },
      "execution_count": null,
      "outputs": []
    },
    {
      "cell_type": "code",
      "source": [
        "xgb_cv_model = GridSearchCV(xgb,xgb_params,cv=10,n_jobs =-1,verbose =2).fit(X_train,y_train)\n"
      ],
      "metadata": {
        "colab": {
          "base_uri": "https://localhost:8080/"
        },
        "id": "BMNTdC7HMHTN",
        "outputId": "f1eca1d7-1366-4be1-a9ff-a48fa8e01360"
      },
      "execution_count": null,
      "outputs": [
        {
          "output_type": "stream",
          "name": "stdout",
          "text": [
            "Fitting 10 folds for each of 90 candidates, totalling 900 fits\n",
            "[14:55:03] WARNING: /workspace/src/objective/regression_obj.cu:152: reg:linear is now deprecated in favor of reg:squarederror.\n"
          ]
        }
      ]
    },
    {
      "cell_type": "code",
      "source": [
        "xgb_cv_model.best_params_\n"
      ],
      "metadata": {
        "colab": {
          "base_uri": "https://localhost:8080/"
        },
        "id": "VQn9qjGdMKEU",
        "outputId": "3f09612e-c9a4-4a13-e377-04c6caacfa3b"
      },
      "execution_count": null,
      "outputs": [
        {
          "output_type": "execute_result",
          "data": {
            "text/plain": [
              "{'colsample_bylevel': 0.7,\n",
              " 'learning_rate': 0.1,\n",
              " 'max_depth': 2,\n",
              " 'n_estimators': 500}"
            ]
          },
          "metadata": {},
          "execution_count": 102
        }
      ]
    },
    {
      "cell_type": "code",
      "source": [
        "xgb_tuned = XGBRegressor(colsample_bylevel=0.7,\n",
        "                        learning_rate=0.1,\n",
        "                        max_depth=2,\n",
        "                        n_estimators=500).fit(X_train,y_train)"
      ],
      "metadata": {
        "colab": {
          "base_uri": "https://localhost:8080/"
        },
        "id": "U6yAk_aZMLNL",
        "outputId": "0c2b178a-0a75-4810-ffd2-cd0988f49316"
      },
      "execution_count": null,
      "outputs": [
        {
          "output_type": "stream",
          "name": "stdout",
          "text": [
            "[14:55:34] WARNING: /workspace/src/objective/regression_obj.cu:152: reg:linear is now deprecated in favor of reg:squarederror.\n"
          ]
        }
      ]
    },
    {
      "cell_type": "code",
      "source": [
        "y_pred = xgb_tuned.predict(X_test)\n",
        "np.sqrt(mean_squared_error(y_test,y_pred))"
      ],
      "metadata": {
        "colab": {
          "base_uri": "https://localhost:8080/"
        },
        "id": "znSOJkcrMMil",
        "outputId": "a2d6a16a-ed98-4f1c-cbe2-9aaecb61cb60"
      },
      "execution_count": null,
      "outputs": [
        {
          "output_type": "execute_result",
          "data": {
            "text/plain": [
              "333.4542345754869"
            ]
          },
          "metadata": {},
          "execution_count": 104
        }
      ]
    },
    {
      "cell_type": "code",
      "source": [
        "!pip install lightgbm\n"
      ],
      "metadata": {
        "colab": {
          "base_uri": "https://localhost:8080/"
        },
        "id": "c62-Ak1xO-Y3",
        "outputId": "30a16ee5-89b5-45c4-fe4c-482debe16201"
      },
      "execution_count": null,
      "outputs": [
        {
          "output_type": "stream",
          "name": "stdout",
          "text": [
            "Looking in indexes: https://pypi.org/simple, https://us-python.pkg.dev/colab-wheels/public/simple/\n",
            "Requirement already satisfied: lightgbm in /usr/local/lib/python3.7/dist-packages (2.2.3)\n",
            "Requirement already satisfied: numpy in /usr/local/lib/python3.7/dist-packages (from lightgbm) (1.21.6)\n",
            "Requirement already satisfied: scikit-learn in /usr/local/lib/python3.7/dist-packages (from lightgbm) (1.0.2)\n",
            "Requirement already satisfied: scipy in /usr/local/lib/python3.7/dist-packages (from lightgbm) (1.7.3)\n",
            "Requirement already satisfied: threadpoolctl>=2.0.0 in /usr/local/lib/python3.7/dist-packages (from scikit-learn->lightgbm) (3.1.0)\n",
            "Requirement already satisfied: joblib>=0.11 in /usr/local/lib/python3.7/dist-packages (from scikit-learn->lightgbm) (1.1.0)\n"
          ]
        }
      ]
    },
    {
      "cell_type": "code",
      "source": [
        "from lightgbm import LGBMRegressor\n"
      ],
      "metadata": {
        "id": "7CMrqZV_PDqW"
      },
      "execution_count": null,
      "outputs": []
    },
    {
      "cell_type": "code",
      "source": [
        "lgb_model = LGBMRegressor().fit(X_train,y_train)\n"
      ],
      "metadata": {
        "id": "LnqQsTFZPAaJ"
      },
      "execution_count": null,
      "outputs": []
    },
    {
      "cell_type": "code",
      "source": [
        "lgb_model"
      ],
      "metadata": {
        "colab": {
          "base_uri": "https://localhost:8080/"
        },
        "id": "6DqJw4YNPFHd",
        "outputId": "14574730-4adb-4c6f-c91e-acdfae0f0715"
      },
      "execution_count": null,
      "outputs": [
        {
          "output_type": "execute_result",
          "data": {
            "text/plain": [
              "LGBMRegressor()"
            ]
          },
          "metadata": {},
          "execution_count": 109
        }
      ]
    },
    {
      "cell_type": "code",
      "source": [
        "y_pred = lgb_model.predict(X_test)\n"
      ],
      "metadata": {
        "id": "IxiNLRzlPIR-"
      },
      "execution_count": null,
      "outputs": []
    },
    {
      "cell_type": "code",
      "source": [
        "np.sqrt(mean_squared_error(y_test,y_pred))\n"
      ],
      "metadata": {
        "colab": {
          "base_uri": "https://localhost:8080/"
        },
        "id": "13IFPTlMPLAd",
        "outputId": "cb906494-a844-42e0-be95-ef71d002c25f"
      },
      "execution_count": null,
      "outputs": [
        {
          "output_type": "execute_result",
          "data": {
            "text/plain": [
              "363.8712087611089"
            ]
          },
          "metadata": {},
          "execution_count": 111
        }
      ]
    },
    {
      "cell_type": "code",
      "source": [
        "lgbm_params = {\"learning_rate\": [0.01,0.1,0.5,1],\n",
        "              \"n_estimators\":[40,100,1000],\n",
        "              \"max_depth\":[1,2,3]}"
      ],
      "metadata": {
        "id": "Sg0i6BgpPM0E"
      },
      "execution_count": null,
      "outputs": []
    },
    {
      "cell_type": "code",
      "source": [
        "lgbm_cv_model = GridSearchCV(lgb_model,lgbm_params,cv = 10,n_jobs =-1,\n",
        "                            verbose = 2).fit(X_train,y_train)"
      ],
      "metadata": {
        "colab": {
          "base_uri": "https://localhost:8080/"
        },
        "id": "twI3D5iaPU1V",
        "outputId": "be38322e-74a5-4abb-b03a-0f70a6a861b2"
      },
      "execution_count": null,
      "outputs": [
        {
          "output_type": "stream",
          "name": "stdout",
          "text": [
            "Fitting 10 folds for each of 36 candidates, totalling 360 fits\n"
          ]
        }
      ]
    },
    {
      "cell_type": "code",
      "source": [
        "lgbm_cv_model.best_params_\n"
      ],
      "metadata": {
        "colab": {
          "base_uri": "https://localhost:8080/"
        },
        "id": "WIYRe7OFPRjU",
        "outputId": "ac822f34-fa5b-4029-dec9-4b42525bb681"
      },
      "execution_count": null,
      "outputs": [
        {
          "output_type": "execute_result",
          "data": {
            "text/plain": [
              "{'learning_rate': 0.1, 'max_depth': 3, 'n_estimators': 40}"
            ]
          },
          "metadata": {},
          "execution_count": 115
        }
      ]
    },
    {
      "cell_type": "code",
      "source": [
        "lgb_tuned = LGBMRegressor(learning_rate=0.1,\n",
        "                         max_depth=3,\n",
        "                         n_estimators=40).fit(X_train,y_train)"
      ],
      "metadata": {
        "id": "oQad1qDXPZ8b"
      },
      "execution_count": null,
      "outputs": []
    },
    {
      "cell_type": "code",
      "source": [
        "y_pred = lgb_tuned.predict(X_test)\n",
        "np.sqrt(mean_squared_error(y_test,y_pred))"
      ],
      "metadata": {
        "colab": {
          "base_uri": "https://localhost:8080/"
        },
        "id": "11JSEcEmPa7w",
        "outputId": "577b224e-e492-426b-8d51-30c2e4337ae8"
      },
      "execution_count": null,
      "outputs": [
        {
          "output_type": "execute_result",
          "data": {
            "text/plain": [
              "364.7698635536198"
            ]
          },
          "metadata": {},
          "execution_count": 117
        }
      ]
    },
    {
      "cell_type": "code",
      "source": [
        "!pip install catboost\n"
      ],
      "metadata": {
        "colab": {
          "base_uri": "https://localhost:8080/"
        },
        "id": "RrAXnw9oRkn3",
        "outputId": "e12cecf8-994f-4b0a-b2c8-559067a62017"
      },
      "execution_count": null,
      "outputs": [
        {
          "output_type": "stream",
          "name": "stdout",
          "text": [
            "Looking in indexes: https://pypi.org/simple, https://us-python.pkg.dev/colab-wheels/public/simple/\n",
            "Collecting catboost\n",
            "  Downloading catboost-1.1-cp37-none-manylinux1_x86_64.whl (76.8 MB)\n",
            "\u001b[K     |████████████████████████████████| 76.8 MB 1.5 MB/s \n",
            "\u001b[?25hRequirement already satisfied: graphviz in /usr/local/lib/python3.7/dist-packages (from catboost) (0.10.1)\n",
            "Requirement already satisfied: numpy>=1.16.0 in /usr/local/lib/python3.7/dist-packages (from catboost) (1.21.6)\n",
            "Requirement already satisfied: matplotlib in /usr/local/lib/python3.7/dist-packages (from catboost) (3.2.2)\n",
            "Requirement already satisfied: plotly in /usr/local/lib/python3.7/dist-packages (from catboost) (5.5.0)\n",
            "Requirement already satisfied: pandas>=0.24.0 in /usr/local/lib/python3.7/dist-packages (from catboost) (1.3.5)\n",
            "Requirement already satisfied: scipy in /usr/local/lib/python3.7/dist-packages (from catboost) (1.7.3)\n",
            "Requirement already satisfied: six in /usr/local/lib/python3.7/dist-packages (from catboost) (1.15.0)\n",
            "Requirement already satisfied: pytz>=2017.3 in /usr/local/lib/python3.7/dist-packages (from pandas>=0.24.0->catboost) (2022.2.1)\n",
            "Requirement already satisfied: python-dateutil>=2.7.3 in /usr/local/lib/python3.7/dist-packages (from pandas>=0.24.0->catboost) (2.8.2)\n",
            "Requirement already satisfied: pyparsing!=2.0.4,!=2.1.2,!=2.1.6,>=2.0.1 in /usr/local/lib/python3.7/dist-packages (from matplotlib->catboost) (3.0.9)\n",
            "Requirement already satisfied: cycler>=0.10 in /usr/local/lib/python3.7/dist-packages (from matplotlib->catboost) (0.11.0)\n",
            "Requirement already satisfied: kiwisolver>=1.0.1 in /usr/local/lib/python3.7/dist-packages (from matplotlib->catboost) (1.4.4)\n",
            "Requirement already satisfied: typing-extensions in /usr/local/lib/python3.7/dist-packages (from kiwisolver>=1.0.1->matplotlib->catboost) (4.1.1)\n",
            "Requirement already satisfied: tenacity>=6.2.0 in /usr/local/lib/python3.7/dist-packages (from plotly->catboost) (8.0.1)\n",
            "Installing collected packages: catboost\n",
            "Successfully installed catboost-1.1\n"
          ]
        }
      ]
    },
    {
      "cell_type": "code",
      "source": [
        "from catboost import CatBoostRegressor\n"
      ],
      "metadata": {
        "id": "PoqgrJNMRmOw"
      },
      "execution_count": null,
      "outputs": []
    },
    {
      "cell_type": "code",
      "source": [
        "catb_model = CatBoostRegressor().fit(X_train,y_train)\n"
      ],
      "metadata": {
        "colab": {
          "base_uri": "https://localhost:8080/"
        },
        "id": "f3u02GUURwww",
        "outputId": "d325626e-3bd0-4431-f72b-2ee6325aef15"
      },
      "execution_count": null,
      "outputs": [
        {
          "output_type": "stream",
          "name": "stdout",
          "text": [
            "Learning rate set to 0.031674\n",
            "0:\tlearn: 437.6430699\ttotal: 48.4ms\tremaining: 48.4s\n",
            "1:\tlearn: 431.3923642\ttotal: 50.7ms\tremaining: 25.3s\n",
            "2:\tlearn: 424.8820360\ttotal: 52.9ms\tremaining: 17.6s\n",
            "3:\tlearn: 418.2514904\ttotal: 55.2ms\tremaining: 13.7s\n",
            "4:\tlearn: 412.6394021\ttotal: 58.7ms\tremaining: 11.7s\n",
            "5:\tlearn: 406.6247020\ttotal: 60.7ms\tremaining: 10.1s\n",
            "6:\tlearn: 400.5321206\ttotal: 62.9ms\tremaining: 8.93s\n",
            "7:\tlearn: 394.6683437\ttotal: 65.2ms\tremaining: 8.08s\n",
            "8:\tlearn: 388.2496484\ttotal: 67.4ms\tremaining: 7.42s\n",
            "9:\tlearn: 382.9448842\ttotal: 69.7ms\tremaining: 6.9s\n",
            "10:\tlearn: 377.2600080\ttotal: 71.9ms\tremaining: 6.47s\n",
            "11:\tlearn: 372.4829606\ttotal: 74.2ms\tremaining: 6.11s\n",
            "12:\tlearn: 366.6823437\ttotal: 76.4ms\tremaining: 5.8s\n",
            "13:\tlearn: 362.6076230\ttotal: 78.6ms\tremaining: 5.53s\n",
            "14:\tlearn: 358.0107745\ttotal: 80.8ms\tremaining: 5.31s\n",
            "15:\tlearn: 353.2802665\ttotal: 83ms\tremaining: 5.11s\n",
            "16:\tlearn: 348.5646265\ttotal: 85.2ms\tremaining: 4.93s\n",
            "17:\tlearn: 343.6407912\ttotal: 87.6ms\tremaining: 4.78s\n",
            "18:\tlearn: 339.2363847\ttotal: 89.9ms\tremaining: 4.64s\n",
            "19:\tlearn: 334.3431252\ttotal: 92.2ms\tremaining: 4.52s\n",
            "20:\tlearn: 330.3247028\ttotal: 94.5ms\tremaining: 4.41s\n",
            "21:\tlearn: 326.6118334\ttotal: 96.7ms\tremaining: 4.3s\n",
            "22:\tlearn: 322.7759981\ttotal: 99ms\tremaining: 4.2s\n",
            "23:\tlearn: 318.9511822\ttotal: 101ms\tremaining: 4.12s\n",
            "24:\tlearn: 315.4216253\ttotal: 104ms\tremaining: 4.04s\n",
            "25:\tlearn: 311.3551377\ttotal: 106ms\tremaining: 3.96s\n",
            "26:\tlearn: 308.1492371\ttotal: 108ms\tremaining: 3.89s\n",
            "27:\tlearn: 304.7284729\ttotal: 110ms\tremaining: 3.83s\n",
            "28:\tlearn: 301.3893204\ttotal: 113ms\tremaining: 3.77s\n",
            "29:\tlearn: 298.2080758\ttotal: 115ms\tremaining: 3.71s\n",
            "30:\tlearn: 295.6878398\ttotal: 117ms\tremaining: 3.65s\n",
            "31:\tlearn: 292.3912243\ttotal: 119ms\tremaining: 3.6s\n",
            "32:\tlearn: 289.6345744\ttotal: 121ms\tremaining: 3.56s\n",
            "33:\tlearn: 287.2158711\ttotal: 125ms\tremaining: 3.56s\n",
            "34:\tlearn: 284.3879081\ttotal: 129ms\tremaining: 3.55s\n",
            "35:\tlearn: 281.7994818\ttotal: 134ms\tremaining: 3.6s\n",
            "36:\tlearn: 279.2028261\ttotal: 139ms\tremaining: 3.63s\n",
            "37:\tlearn: 276.5821160\ttotal: 141ms\tremaining: 3.58s\n",
            "38:\tlearn: 273.8890894\ttotal: 143ms\tremaining: 3.54s\n",
            "39:\tlearn: 271.1681677\ttotal: 146ms\tremaining: 3.5s\n",
            "40:\tlearn: 269.0159531\ttotal: 148ms\tremaining: 3.46s\n",
            "41:\tlearn: 266.3601804\ttotal: 150ms\tremaining: 3.42s\n",
            "42:\tlearn: 263.8608958\ttotal: 152ms\tremaining: 3.39s\n",
            "43:\tlearn: 261.1405566\ttotal: 155ms\tremaining: 3.36s\n",
            "44:\tlearn: 258.9314736\ttotal: 157ms\tremaining: 3.33s\n",
            "45:\tlearn: 256.3885577\ttotal: 159ms\tremaining: 3.3s\n",
            "46:\tlearn: 254.2857349\ttotal: 161ms\tremaining: 3.27s\n",
            "47:\tlearn: 252.2347121\ttotal: 164ms\tremaining: 3.24s\n",
            "48:\tlearn: 250.1779367\ttotal: 166ms\tremaining: 3.22s\n",
            "49:\tlearn: 248.2687430\ttotal: 168ms\tremaining: 3.19s\n",
            "50:\tlearn: 246.3685582\ttotal: 170ms\tremaining: 3.17s\n",
            "51:\tlearn: 244.8719988\ttotal: 172ms\tremaining: 3.14s\n",
            "52:\tlearn: 242.7348892\ttotal: 175ms\tremaining: 3.12s\n",
            "53:\tlearn: 241.1611112\ttotal: 177ms\tremaining: 3.1s\n",
            "54:\tlearn: 239.4819462\ttotal: 179ms\tremaining: 3.08s\n",
            "55:\tlearn: 237.3877895\ttotal: 181ms\tremaining: 3.06s\n",
            "56:\tlearn: 235.7619262\ttotal: 183ms\tremaining: 3.03s\n",
            "57:\tlearn: 233.9604804\ttotal: 186ms\tremaining: 3.02s\n",
            "58:\tlearn: 232.4948011\ttotal: 188ms\tremaining: 3s\n",
            "59:\tlearn: 230.6283304\ttotal: 190ms\tremaining: 2.98s\n",
            "60:\tlearn: 228.9920307\ttotal: 196ms\tremaining: 3.02s\n",
            "61:\tlearn: 227.5197637\ttotal: 198ms\tremaining: 3s\n",
            "62:\tlearn: 226.0561213\ttotal: 202ms\tremaining: 3s\n",
            "63:\tlearn: 224.3484762\ttotal: 204ms\tremaining: 2.99s\n",
            "64:\tlearn: 223.0652023\ttotal: 207ms\tremaining: 2.97s\n",
            "65:\tlearn: 221.6608069\ttotal: 209ms\tremaining: 2.95s\n",
            "66:\tlearn: 220.2445284\ttotal: 211ms\tremaining: 2.94s\n",
            "67:\tlearn: 219.0044262\ttotal: 213ms\tremaining: 2.92s\n",
            "68:\tlearn: 217.4624313\ttotal: 216ms\tremaining: 2.91s\n",
            "69:\tlearn: 216.0502248\ttotal: 218ms\tremaining: 2.89s\n",
            "70:\tlearn: 214.5361705\ttotal: 220ms\tremaining: 2.88s\n",
            "71:\tlearn: 213.1812509\ttotal: 222ms\tremaining: 2.87s\n",
            "72:\tlearn: 211.7399390\ttotal: 225ms\tremaining: 2.85s\n",
            "73:\tlearn: 210.5557639\ttotal: 227ms\tremaining: 2.84s\n",
            "74:\tlearn: 209.4242283\ttotal: 229ms\tremaining: 2.83s\n",
            "75:\tlearn: 208.4366109\ttotal: 231ms\tremaining: 2.81s\n",
            "76:\tlearn: 207.4514860\ttotal: 234ms\tremaining: 2.8s\n",
            "77:\tlearn: 206.1912213\ttotal: 236ms\tremaining: 2.79s\n",
            "78:\tlearn: 205.2585316\ttotal: 238ms\tremaining: 2.77s\n",
            "79:\tlearn: 203.8747879\ttotal: 240ms\tremaining: 2.76s\n",
            "80:\tlearn: 202.5993031\ttotal: 242ms\tremaining: 2.75s\n",
            "81:\tlearn: 201.4719061\ttotal: 245ms\tremaining: 2.74s\n",
            "82:\tlearn: 200.2871874\ttotal: 247ms\tremaining: 2.73s\n",
            "83:\tlearn: 199.1074683\ttotal: 249ms\tremaining: 2.72s\n",
            "84:\tlearn: 197.8511342\ttotal: 252ms\tremaining: 2.71s\n",
            "85:\tlearn: 196.8788042\ttotal: 254ms\tremaining: 2.7s\n",
            "86:\tlearn: 195.9815130\ttotal: 256ms\tremaining: 2.69s\n",
            "87:\tlearn: 195.0807956\ttotal: 258ms\tremaining: 2.68s\n",
            "88:\tlearn: 193.9775466\ttotal: 261ms\tremaining: 2.67s\n",
            "89:\tlearn: 192.8810426\ttotal: 263ms\tremaining: 2.66s\n",
            "90:\tlearn: 192.5363626\ttotal: 265ms\tremaining: 2.65s\n",
            "91:\tlearn: 191.3259849\ttotal: 267ms\tremaining: 2.64s\n",
            "92:\tlearn: 190.3650025\ttotal: 269ms\tremaining: 2.63s\n",
            "93:\tlearn: 189.3255643\ttotal: 271ms\tremaining: 2.62s\n",
            "94:\tlearn: 188.2433480\ttotal: 273ms\tremaining: 2.6s\n",
            "95:\tlearn: 187.2786096\ttotal: 276ms\tremaining: 2.59s\n",
            "96:\tlearn: 186.1284681\ttotal: 278ms\tremaining: 2.58s\n",
            "97:\tlearn: 185.0190872\ttotal: 280ms\tremaining: 2.58s\n",
            "98:\tlearn: 184.2888024\ttotal: 282ms\tremaining: 2.57s\n",
            "99:\tlearn: 183.3111217\ttotal: 286ms\tremaining: 2.57s\n",
            "100:\tlearn: 182.2519940\ttotal: 288ms\tremaining: 2.57s\n",
            "101:\tlearn: 181.0186200\ttotal: 291ms\tremaining: 2.56s\n",
            "102:\tlearn: 179.9672344\ttotal: 293ms\tremaining: 2.55s\n",
            "103:\tlearn: 178.9776753\ttotal: 295ms\tremaining: 2.54s\n",
            "104:\tlearn: 178.2445101\ttotal: 298ms\tremaining: 2.54s\n",
            "105:\tlearn: 177.4055906\ttotal: 300ms\tremaining: 2.53s\n",
            "106:\tlearn: 176.2405445\ttotal: 303ms\tremaining: 2.52s\n",
            "107:\tlearn: 175.1813091\ttotal: 305ms\tremaining: 2.52s\n",
            "108:\tlearn: 174.5537682\ttotal: 307ms\tremaining: 2.51s\n",
            "109:\tlearn: 173.8231890\ttotal: 310ms\tremaining: 2.5s\n",
            "110:\tlearn: 172.9324461\ttotal: 312ms\tremaining: 2.5s\n",
            "111:\tlearn: 172.0019421\ttotal: 314ms\tremaining: 2.49s\n",
            "112:\tlearn: 171.2945678\ttotal: 317ms\tremaining: 2.48s\n",
            "113:\tlearn: 170.4815313\ttotal: 319ms\tremaining: 2.48s\n",
            "114:\tlearn: 169.9491294\ttotal: 321ms\tremaining: 2.47s\n",
            "115:\tlearn: 169.2483859\ttotal: 324ms\tremaining: 2.46s\n",
            "116:\tlearn: 168.7342383\ttotal: 329ms\tremaining: 2.48s\n",
            "117:\tlearn: 168.1837140\ttotal: 331ms\tremaining: 2.48s\n",
            "118:\tlearn: 167.1222358\ttotal: 334ms\tremaining: 2.47s\n",
            "119:\tlearn: 166.3472734\ttotal: 336ms\tremaining: 2.46s\n",
            "120:\tlearn: 165.5330342\ttotal: 338ms\tremaining: 2.46s\n",
            "121:\tlearn: 164.8476246\ttotal: 341ms\tremaining: 2.45s\n",
            "122:\tlearn: 164.2399797\ttotal: 343ms\tremaining: 2.44s\n",
            "123:\tlearn: 164.0121571\ttotal: 345ms\tremaining: 2.44s\n",
            "124:\tlearn: 162.9794212\ttotal: 347ms\tremaining: 2.43s\n",
            "125:\tlearn: 162.2095741\ttotal: 350ms\tremaining: 2.43s\n",
            "126:\tlearn: 161.1695920\ttotal: 352ms\tremaining: 2.42s\n",
            "127:\tlearn: 160.3516612\ttotal: 354ms\tremaining: 2.41s\n",
            "128:\tlearn: 159.1596356\ttotal: 361ms\tremaining: 2.44s\n",
            "129:\tlearn: 158.5354394\ttotal: 367ms\tremaining: 2.46s\n",
            "130:\tlearn: 157.5922383\ttotal: 372ms\tremaining: 2.47s\n",
            "131:\tlearn: 156.9689796\ttotal: 377ms\tremaining: 2.48s\n",
            "132:\tlearn: 156.4170623\ttotal: 383ms\tremaining: 2.5s\n",
            "133:\tlearn: 156.1222595\ttotal: 390ms\tremaining: 2.52s\n",
            "134:\tlearn: 155.5996569\ttotal: 392ms\tremaining: 2.51s\n",
            "135:\tlearn: 154.8990155\ttotal: 395ms\tremaining: 2.51s\n",
            "136:\tlearn: 154.3704896\ttotal: 397ms\tremaining: 2.5s\n",
            "137:\tlearn: 153.8560012\ttotal: 399ms\tremaining: 2.49s\n",
            "138:\tlearn: 153.2399938\ttotal: 402ms\tremaining: 2.49s\n",
            "139:\tlearn: 152.2142414\ttotal: 404ms\tremaining: 2.48s\n",
            "140:\tlearn: 151.5976950\ttotal: 406ms\tremaining: 2.47s\n",
            "141:\tlearn: 151.4426506\ttotal: 408ms\tremaining: 2.47s\n",
            "142:\tlearn: 150.8467135\ttotal: 411ms\tremaining: 2.46s\n",
            "143:\tlearn: 150.0175883\ttotal: 413ms\tremaining: 2.45s\n",
            "144:\tlearn: 149.6327647\ttotal: 415ms\tremaining: 2.45s\n",
            "145:\tlearn: 148.9265718\ttotal: 417ms\tremaining: 2.44s\n",
            "146:\tlearn: 148.4460764\ttotal: 420ms\tremaining: 2.43s\n",
            "147:\tlearn: 147.8108318\ttotal: 422ms\tremaining: 2.43s\n",
            "148:\tlearn: 147.2766525\ttotal: 424ms\tremaining: 2.42s\n",
            "149:\tlearn: 146.8537279\ttotal: 427ms\tremaining: 2.42s\n",
            "150:\tlearn: 146.0227438\ttotal: 429ms\tremaining: 2.41s\n",
            "151:\tlearn: 145.5603059\ttotal: 431ms\tremaining: 2.4s\n",
            "152:\tlearn: 145.0318400\ttotal: 433ms\tremaining: 2.4s\n",
            "153:\tlearn: 144.6082188\ttotal: 436ms\tremaining: 2.39s\n",
            "154:\tlearn: 144.2070501\ttotal: 438ms\tremaining: 2.39s\n",
            "155:\tlearn: 143.8060676\ttotal: 440ms\tremaining: 2.38s\n",
            "156:\tlearn: 143.3819707\ttotal: 442ms\tremaining: 2.38s\n",
            "157:\tlearn: 143.0764402\ttotal: 445ms\tremaining: 2.37s\n",
            "158:\tlearn: 142.4609449\ttotal: 447ms\tremaining: 2.36s\n",
            "159:\tlearn: 142.3321970\ttotal: 449ms\tremaining: 2.36s\n",
            "160:\tlearn: 141.9044208\ttotal: 451ms\tremaining: 2.35s\n",
            "161:\tlearn: 141.4544471\ttotal: 454ms\tremaining: 2.35s\n",
            "162:\tlearn: 140.9391569\ttotal: 456ms\tremaining: 2.34s\n",
            "163:\tlearn: 140.3413557\ttotal: 458ms\tremaining: 2.33s\n",
            "164:\tlearn: 139.7992277\ttotal: 460ms\tremaining: 2.33s\n",
            "165:\tlearn: 139.3139418\ttotal: 463ms\tremaining: 2.32s\n",
            "166:\tlearn: 139.1617594\ttotal: 465ms\tremaining: 2.32s\n",
            "167:\tlearn: 138.8837397\ttotal: 467ms\tremaining: 2.31s\n",
            "168:\tlearn: 138.6951410\ttotal: 473ms\tremaining: 2.32s\n",
            "169:\tlearn: 138.0167618\ttotal: 476ms\tremaining: 2.32s\n",
            "170:\tlearn: 137.7020324\ttotal: 478ms\tremaining: 2.32s\n",
            "171:\tlearn: 137.1976478\ttotal: 481ms\tremaining: 2.31s\n",
            "172:\tlearn: 136.6670434\ttotal: 483ms\tremaining: 2.31s\n",
            "173:\tlearn: 136.4670074\ttotal: 485ms\tremaining: 2.3s\n",
            "174:\tlearn: 136.0663779\ttotal: 487ms\tremaining: 2.3s\n",
            "175:\tlearn: 135.9542221\ttotal: 490ms\tremaining: 2.29s\n",
            "176:\tlearn: 135.6178437\ttotal: 492ms\tremaining: 2.29s\n",
            "177:\tlearn: 134.6062854\ttotal: 494ms\tremaining: 2.28s\n",
            "178:\tlearn: 134.5063344\ttotal: 495ms\tremaining: 2.27s\n",
            "179:\tlearn: 133.9371247\ttotal: 498ms\tremaining: 2.27s\n",
            "180:\tlearn: 133.8431589\ttotal: 499ms\tremaining: 2.25s\n",
            "181:\tlearn: 133.4293648\ttotal: 501ms\tremaining: 2.25s\n",
            "182:\tlearn: 133.2065999\ttotal: 503ms\tremaining: 2.25s\n",
            "183:\tlearn: 132.9235113\ttotal: 505ms\tremaining: 2.24s\n",
            "184:\tlearn: 132.6695944\ttotal: 508ms\tremaining: 2.24s\n",
            "185:\tlearn: 132.3135234\ttotal: 510ms\tremaining: 2.23s\n",
            "186:\tlearn: 132.2233433\ttotal: 512ms\tremaining: 2.22s\n",
            "187:\tlearn: 132.0628764\ttotal: 514ms\tremaining: 2.22s\n",
            "188:\tlearn: 131.8624217\ttotal: 516ms\tremaining: 2.21s\n",
            "189:\tlearn: 131.3846390\ttotal: 519ms\tremaining: 2.21s\n",
            "190:\tlearn: 131.0638781\ttotal: 521ms\tremaining: 2.21s\n",
            "191:\tlearn: 130.4721276\ttotal: 523ms\tremaining: 2.2s\n",
            "192:\tlearn: 129.9910319\ttotal: 525ms\tremaining: 2.2s\n",
            "193:\tlearn: 129.7074214\ttotal: 527ms\tremaining: 2.19s\n",
            "194:\tlearn: 129.0491404\ttotal: 530ms\tremaining: 2.19s\n",
            "195:\tlearn: 128.6928621\ttotal: 532ms\tremaining: 2.18s\n",
            "196:\tlearn: 128.5117514\ttotal: 534ms\tremaining: 2.18s\n",
            "197:\tlearn: 128.4035709\ttotal: 536ms\tremaining: 2.17s\n",
            "198:\tlearn: 127.9924182\ttotal: 538ms\tremaining: 2.17s\n",
            "199:\tlearn: 127.7690317\ttotal: 541ms\tremaining: 2.16s\n",
            "200:\tlearn: 127.6252249\ttotal: 543ms\tremaining: 2.16s\n",
            "201:\tlearn: 127.4951417\ttotal: 545ms\tremaining: 2.15s\n",
            "202:\tlearn: 127.0315349\ttotal: 547ms\tremaining: 2.15s\n",
            "203:\tlearn: 126.7791475\ttotal: 549ms\tremaining: 2.14s\n",
            "204:\tlearn: 126.4903107\ttotal: 552ms\tremaining: 2.14s\n",
            "205:\tlearn: 126.0664803\ttotal: 554ms\tremaining: 2.13s\n",
            "206:\tlearn: 125.3934071\ttotal: 556ms\tremaining: 2.13s\n",
            "207:\tlearn: 125.0899622\ttotal: 558ms\tremaining: 2.13s\n",
            "208:\tlearn: 124.7757310\ttotal: 561ms\tremaining: 2.12s\n",
            "209:\tlearn: 124.5475960\ttotal: 563ms\tremaining: 2.12s\n",
            "210:\tlearn: 124.1962887\ttotal: 565ms\tremaining: 2.11s\n",
            "211:\tlearn: 123.9686937\ttotal: 568ms\tremaining: 2.11s\n",
            "212:\tlearn: 123.0280048\ttotal: 570ms\tremaining: 2.1s\n",
            "213:\tlearn: 122.5447141\ttotal: 572ms\tremaining: 2.1s\n",
            "214:\tlearn: 122.1785305\ttotal: 574ms\tremaining: 2.1s\n",
            "215:\tlearn: 121.4403560\ttotal: 576ms\tremaining: 2.09s\n",
            "216:\tlearn: 120.8269584\ttotal: 582ms\tremaining: 2.1s\n",
            "217:\tlearn: 120.2399329\ttotal: 587ms\tremaining: 2.11s\n",
            "218:\tlearn: 119.4852557\ttotal: 589ms\tremaining: 2.1s\n",
            "219:\tlearn: 119.2094151\ttotal: 591ms\tremaining: 2.1s\n",
            "220:\tlearn: 119.0417229\ttotal: 593ms\tremaining: 2.09s\n",
            "221:\tlearn: 118.9557915\ttotal: 595ms\tremaining: 2.09s\n",
            "222:\tlearn: 118.3082421\ttotal: 598ms\tremaining: 2.08s\n",
            "223:\tlearn: 117.7364211\ttotal: 600ms\tremaining: 2.08s\n",
            "224:\tlearn: 117.6324235\ttotal: 602ms\tremaining: 2.07s\n",
            "225:\tlearn: 117.2879743\ttotal: 604ms\tremaining: 2.07s\n",
            "226:\tlearn: 117.0422612\ttotal: 607ms\tremaining: 2.06s\n",
            "227:\tlearn: 116.8001379\ttotal: 609ms\tremaining: 2.06s\n",
            "228:\tlearn: 116.4854978\ttotal: 611ms\tremaining: 2.06s\n",
            "229:\tlearn: 115.7559740\ttotal: 613ms\tremaining: 2.05s\n",
            "230:\tlearn: 115.1896271\ttotal: 615ms\tremaining: 2.05s\n",
            "231:\tlearn: 114.9666291\ttotal: 618ms\tremaining: 2.04s\n",
            "232:\tlearn: 114.1239318\ttotal: 620ms\tremaining: 2.04s\n",
            "233:\tlearn: 113.9964466\ttotal: 622ms\tremaining: 2.04s\n",
            "234:\tlearn: 113.8912592\ttotal: 624ms\tremaining: 2.03s\n",
            "235:\tlearn: 113.4606970\ttotal: 627ms\tremaining: 2.03s\n",
            "236:\tlearn: 113.0958922\ttotal: 629ms\tremaining: 2.02s\n",
            "237:\tlearn: 113.0091361\ttotal: 631ms\tremaining: 2.02s\n",
            "238:\tlearn: 112.7657197\ttotal: 633ms\tremaining: 2.02s\n",
            "239:\tlearn: 112.2315070\ttotal: 636ms\tremaining: 2.01s\n",
            "240:\tlearn: 111.9507125\ttotal: 638ms\tremaining: 2.01s\n",
            "241:\tlearn: 111.7384492\ttotal: 640ms\tremaining: 2s\n",
            "242:\tlearn: 111.0693763\ttotal: 642ms\tremaining: 2s\n",
            "243:\tlearn: 110.3499926\ttotal: 645ms\tremaining: 2s\n",
            "244:\tlearn: 110.2316231\ttotal: 647ms\tremaining: 1.99s\n",
            "245:\tlearn: 109.6985998\ttotal: 649ms\tremaining: 1.99s\n",
            "246:\tlearn: 109.4279824\ttotal: 651ms\tremaining: 1.99s\n",
            "247:\tlearn: 109.1466762\ttotal: 654ms\tremaining: 1.98s\n",
            "248:\tlearn: 108.9628542\ttotal: 656ms\tremaining: 1.98s\n",
            "249:\tlearn: 108.7268676\ttotal: 658ms\tremaining: 1.97s\n",
            "250:\tlearn: 108.0921190\ttotal: 660ms\tremaining: 1.97s\n",
            "251:\tlearn: 107.6167844\ttotal: 662ms\tremaining: 1.97s\n",
            "252:\tlearn: 106.9716563\ttotal: 665ms\tremaining: 1.96s\n",
            "253:\tlearn: 106.4272485\ttotal: 667ms\tremaining: 1.96s\n",
            "254:\tlearn: 106.2032614\ttotal: 669ms\tremaining: 1.96s\n",
            "255:\tlearn: 105.5756794\ttotal: 671ms\tremaining: 1.95s\n",
            "256:\tlearn: 105.4918649\ttotal: 674ms\tremaining: 1.95s\n",
            "257:\tlearn: 105.2466976\ttotal: 676ms\tremaining: 1.94s\n",
            "258:\tlearn: 105.0461428\ttotal: 678ms\tremaining: 1.94s\n",
            "259:\tlearn: 104.5887628\ttotal: 680ms\tremaining: 1.94s\n",
            "260:\tlearn: 104.1305873\ttotal: 683ms\tremaining: 1.93s\n",
            "261:\tlearn: 103.5527158\ttotal: 685ms\tremaining: 1.93s\n",
            "262:\tlearn: 103.0334823\ttotal: 687ms\tremaining: 1.93s\n",
            "263:\tlearn: 102.6732388\ttotal: 689ms\tremaining: 1.92s\n",
            "264:\tlearn: 102.4678728\ttotal: 691ms\tremaining: 1.92s\n",
            "265:\tlearn: 101.9608852\ttotal: 694ms\tremaining: 1.91s\n",
            "266:\tlearn: 101.4449668\ttotal: 696ms\tremaining: 1.91s\n",
            "267:\tlearn: 100.9647899\ttotal: 698ms\tremaining: 1.91s\n",
            "268:\tlearn: 100.4376357\ttotal: 700ms\tremaining: 1.9s\n",
            "269:\tlearn: 100.1038322\ttotal: 703ms\tremaining: 1.9s\n",
            "270:\tlearn: 99.8991183\ttotal: 705ms\tremaining: 1.9s\n",
            "271:\tlearn: 99.4016031\ttotal: 707ms\tremaining: 1.89s\n",
            "272:\tlearn: 98.9231252\ttotal: 711ms\tremaining: 1.89s\n",
            "273:\tlearn: 98.5734863\ttotal: 715ms\tremaining: 1.89s\n",
            "274:\tlearn: 98.3333355\ttotal: 717ms\tremaining: 1.89s\n",
            "275:\tlearn: 97.9164082\ttotal: 720ms\tremaining: 1.89s\n",
            "276:\tlearn: 97.3911203\ttotal: 722ms\tremaining: 1.88s\n",
            "277:\tlearn: 96.9317789\ttotal: 724ms\tremaining: 1.88s\n",
            "278:\tlearn: 96.6243997\ttotal: 726ms\tremaining: 1.88s\n",
            "279:\tlearn: 96.3288821\ttotal: 728ms\tremaining: 1.87s\n",
            "280:\tlearn: 95.8579534\ttotal: 731ms\tremaining: 1.87s\n",
            "281:\tlearn: 95.4136026\ttotal: 733ms\tremaining: 1.86s\n",
            "282:\tlearn: 95.3442077\ttotal: 735ms\tremaining: 1.86s\n",
            "283:\tlearn: 95.1166584\ttotal: 737ms\tremaining: 1.86s\n",
            "284:\tlearn: 94.8017360\ttotal: 739ms\tremaining: 1.85s\n",
            "285:\tlearn: 94.5863908\ttotal: 742ms\tremaining: 1.85s\n",
            "286:\tlearn: 94.4111694\ttotal: 744ms\tremaining: 1.85s\n",
            "287:\tlearn: 94.2678024\ttotal: 746ms\tremaining: 1.84s\n",
            "288:\tlearn: 93.7753419\ttotal: 748ms\tremaining: 1.84s\n",
            "289:\tlearn: 93.3772710\ttotal: 751ms\tremaining: 1.84s\n",
            "290:\tlearn: 92.8750904\ttotal: 753ms\tremaining: 1.83s\n",
            "291:\tlearn: 92.6654794\ttotal: 755ms\tremaining: 1.83s\n",
            "292:\tlearn: 92.2659876\ttotal: 757ms\tremaining: 1.83s\n",
            "293:\tlearn: 92.0282495\ttotal: 760ms\tremaining: 1.82s\n",
            "294:\tlearn: 91.8288855\ttotal: 762ms\tremaining: 1.82s\n",
            "295:\tlearn: 91.6752612\ttotal: 764ms\tremaining: 1.82s\n",
            "296:\tlearn: 91.2561883\ttotal: 766ms\tremaining: 1.81s\n",
            "297:\tlearn: 91.0227123\ttotal: 769ms\tremaining: 1.81s\n",
            "298:\tlearn: 90.8392142\ttotal: 771ms\tremaining: 1.81s\n",
            "299:\tlearn: 90.6853014\ttotal: 779ms\tremaining: 1.82s\n",
            "300:\tlearn: 90.5986761\ttotal: 782ms\tremaining: 1.81s\n",
            "301:\tlearn: 90.2180036\ttotal: 784ms\tremaining: 1.81s\n",
            "302:\tlearn: 89.8313622\ttotal: 786ms\tremaining: 1.81s\n",
            "303:\tlearn: 89.6872837\ttotal: 789ms\tremaining: 1.8s\n",
            "304:\tlearn: 89.3853276\ttotal: 791ms\tremaining: 1.8s\n",
            "305:\tlearn: 88.9459206\ttotal: 793ms\tremaining: 1.8s\n",
            "306:\tlearn: 88.7258770\ttotal: 796ms\tremaining: 1.79s\n",
            "307:\tlearn: 88.5374358\ttotal: 798ms\tremaining: 1.79s\n",
            "308:\tlearn: 88.0624447\ttotal: 800ms\tremaining: 1.79s\n",
            "309:\tlearn: 87.7942692\ttotal: 802ms\tremaining: 1.78s\n",
            "310:\tlearn: 87.6354184\ttotal: 805ms\tremaining: 1.78s\n",
            "311:\tlearn: 87.4879486\ttotal: 807ms\tremaining: 1.78s\n",
            "312:\tlearn: 87.0294739\ttotal: 809ms\tremaining: 1.77s\n",
            "313:\tlearn: 86.6746221\ttotal: 811ms\tremaining: 1.77s\n",
            "314:\tlearn: 86.2792146\ttotal: 813ms\tremaining: 1.77s\n",
            "315:\tlearn: 86.2127070\ttotal: 816ms\tremaining: 1.76s\n",
            "316:\tlearn: 86.1507368\ttotal: 818ms\tremaining: 1.76s\n",
            "317:\tlearn: 85.7089141\ttotal: 820ms\tremaining: 1.76s\n",
            "318:\tlearn: 85.6035137\ttotal: 822ms\tremaining: 1.75s\n",
            "319:\tlearn: 85.3587988\ttotal: 824ms\tremaining: 1.75s\n",
            "320:\tlearn: 84.9660906\ttotal: 827ms\tremaining: 1.75s\n",
            "321:\tlearn: 84.5474713\ttotal: 829ms\tremaining: 1.75s\n",
            "322:\tlearn: 84.1996852\ttotal: 831ms\tremaining: 1.74s\n",
            "323:\tlearn: 84.0654282\ttotal: 833ms\tremaining: 1.74s\n",
            "324:\tlearn: 83.7937327\ttotal: 835ms\tremaining: 1.74s\n",
            "325:\tlearn: 83.5064288\ttotal: 838ms\tremaining: 1.73s\n",
            "326:\tlearn: 83.3997655\ttotal: 840ms\tremaining: 1.73s\n",
            "327:\tlearn: 83.2958622\ttotal: 842ms\tremaining: 1.73s\n",
            "328:\tlearn: 82.9877578\ttotal: 844ms\tremaining: 1.72s\n",
            "329:\tlearn: 82.6286638\ttotal: 847ms\tremaining: 1.72s\n",
            "330:\tlearn: 82.2827132\ttotal: 849ms\tremaining: 1.72s\n",
            "331:\tlearn: 82.0895251\ttotal: 855ms\tremaining: 1.72s\n",
            "332:\tlearn: 82.0130649\ttotal: 858ms\tremaining: 1.72s\n",
            "333:\tlearn: 81.6771734\ttotal: 861ms\tremaining: 1.72s\n",
            "334:\tlearn: 81.3519124\ttotal: 863ms\tremaining: 1.71s\n",
            "335:\tlearn: 81.0170326\ttotal: 865ms\tremaining: 1.71s\n",
            "336:\tlearn: 80.6917886\ttotal: 867ms\tremaining: 1.71s\n",
            "337:\tlearn: 80.3455177\ttotal: 869ms\tremaining: 1.7s\n",
            "338:\tlearn: 80.0260727\ttotal: 872ms\tremaining: 1.7s\n",
            "339:\tlearn: 79.9154748\ttotal: 874ms\tremaining: 1.7s\n",
            "340:\tlearn: 79.7813079\ttotal: 876ms\tremaining: 1.69s\n",
            "341:\tlearn: 79.3513293\ttotal: 878ms\tremaining: 1.69s\n",
            "342:\tlearn: 78.8666019\ttotal: 880ms\tremaining: 1.69s\n",
            "343:\tlearn: 78.7959013\ttotal: 883ms\tremaining: 1.68s\n",
            "344:\tlearn: 78.7081334\ttotal: 885ms\tremaining: 1.68s\n",
            "345:\tlearn: 78.3354931\ttotal: 887ms\tremaining: 1.68s\n",
            "346:\tlearn: 77.9475067\ttotal: 889ms\tremaining: 1.67s\n",
            "347:\tlearn: 77.8910420\ttotal: 891ms\tremaining: 1.67s\n",
            "348:\tlearn: 77.5461672\ttotal: 894ms\tremaining: 1.67s\n",
            "349:\tlearn: 77.3717101\ttotal: 896ms\tremaining: 1.66s\n",
            "350:\tlearn: 77.0729657\ttotal: 898ms\tremaining: 1.66s\n",
            "351:\tlearn: 76.7699287\ttotal: 900ms\tremaining: 1.66s\n",
            "352:\tlearn: 76.6029759\ttotal: 902ms\tremaining: 1.65s\n",
            "353:\tlearn: 76.1642615\ttotal: 905ms\tremaining: 1.65s\n",
            "354:\tlearn: 76.1202523\ttotal: 907ms\tremaining: 1.65s\n",
            "355:\tlearn: 75.9487132\ttotal: 909ms\tremaining: 1.65s\n",
            "356:\tlearn: 75.6748479\ttotal: 912ms\tremaining: 1.64s\n",
            "357:\tlearn: 75.4290864\ttotal: 914ms\tremaining: 1.64s\n",
            "358:\tlearn: 75.0463849\ttotal: 916ms\tremaining: 1.64s\n",
            "359:\tlearn: 74.9902381\ttotal: 918ms\tremaining: 1.63s\n",
            "360:\tlearn: 74.5243875\ttotal: 921ms\tremaining: 1.63s\n",
            "361:\tlearn: 74.1913065\ttotal: 923ms\tremaining: 1.63s\n",
            "362:\tlearn: 73.8413359\ttotal: 925ms\tremaining: 1.62s\n",
            "363:\tlearn: 73.7602119\ttotal: 927ms\tremaining: 1.62s\n",
            "364:\tlearn: 73.3278135\ttotal: 929ms\tremaining: 1.62s\n",
            "365:\tlearn: 72.9524336\ttotal: 932ms\tremaining: 1.61s\n",
            "366:\tlearn: 72.6791856\ttotal: 934ms\tremaining: 1.61s\n",
            "367:\tlearn: 72.4333577\ttotal: 936ms\tremaining: 1.61s\n",
            "368:\tlearn: 72.1672937\ttotal: 938ms\tremaining: 1.6s\n",
            "369:\tlearn: 71.9070276\ttotal: 941ms\tremaining: 1.6s\n",
            "370:\tlearn: 71.5496196\ttotal: 943ms\tremaining: 1.6s\n",
            "371:\tlearn: 71.3161902\ttotal: 945ms\tremaining: 1.59s\n",
            "372:\tlearn: 71.1259191\ttotal: 947ms\tremaining: 1.59s\n",
            "373:\tlearn: 70.9889962\ttotal: 950ms\tremaining: 1.59s\n",
            "374:\tlearn: 70.7417966\ttotal: 952ms\tremaining: 1.59s\n",
            "375:\tlearn: 70.4931174\ttotal: 954ms\tremaining: 1.58s\n",
            "376:\tlearn: 70.3300576\ttotal: 957ms\tremaining: 1.58s\n",
            "377:\tlearn: 69.9233248\ttotal: 959ms\tremaining: 1.58s\n",
            "378:\tlearn: 69.6261005\ttotal: 961ms\tremaining: 1.57s\n",
            "379:\tlearn: 69.3989708\ttotal: 963ms\tremaining: 1.57s\n",
            "380:\tlearn: 69.0085387\ttotal: 966ms\tremaining: 1.57s\n",
            "381:\tlearn: 68.7604153\ttotal: 968ms\tremaining: 1.56s\n",
            "382:\tlearn: 68.4602767\ttotal: 971ms\tremaining: 1.56s\n",
            "383:\tlearn: 68.1005452\ttotal: 978ms\tremaining: 1.57s\n",
            "384:\tlearn: 68.0540467\ttotal: 980ms\tremaining: 1.56s\n",
            "385:\tlearn: 67.8972753\ttotal: 982ms\tremaining: 1.56s\n",
            "386:\tlearn: 67.5389629\ttotal: 985ms\tremaining: 1.56s\n",
            "387:\tlearn: 67.2390178\ttotal: 987ms\tremaining: 1.56s\n",
            "388:\tlearn: 67.0279888\ttotal: 989ms\tremaining: 1.55s\n",
            "389:\tlearn: 66.8375919\ttotal: 991ms\tremaining: 1.55s\n",
            "390:\tlearn: 66.4118315\ttotal: 993ms\tremaining: 1.55s\n",
            "391:\tlearn: 66.3642690\ttotal: 996ms\tremaining: 1.54s\n",
            "392:\tlearn: 66.1673138\ttotal: 998ms\tremaining: 1.54s\n",
            "393:\tlearn: 66.0177482\ttotal: 1s\tremaining: 1.54s\n",
            "394:\tlearn: 65.8018038\ttotal: 1s\tremaining: 1.54s\n",
            "395:\tlearn: 65.6886505\ttotal: 1s\tremaining: 1.53s\n",
            "396:\tlearn: 65.6120185\ttotal: 1.01s\tremaining: 1.53s\n",
            "397:\tlearn: 65.5746662\ttotal: 1.01s\tremaining: 1.53s\n",
            "398:\tlearn: 65.2974851\ttotal: 1.01s\tremaining: 1.52s\n",
            "399:\tlearn: 65.2464764\ttotal: 1.01s\tremaining: 1.52s\n",
            "400:\tlearn: 65.1241314\ttotal: 1.02s\tremaining: 1.52s\n",
            "401:\tlearn: 65.0515740\ttotal: 1.02s\tremaining: 1.51s\n",
            "402:\tlearn: 64.8089636\ttotal: 1.02s\tremaining: 1.51s\n",
            "403:\tlearn: 64.5992230\ttotal: 1.02s\tremaining: 1.51s\n",
            "404:\tlearn: 64.2907010\ttotal: 1.02s\tremaining: 1.51s\n",
            "405:\tlearn: 64.1568642\ttotal: 1.03s\tremaining: 1.5s\n",
            "406:\tlearn: 63.8279106\ttotal: 1.03s\tremaining: 1.5s\n",
            "407:\tlearn: 63.5558565\ttotal: 1.03s\tremaining: 1.5s\n",
            "408:\tlearn: 63.3865445\ttotal: 1.03s\tremaining: 1.5s\n",
            "409:\tlearn: 63.2752408\ttotal: 1.04s\tremaining: 1.49s\n",
            "410:\tlearn: 63.1070190\ttotal: 1.04s\tremaining: 1.49s\n",
            "411:\tlearn: 62.7868376\ttotal: 1.04s\tremaining: 1.49s\n",
            "412:\tlearn: 62.5345803\ttotal: 1.04s\tremaining: 1.48s\n",
            "413:\tlearn: 62.2729058\ttotal: 1.04s\tremaining: 1.48s\n",
            "414:\tlearn: 61.9850985\ttotal: 1.05s\tremaining: 1.48s\n",
            "415:\tlearn: 61.7784164\ttotal: 1.05s\tremaining: 1.47s\n",
            "416:\tlearn: 61.7431976\ttotal: 1.05s\tremaining: 1.47s\n",
            "417:\tlearn: 61.4309964\ttotal: 1.05s\tremaining: 1.47s\n",
            "418:\tlearn: 61.3513660\ttotal: 1.06s\tremaining: 1.47s\n",
            "419:\tlearn: 61.1253739\ttotal: 1.06s\tremaining: 1.46s\n",
            "420:\tlearn: 61.0742571\ttotal: 1.06s\tremaining: 1.46s\n",
            "421:\tlearn: 61.0390980\ttotal: 1.06s\tremaining: 1.46s\n",
            "422:\tlearn: 61.0095757\ttotal: 1.07s\tremaining: 1.45s\n",
            "423:\tlearn: 60.6843255\ttotal: 1.07s\tremaining: 1.45s\n",
            "424:\tlearn: 60.4045551\ttotal: 1.07s\tremaining: 1.45s\n",
            "425:\tlearn: 60.3649587\ttotal: 1.07s\tremaining: 1.45s\n",
            "426:\tlearn: 60.3315828\ttotal: 1.07s\tremaining: 1.44s\n",
            "427:\tlearn: 60.1047027\ttotal: 1.08s\tremaining: 1.44s\n",
            "428:\tlearn: 59.9170736\ttotal: 1.08s\tremaining: 1.44s\n",
            "429:\tlearn: 59.6875648\ttotal: 1.08s\tremaining: 1.44s\n",
            "430:\tlearn: 59.6662150\ttotal: 1.09s\tremaining: 1.44s\n",
            "431:\tlearn: 59.4208112\ttotal: 1.09s\tremaining: 1.44s\n",
            "432:\tlearn: 59.2358034\ttotal: 1.1s\tremaining: 1.44s\n",
            "433:\tlearn: 58.9818868\ttotal: 1.1s\tremaining: 1.43s\n",
            "434:\tlearn: 58.7089433\ttotal: 1.1s\tremaining: 1.43s\n",
            "435:\tlearn: 58.5898817\ttotal: 1.1s\tremaining: 1.43s\n",
            "436:\tlearn: 58.5425342\ttotal: 1.11s\tremaining: 1.43s\n",
            "437:\tlearn: 58.2884605\ttotal: 1.11s\tremaining: 1.42s\n",
            "438:\tlearn: 58.2643873\ttotal: 1.11s\tremaining: 1.42s\n",
            "439:\tlearn: 58.2330868\ttotal: 1.11s\tremaining: 1.42s\n",
            "440:\tlearn: 57.9676592\ttotal: 1.11s\tremaining: 1.41s\n",
            "441:\tlearn: 57.7670212\ttotal: 1.12s\tremaining: 1.41s\n",
            "442:\tlearn: 57.5322464\ttotal: 1.12s\tremaining: 1.41s\n",
            "443:\tlearn: 57.2771620\ttotal: 1.12s\tremaining: 1.41s\n",
            "444:\tlearn: 57.0227885\ttotal: 1.12s\tremaining: 1.4s\n",
            "445:\tlearn: 56.7616770\ttotal: 1.13s\tremaining: 1.4s\n",
            "446:\tlearn: 56.7367450\ttotal: 1.13s\tremaining: 1.4s\n",
            "447:\tlearn: 56.6715001\ttotal: 1.13s\tremaining: 1.39s\n",
            "448:\tlearn: 56.4881346\ttotal: 1.13s\tremaining: 1.39s\n",
            "449:\tlearn: 56.3749776\ttotal: 1.14s\tremaining: 1.39s\n",
            "450:\tlearn: 56.2172319\ttotal: 1.14s\tremaining: 1.39s\n",
            "451:\tlearn: 55.9461925\ttotal: 1.14s\tremaining: 1.38s\n",
            "452:\tlearn: 55.8884270\ttotal: 1.14s\tremaining: 1.38s\n",
            "453:\tlearn: 55.7987432\ttotal: 1.15s\tremaining: 1.38s\n",
            "454:\tlearn: 55.7376337\ttotal: 1.15s\tremaining: 1.37s\n",
            "455:\tlearn: 55.5150595\ttotal: 1.15s\tremaining: 1.37s\n",
            "456:\tlearn: 55.4819680\ttotal: 1.15s\tremaining: 1.37s\n",
            "457:\tlearn: 55.1719919\ttotal: 1.15s\tremaining: 1.37s\n",
            "458:\tlearn: 55.1295759\ttotal: 1.16s\tremaining: 1.36s\n",
            "459:\tlearn: 55.0856302\ttotal: 1.16s\tremaining: 1.36s\n",
            "460:\tlearn: 54.8056235\ttotal: 1.16s\tremaining: 1.36s\n",
            "461:\tlearn: 54.4030407\ttotal: 1.16s\tremaining: 1.35s\n",
            "462:\tlearn: 54.3308204\ttotal: 1.17s\tremaining: 1.35s\n",
            "463:\tlearn: 54.0283724\ttotal: 1.17s\tremaining: 1.35s\n",
            "464:\tlearn: 53.9962714\ttotal: 1.17s\tremaining: 1.35s\n",
            "465:\tlearn: 53.8149476\ttotal: 1.18s\tremaining: 1.35s\n",
            "466:\tlearn: 53.7806209\ttotal: 1.18s\tremaining: 1.35s\n",
            "467:\tlearn: 53.7585727\ttotal: 1.18s\tremaining: 1.34s\n",
            "468:\tlearn: 53.5042777\ttotal: 1.18s\tremaining: 1.34s\n",
            "469:\tlearn: 53.3257034\ttotal: 1.19s\tremaining: 1.34s\n",
            "470:\tlearn: 53.0801119\ttotal: 1.19s\tremaining: 1.33s\n",
            "471:\tlearn: 53.0136550\ttotal: 1.19s\tremaining: 1.33s\n",
            "472:\tlearn: 52.9408930\ttotal: 1.19s\tremaining: 1.33s\n",
            "473:\tlearn: 52.7089062\ttotal: 1.2s\tremaining: 1.33s\n",
            "474:\tlearn: 52.6819781\ttotal: 1.2s\tremaining: 1.32s\n",
            "475:\tlearn: 52.5065568\ttotal: 1.2s\tremaining: 1.32s\n",
            "476:\tlearn: 52.3688770\ttotal: 1.2s\tremaining: 1.32s\n",
            "477:\tlearn: 52.2402473\ttotal: 1.2s\tremaining: 1.31s\n",
            "478:\tlearn: 52.1406517\ttotal: 1.21s\tremaining: 1.31s\n",
            "479:\tlearn: 52.1107144\ttotal: 1.21s\tremaining: 1.31s\n",
            "480:\tlearn: 51.9239449\ttotal: 1.21s\tremaining: 1.3s\n",
            "481:\tlearn: 51.7096820\ttotal: 1.21s\tremaining: 1.3s\n",
            "482:\tlearn: 51.6266918\ttotal: 1.21s\tremaining: 1.3s\n",
            "483:\tlearn: 51.5969797\ttotal: 1.22s\tremaining: 1.3s\n",
            "484:\tlearn: 51.4480162\ttotal: 1.22s\tremaining: 1.29s\n",
            "485:\tlearn: 51.2269261\ttotal: 1.22s\tremaining: 1.29s\n",
            "486:\tlearn: 50.9904632\ttotal: 1.22s\tremaining: 1.29s\n",
            "487:\tlearn: 50.9342043\ttotal: 1.23s\tremaining: 1.28s\n",
            "488:\tlearn: 50.8423680\ttotal: 1.23s\tremaining: 1.28s\n",
            "489:\tlearn: 50.7269788\ttotal: 1.23s\tremaining: 1.28s\n",
            "490:\tlearn: 50.5384699\ttotal: 1.23s\tremaining: 1.28s\n",
            "491:\tlearn: 50.5047793\ttotal: 1.23s\tremaining: 1.27s\n",
            "492:\tlearn: 50.3234448\ttotal: 1.24s\tremaining: 1.27s\n",
            "493:\tlearn: 50.1653421\ttotal: 1.24s\tremaining: 1.27s\n",
            "494:\tlearn: 49.9835558\ttotal: 1.24s\tremaining: 1.27s\n",
            "495:\tlearn: 49.8884283\ttotal: 1.24s\tremaining: 1.26s\n",
            "496:\tlearn: 49.6217364\ttotal: 1.25s\tremaining: 1.26s\n",
            "497:\tlearn: 49.5268562\ttotal: 1.25s\tremaining: 1.26s\n",
            "498:\tlearn: 49.3078402\ttotal: 1.25s\tremaining: 1.25s\n",
            "499:\tlearn: 49.2571676\ttotal: 1.25s\tremaining: 1.25s\n",
            "500:\tlearn: 49.2173141\ttotal: 1.25s\tremaining: 1.25s\n",
            "501:\tlearn: 48.9813103\ttotal: 1.26s\tremaining: 1.25s\n",
            "502:\tlearn: 48.8304542\ttotal: 1.26s\tremaining: 1.24s\n",
            "503:\tlearn: 48.7430936\ttotal: 1.26s\tremaining: 1.24s\n",
            "504:\tlearn: 48.5493989\ttotal: 1.26s\tremaining: 1.24s\n",
            "505:\tlearn: 48.5134839\ttotal: 1.27s\tremaining: 1.24s\n",
            "506:\tlearn: 48.3516141\ttotal: 1.27s\tremaining: 1.23s\n",
            "507:\tlearn: 48.0631542\ttotal: 1.27s\tremaining: 1.23s\n",
            "508:\tlearn: 47.8591880\ttotal: 1.27s\tremaining: 1.23s\n",
            "509:\tlearn: 47.7182444\ttotal: 1.27s\tremaining: 1.23s\n",
            "510:\tlearn: 47.6301870\ttotal: 1.28s\tremaining: 1.22s\n",
            "511:\tlearn: 47.4767324\ttotal: 1.28s\tremaining: 1.22s\n",
            "512:\tlearn: 47.2822625\ttotal: 1.28s\tremaining: 1.22s\n",
            "513:\tlearn: 47.1022658\ttotal: 1.28s\tremaining: 1.21s\n",
            "514:\tlearn: 47.0536181\ttotal: 1.29s\tremaining: 1.21s\n",
            "515:\tlearn: 47.0249559\ttotal: 1.29s\tremaining: 1.21s\n",
            "516:\tlearn: 46.8789720\ttotal: 1.29s\tremaining: 1.21s\n",
            "517:\tlearn: 46.7133769\ttotal: 1.29s\tremaining: 1.2s\n",
            "518:\tlearn: 46.5157986\ttotal: 1.29s\tremaining: 1.2s\n",
            "519:\tlearn: 46.3630405\ttotal: 1.3s\tremaining: 1.2s\n",
            "520:\tlearn: 46.1730188\ttotal: 1.3s\tremaining: 1.2s\n",
            "521:\tlearn: 46.1360908\ttotal: 1.3s\tremaining: 1.19s\n",
            "522:\tlearn: 45.9652487\ttotal: 1.3s\tremaining: 1.19s\n",
            "523:\tlearn: 45.8122703\ttotal: 1.31s\tremaining: 1.19s\n",
            "524:\tlearn: 45.4984451\ttotal: 1.31s\tremaining: 1.18s\n",
            "525:\tlearn: 45.3161076\ttotal: 1.31s\tremaining: 1.18s\n",
            "526:\tlearn: 45.2802854\ttotal: 1.31s\tremaining: 1.18s\n",
            "527:\tlearn: 45.2448275\ttotal: 1.31s\tremaining: 1.18s\n",
            "528:\tlearn: 45.0816321\ttotal: 1.32s\tremaining: 1.17s\n",
            "529:\tlearn: 44.9794319\ttotal: 1.32s\tremaining: 1.17s\n",
            "530:\tlearn: 44.6832140\ttotal: 1.32s\tremaining: 1.17s\n",
            "531:\tlearn: 44.4460046\ttotal: 1.32s\tremaining: 1.17s\n",
            "532:\tlearn: 44.2118287\ttotal: 1.33s\tremaining: 1.16s\n",
            "533:\tlearn: 44.0693524\ttotal: 1.33s\tremaining: 1.16s\n",
            "534:\tlearn: 43.7781614\ttotal: 1.33s\tremaining: 1.16s\n",
            "535:\tlearn: 43.5541731\ttotal: 1.33s\tremaining: 1.16s\n",
            "536:\tlearn: 43.5134866\ttotal: 1.34s\tremaining: 1.15s\n",
            "537:\tlearn: 43.3609810\ttotal: 1.34s\tremaining: 1.15s\n",
            "538:\tlearn: 43.1828364\ttotal: 1.34s\tremaining: 1.15s\n",
            "539:\tlearn: 43.1681810\ttotal: 1.34s\tremaining: 1.14s\n",
            "540:\tlearn: 43.0597548\ttotal: 1.34s\tremaining: 1.14s\n",
            "541:\tlearn: 43.0399237\ttotal: 1.35s\tremaining: 1.14s\n",
            "542:\tlearn: 42.7955247\ttotal: 1.35s\tremaining: 1.14s\n",
            "543:\tlearn: 42.5339065\ttotal: 1.35s\tremaining: 1.13s\n",
            "544:\tlearn: 42.4295635\ttotal: 1.35s\tremaining: 1.13s\n",
            "545:\tlearn: 42.2338376\ttotal: 1.36s\tremaining: 1.13s\n",
            "546:\tlearn: 42.0124060\ttotal: 1.36s\tremaining: 1.13s\n",
            "547:\tlearn: 41.8255183\ttotal: 1.36s\tremaining: 1.13s\n",
            "548:\tlearn: 41.6388681\ttotal: 1.37s\tremaining: 1.12s\n",
            "549:\tlearn: 41.4001270\ttotal: 1.37s\tremaining: 1.12s\n",
            "550:\tlearn: 41.1013528\ttotal: 1.37s\tremaining: 1.12s\n",
            "551:\tlearn: 41.0100295\ttotal: 1.38s\tremaining: 1.12s\n",
            "552:\tlearn: 40.9906076\ttotal: 1.38s\tremaining: 1.11s\n",
            "553:\tlearn: 40.8809109\ttotal: 1.38s\tremaining: 1.11s\n",
            "554:\tlearn: 40.7831302\ttotal: 1.38s\tremaining: 1.11s\n",
            "555:\tlearn: 40.7317763\ttotal: 1.38s\tremaining: 1.1s\n",
            "556:\tlearn: 40.6321710\ttotal: 1.39s\tremaining: 1.1s\n",
            "557:\tlearn: 40.4475073\ttotal: 1.39s\tremaining: 1.1s\n",
            "558:\tlearn: 40.2859957\ttotal: 1.39s\tremaining: 1.1s\n",
            "559:\tlearn: 40.0262057\ttotal: 1.39s\tremaining: 1.09s\n",
            "560:\tlearn: 39.9326350\ttotal: 1.4s\tremaining: 1.09s\n",
            "561:\tlearn: 39.8735956\ttotal: 1.4s\tremaining: 1.09s\n",
            "562:\tlearn: 39.7083019\ttotal: 1.4s\tremaining: 1.09s\n",
            "563:\tlearn: 39.5379855\ttotal: 1.4s\tremaining: 1.08s\n",
            "564:\tlearn: 39.3451301\ttotal: 1.41s\tremaining: 1.08s\n",
            "565:\tlearn: 39.2041273\ttotal: 1.41s\tremaining: 1.08s\n",
            "566:\tlearn: 38.9870162\ttotal: 1.41s\tremaining: 1.08s\n",
            "567:\tlearn: 38.8638040\ttotal: 1.41s\tremaining: 1.07s\n",
            "568:\tlearn: 38.7752116\ttotal: 1.41s\tremaining: 1.07s\n",
            "569:\tlearn: 38.6530297\ttotal: 1.42s\tremaining: 1.07s\n",
            "570:\tlearn: 38.5505372\ttotal: 1.42s\tremaining: 1.07s\n",
            "571:\tlearn: 38.5134486\ttotal: 1.42s\tremaining: 1.06s\n",
            "572:\tlearn: 38.3680902\ttotal: 1.43s\tremaining: 1.06s\n",
            "573:\tlearn: 38.1897295\ttotal: 1.43s\tremaining: 1.06s\n",
            "574:\tlearn: 38.1083536\ttotal: 1.43s\tremaining: 1.06s\n",
            "575:\tlearn: 37.9229216\ttotal: 1.43s\tremaining: 1.05s\n",
            "576:\tlearn: 37.8377087\ttotal: 1.44s\tremaining: 1.05s\n",
            "577:\tlearn: 37.7966900\ttotal: 1.44s\tremaining: 1.05s\n",
            "578:\tlearn: 37.6700761\ttotal: 1.44s\tremaining: 1.05s\n",
            "579:\tlearn: 37.6355177\ttotal: 1.44s\tremaining: 1.04s\n",
            "580:\tlearn: 37.4648199\ttotal: 1.44s\tremaining: 1.04s\n",
            "581:\tlearn: 37.2959505\ttotal: 1.45s\tremaining: 1.04s\n",
            "582:\tlearn: 37.1423961\ttotal: 1.45s\tremaining: 1.04s\n",
            "583:\tlearn: 36.9297315\ttotal: 1.45s\tremaining: 1.03s\n",
            "584:\tlearn: 36.8850382\ttotal: 1.45s\tremaining: 1.03s\n",
            "585:\tlearn: 36.7546519\ttotal: 1.46s\tremaining: 1.03s\n",
            "586:\tlearn: 36.7377554\ttotal: 1.46s\tremaining: 1.03s\n",
            "587:\tlearn: 36.6899102\ttotal: 1.46s\tremaining: 1.02s\n",
            "588:\tlearn: 36.5617094\ttotal: 1.46s\tremaining: 1.02s\n",
            "589:\tlearn: 36.4272921\ttotal: 1.47s\tremaining: 1.02s\n",
            "590:\tlearn: 36.2657889\ttotal: 1.47s\tremaining: 1.02s\n",
            "591:\tlearn: 36.2539345\ttotal: 1.47s\tremaining: 1.01s\n",
            "592:\tlearn: 36.2314399\ttotal: 1.47s\tremaining: 1.01s\n",
            "593:\tlearn: 36.0683824\ttotal: 1.48s\tremaining: 1.01s\n",
            "594:\tlearn: 35.9283095\ttotal: 1.48s\tremaining: 1s\n",
            "595:\tlearn: 35.7968288\ttotal: 1.48s\tremaining: 1s\n",
            "596:\tlearn: 35.7223423\ttotal: 1.48s\tremaining: 1s\n",
            "597:\tlearn: 35.5848854\ttotal: 1.49s\tremaining: 999ms\n",
            "598:\tlearn: 35.4754344\ttotal: 1.49s\tremaining: 996ms\n",
            "599:\tlearn: 35.3533890\ttotal: 1.49s\tremaining: 993ms\n",
            "600:\tlearn: 35.2201505\ttotal: 1.49s\tremaining: 991ms\n",
            "601:\tlearn: 35.0873272\ttotal: 1.49s\tremaining: 988ms\n",
            "602:\tlearn: 35.0461873\ttotal: 1.5s\tremaining: 986ms\n",
            "603:\tlearn: 34.9273071\ttotal: 1.5s\tremaining: 983ms\n",
            "604:\tlearn: 34.8162855\ttotal: 1.5s\tremaining: 981ms\n",
            "605:\tlearn: 34.7130059\ttotal: 1.5s\tremaining: 978ms\n",
            "606:\tlearn: 34.5585617\ttotal: 1.51s\tremaining: 975ms\n",
            "607:\tlearn: 34.4611907\ttotal: 1.51s\tremaining: 973ms\n",
            "608:\tlearn: 34.4326546\ttotal: 1.51s\tremaining: 970ms\n",
            "609:\tlearn: 34.2846979\ttotal: 1.51s\tremaining: 968ms\n",
            "610:\tlearn: 34.1734501\ttotal: 1.52s\tremaining: 965ms\n",
            "611:\tlearn: 34.0230965\ttotal: 1.52s\tremaining: 963ms\n",
            "612:\tlearn: 33.8282501\ttotal: 1.52s\tremaining: 960ms\n",
            "613:\tlearn: 33.7746747\ttotal: 1.52s\tremaining: 958ms\n",
            "614:\tlearn: 33.7068386\ttotal: 1.52s\tremaining: 955ms\n",
            "615:\tlearn: 33.5780800\ttotal: 1.53s\tremaining: 952ms\n",
            "616:\tlearn: 33.4695325\ttotal: 1.53s\tremaining: 951ms\n",
            "617:\tlearn: 33.3463443\ttotal: 1.53s\tremaining: 949ms\n",
            "618:\tlearn: 33.2877395\ttotal: 1.54s\tremaining: 947ms\n",
            "619:\tlearn: 33.2418826\ttotal: 1.54s\tremaining: 944ms\n",
            "620:\tlearn: 33.1045465\ttotal: 1.54s\tremaining: 941ms\n",
            "621:\tlearn: 32.9400639\ttotal: 1.54s\tremaining: 939ms\n",
            "622:\tlearn: 32.8996970\ttotal: 1.55s\tremaining: 936ms\n",
            "623:\tlearn: 32.7429487\ttotal: 1.55s\tremaining: 936ms\n",
            "624:\tlearn: 32.6132355\ttotal: 1.56s\tremaining: 935ms\n",
            "625:\tlearn: 32.4714976\ttotal: 1.56s\tremaining: 932ms\n",
            "626:\tlearn: 32.4320448\ttotal: 1.56s\tremaining: 929ms\n",
            "627:\tlearn: 32.2628258\ttotal: 1.56s\tremaining: 927ms\n",
            "628:\tlearn: 32.2038569\ttotal: 1.57s\tremaining: 924ms\n",
            "629:\tlearn: 32.0940738\ttotal: 1.57s\tremaining: 922ms\n",
            "630:\tlearn: 32.0068495\ttotal: 1.57s\tremaining: 919ms\n",
            "631:\tlearn: 31.9053748\ttotal: 1.57s\tremaining: 916ms\n",
            "632:\tlearn: 31.7715772\ttotal: 1.58s\tremaining: 914ms\n",
            "633:\tlearn: 31.6687835\ttotal: 1.58s\tremaining: 911ms\n",
            "634:\tlearn: 31.6368050\ttotal: 1.58s\tremaining: 909ms\n",
            "635:\tlearn: 31.5709628\ttotal: 1.58s\tremaining: 906ms\n",
            "636:\tlearn: 31.4052213\ttotal: 1.58s\tremaining: 904ms\n",
            "637:\tlearn: 31.2452229\ttotal: 1.59s\tremaining: 901ms\n",
            "638:\tlearn: 31.1221828\ttotal: 1.59s\tremaining: 898ms\n",
            "639:\tlearn: 31.0853500\ttotal: 1.59s\tremaining: 896ms\n",
            "640:\tlearn: 30.9167355\ttotal: 1.59s\tremaining: 893ms\n",
            "641:\tlearn: 30.8667253\ttotal: 1.6s\tremaining: 891ms\n",
            "642:\tlearn: 30.7427129\ttotal: 1.6s\tremaining: 888ms\n",
            "643:\tlearn: 30.5748228\ttotal: 1.6s\tremaining: 886ms\n",
            "644:\tlearn: 30.5080592\ttotal: 1.6s\tremaining: 883ms\n",
            "645:\tlearn: 30.3444228\ttotal: 1.61s\tremaining: 881ms\n",
            "646:\tlearn: 30.1858385\ttotal: 1.61s\tremaining: 878ms\n",
            "647:\tlearn: 30.1481951\ttotal: 1.61s\tremaining: 875ms\n",
            "648:\tlearn: 30.1139150\ttotal: 1.61s\tremaining: 873ms\n",
            "649:\tlearn: 30.0147177\ttotal: 1.62s\tremaining: 870ms\n",
            "650:\tlearn: 29.8610501\ttotal: 1.62s\tremaining: 868ms\n",
            "651:\tlearn: 29.7793561\ttotal: 1.62s\tremaining: 865ms\n",
            "652:\tlearn: 29.6870188\ttotal: 1.62s\tremaining: 863ms\n",
            "653:\tlearn: 29.6229921\ttotal: 1.63s\tremaining: 860ms\n",
            "654:\tlearn: 29.5806823\ttotal: 1.63s\tremaining: 857ms\n",
            "655:\tlearn: 29.4903496\ttotal: 1.63s\tremaining: 855ms\n",
            "656:\tlearn: 29.4011642\ttotal: 1.63s\tremaining: 852ms\n",
            "657:\tlearn: 29.3880977\ttotal: 1.63s\tremaining: 850ms\n",
            "658:\tlearn: 29.2615919\ttotal: 1.64s\tremaining: 847ms\n",
            "659:\tlearn: 29.1004727\ttotal: 1.64s\tremaining: 845ms\n",
            "660:\tlearn: 29.0530692\ttotal: 1.64s\tremaining: 842ms\n",
            "661:\tlearn: 28.9863628\ttotal: 1.64s\tremaining: 839ms\n",
            "662:\tlearn: 28.8714304\ttotal: 1.65s\tremaining: 837ms\n",
            "663:\tlearn: 28.7331979\ttotal: 1.65s\tremaining: 834ms\n",
            "664:\tlearn: 28.6366801\ttotal: 1.65s\tremaining: 832ms\n",
            "665:\tlearn: 28.5716341\ttotal: 1.65s\tremaining: 829ms\n",
            "666:\tlearn: 28.4974876\ttotal: 1.66s\tremaining: 827ms\n",
            "667:\tlearn: 28.4112710\ttotal: 1.66s\tremaining: 824ms\n",
            "668:\tlearn: 28.2984651\ttotal: 1.66s\tremaining: 821ms\n",
            "669:\tlearn: 28.1339510\ttotal: 1.66s\tremaining: 820ms\n",
            "670:\tlearn: 28.1075789\ttotal: 1.67s\tremaining: 819ms\n",
            "671:\tlearn: 28.0922293\ttotal: 1.67s\tremaining: 816ms\n",
            "672:\tlearn: 27.9723760\ttotal: 1.67s\tremaining: 814ms\n",
            "673:\tlearn: 27.9055283\ttotal: 1.68s\tremaining: 811ms\n",
            "674:\tlearn: 27.8205243\ttotal: 1.68s\tremaining: 808ms\n",
            "675:\tlearn: 27.8084834\ttotal: 1.68s\tremaining: 806ms\n",
            "676:\tlearn: 27.7891840\ttotal: 1.68s\tremaining: 803ms\n",
            "677:\tlearn: 27.6730952\ttotal: 1.69s\tremaining: 801ms\n",
            "678:\tlearn: 27.6094279\ttotal: 1.69s\tremaining: 798ms\n",
            "679:\tlearn: 27.5709406\ttotal: 1.69s\tremaining: 796ms\n",
            "680:\tlearn: 27.5062932\ttotal: 1.69s\tremaining: 793ms\n",
            "681:\tlearn: 27.4149358\ttotal: 1.7s\tremaining: 791ms\n",
            "682:\tlearn: 27.3480578\ttotal: 1.7s\tremaining: 788ms\n",
            "683:\tlearn: 27.2546632\ttotal: 1.7s\tremaining: 785ms\n",
            "684:\tlearn: 27.1581242\ttotal: 1.7s\tremaining: 783ms\n",
            "685:\tlearn: 27.1291330\ttotal: 1.7s\tremaining: 780ms\n",
            "686:\tlearn: 27.0589760\ttotal: 1.71s\tremaining: 778ms\n",
            "687:\tlearn: 26.9207571\ttotal: 1.71s\tremaining: 775ms\n",
            "688:\tlearn: 26.8046340\ttotal: 1.71s\tremaining: 773ms\n",
            "689:\tlearn: 26.7346039\ttotal: 1.71s\tremaining: 770ms\n",
            "690:\tlearn: 26.6359238\ttotal: 1.72s\tremaining: 768ms\n",
            "691:\tlearn: 26.5458163\ttotal: 1.72s\tremaining: 765ms\n",
            "692:\tlearn: 26.5287024\ttotal: 1.72s\tremaining: 762ms\n",
            "693:\tlearn: 26.4436127\ttotal: 1.72s\tremaining: 760ms\n",
            "694:\tlearn: 26.3860996\ttotal: 1.73s\tremaining: 757ms\n",
            "695:\tlearn: 26.3271824\ttotal: 1.73s\tremaining: 755ms\n",
            "696:\tlearn: 26.1929180\ttotal: 1.73s\tremaining: 752ms\n",
            "697:\tlearn: 26.0989501\ttotal: 1.73s\tremaining: 750ms\n",
            "698:\tlearn: 26.0348052\ttotal: 1.74s\tremaining: 747ms\n",
            "699:\tlearn: 25.9715846\ttotal: 1.74s\tremaining: 745ms\n",
            "700:\tlearn: 25.8624783\ttotal: 1.74s\tremaining: 742ms\n",
            "701:\tlearn: 25.8020332\ttotal: 1.74s\tremaining: 740ms\n",
            "702:\tlearn: 25.7940141\ttotal: 1.75s\tremaining: 739ms\n",
            "703:\tlearn: 25.6937173\ttotal: 1.75s\tremaining: 737ms\n",
            "704:\tlearn: 25.6133995\ttotal: 1.75s\tremaining: 735ms\n",
            "705:\tlearn: 25.5272559\ttotal: 1.76s\tremaining: 732ms\n",
            "706:\tlearn: 25.5087600\ttotal: 1.76s\tremaining: 729ms\n",
            "707:\tlearn: 25.3506858\ttotal: 1.76s\tremaining: 727ms\n",
            "708:\tlearn: 25.3314352\ttotal: 1.76s\tremaining: 724ms\n",
            "709:\tlearn: 25.3263712\ttotal: 1.76s\tremaining: 721ms\n",
            "710:\tlearn: 25.2377772\ttotal: 1.77s\tremaining: 719ms\n",
            "711:\tlearn: 25.1296003\ttotal: 1.77s\tremaining: 717ms\n",
            "712:\tlearn: 25.1138661\ttotal: 1.77s\tremaining: 714ms\n",
            "713:\tlearn: 25.0606164\ttotal: 1.78s\tremaining: 711ms\n",
            "714:\tlearn: 24.9701122\ttotal: 1.78s\tremaining: 709ms\n",
            "715:\tlearn: 24.9266980\ttotal: 1.78s\tremaining: 706ms\n",
            "716:\tlearn: 24.8355245\ttotal: 1.78s\tremaining: 704ms\n",
            "717:\tlearn: 24.7892595\ttotal: 1.78s\tremaining: 701ms\n",
            "718:\tlearn: 24.7784156\ttotal: 1.79s\tremaining: 699ms\n",
            "719:\tlearn: 24.7204068\ttotal: 1.79s\tremaining: 696ms\n",
            "720:\tlearn: 24.6868946\ttotal: 1.79s\tremaining: 694ms\n",
            "721:\tlearn: 24.5835248\ttotal: 1.79s\tremaining: 691ms\n",
            "722:\tlearn: 24.4605667\ttotal: 1.8s\tremaining: 688ms\n",
            "723:\tlearn: 24.3780491\ttotal: 1.8s\tremaining: 686ms\n",
            "724:\tlearn: 24.3695387\ttotal: 1.8s\tremaining: 683ms\n",
            "725:\tlearn: 24.2713928\ttotal: 1.8s\tremaining: 681ms\n",
            "726:\tlearn: 24.2564573\ttotal: 1.81s\tremaining: 678ms\n",
            "727:\tlearn: 24.1259045\ttotal: 1.81s\tremaining: 676ms\n",
            "728:\tlearn: 24.0410925\ttotal: 1.81s\tremaining: 673ms\n",
            "729:\tlearn: 23.9454740\ttotal: 1.81s\tremaining: 671ms\n",
            "730:\tlearn: 23.9293944\ttotal: 1.81s\tremaining: 668ms\n",
            "731:\tlearn: 23.8408373\ttotal: 1.82s\tremaining: 666ms\n",
            "732:\tlearn: 23.7301307\ttotal: 1.82s\tremaining: 663ms\n",
            "733:\tlearn: 23.6751178\ttotal: 1.82s\tremaining: 661ms\n",
            "734:\tlearn: 23.5518474\ttotal: 1.82s\tremaining: 658ms\n",
            "735:\tlearn: 23.5054838\ttotal: 1.83s\tremaining: 656ms\n",
            "736:\tlearn: 23.4781040\ttotal: 1.83s\tremaining: 653ms\n",
            "737:\tlearn: 23.3774725\ttotal: 1.83s\tremaining: 650ms\n",
            "738:\tlearn: 23.3081022\ttotal: 1.83s\tremaining: 648ms\n",
            "739:\tlearn: 23.2915892\ttotal: 1.84s\tremaining: 645ms\n",
            "740:\tlearn: 23.2095735\ttotal: 1.84s\tremaining: 643ms\n",
            "741:\tlearn: 23.1588315\ttotal: 1.84s\tremaining: 640ms\n",
            "742:\tlearn: 23.1197993\ttotal: 1.84s\tremaining: 638ms\n",
            "743:\tlearn: 23.0327780\ttotal: 1.85s\tremaining: 635ms\n",
            "744:\tlearn: 22.9759480\ttotal: 1.85s\tremaining: 633ms\n",
            "745:\tlearn: 22.8751423\ttotal: 1.85s\tremaining: 630ms\n",
            "746:\tlearn: 22.7768127\ttotal: 1.85s\tremaining: 628ms\n",
            "747:\tlearn: 22.6474970\ttotal: 1.85s\tremaining: 625ms\n",
            "748:\tlearn: 22.5780525\ttotal: 1.86s\tremaining: 623ms\n",
            "749:\tlearn: 22.5338308\ttotal: 1.86s\tremaining: 620ms\n",
            "750:\tlearn: 22.4330276\ttotal: 1.86s\tremaining: 617ms\n",
            "751:\tlearn: 22.4193891\ttotal: 1.86s\tremaining: 615ms\n",
            "752:\tlearn: 22.4093040\ttotal: 1.87s\tremaining: 612ms\n",
            "753:\tlearn: 22.3758979\ttotal: 1.87s\tremaining: 610ms\n",
            "754:\tlearn: 22.3560173\ttotal: 1.87s\tremaining: 607ms\n",
            "755:\tlearn: 22.3264261\ttotal: 1.87s\tremaining: 605ms\n",
            "756:\tlearn: 22.2796605\ttotal: 1.88s\tremaining: 602ms\n",
            "757:\tlearn: 22.2253439\ttotal: 1.88s\tremaining: 600ms\n",
            "758:\tlearn: 22.1636409\ttotal: 1.88s\tremaining: 597ms\n",
            "759:\tlearn: 22.1078491\ttotal: 1.88s\tremaining: 594ms\n",
            "760:\tlearn: 22.0275756\ttotal: 1.88s\tremaining: 592ms\n",
            "761:\tlearn: 22.0174143\ttotal: 1.89s\tremaining: 589ms\n",
            "762:\tlearn: 21.9887391\ttotal: 1.89s\tremaining: 587ms\n",
            "763:\tlearn: 21.9746733\ttotal: 1.89s\tremaining: 584ms\n",
            "764:\tlearn: 21.9529216\ttotal: 1.89s\tremaining: 582ms\n",
            "765:\tlearn: 21.8767644\ttotal: 1.9s\tremaining: 579ms\n",
            "766:\tlearn: 21.8668039\ttotal: 1.9s\tremaining: 577ms\n",
            "767:\tlearn: 21.8008688\ttotal: 1.9s\tremaining: 574ms\n",
            "768:\tlearn: 21.7612208\ttotal: 1.9s\tremaining: 571ms\n",
            "769:\tlearn: 21.6977978\ttotal: 1.9s\tremaining: 569ms\n",
            "770:\tlearn: 21.6870461\ttotal: 1.91s\tremaining: 566ms\n",
            "771:\tlearn: 21.6599780\ttotal: 1.91s\tremaining: 564ms\n",
            "772:\tlearn: 21.5522064\ttotal: 1.91s\tremaining: 561ms\n",
            "773:\tlearn: 21.5426327\ttotal: 1.91s\tremaining: 559ms\n",
            "774:\tlearn: 21.4391089\ttotal: 1.92s\tremaining: 556ms\n",
            "775:\tlearn: 21.4042993\ttotal: 1.92s\tremaining: 553ms\n",
            "776:\tlearn: 21.3284836\ttotal: 1.92s\tremaining: 551ms\n",
            "777:\tlearn: 21.3163774\ttotal: 1.92s\tremaining: 548ms\n",
            "778:\tlearn: 21.2708416\ttotal: 1.92s\tremaining: 546ms\n",
            "779:\tlearn: 21.2056943\ttotal: 1.93s\tremaining: 543ms\n",
            "780:\tlearn: 21.1434774\ttotal: 1.93s\tremaining: 540ms\n",
            "781:\tlearn: 21.0672473\ttotal: 1.93s\tremaining: 538ms\n",
            "782:\tlearn: 20.9629645\ttotal: 1.93s\tremaining: 535ms\n",
            "783:\tlearn: 20.9522537\ttotal: 1.93s\tremaining: 533ms\n",
            "784:\tlearn: 20.9252425\ttotal: 1.94s\tremaining: 530ms\n",
            "785:\tlearn: 20.8576799\ttotal: 1.94s\tremaining: 528ms\n",
            "786:\tlearn: 20.7922970\ttotal: 1.95s\tremaining: 527ms\n",
            "787:\tlearn: 20.7802134\ttotal: 1.95s\tremaining: 524ms\n",
            "788:\tlearn: 20.7125213\ttotal: 1.95s\tremaining: 522ms\n",
            "789:\tlearn: 20.7000005\ttotal: 1.95s\tremaining: 519ms\n",
            "790:\tlearn: 20.6366378\ttotal: 1.95s\tremaining: 516ms\n",
            "791:\tlearn: 20.6170923\ttotal: 1.96s\tremaining: 514ms\n",
            "792:\tlearn: 20.5485950\ttotal: 1.96s\tremaining: 511ms\n",
            "793:\tlearn: 20.5212323\ttotal: 1.96s\tremaining: 509ms\n",
            "794:\tlearn: 20.5004347\ttotal: 1.96s\tremaining: 506ms\n",
            "795:\tlearn: 20.4884649\ttotal: 1.97s\tremaining: 504ms\n",
            "796:\tlearn: 20.3727007\ttotal: 1.97s\tremaining: 501ms\n",
            "797:\tlearn: 20.2776166\ttotal: 1.97s\tremaining: 498ms\n",
            "798:\tlearn: 20.2690965\ttotal: 1.97s\tremaining: 496ms\n",
            "799:\tlearn: 20.2166634\ttotal: 1.97s\tremaining: 493ms\n",
            "800:\tlearn: 20.1160179\ttotal: 1.98s\tremaining: 491ms\n",
            "801:\tlearn: 20.0642268\ttotal: 1.98s\tremaining: 488ms\n",
            "802:\tlearn: 20.0323601\ttotal: 1.98s\tremaining: 486ms\n",
            "803:\tlearn: 19.9485334\ttotal: 1.98s\tremaining: 483ms\n",
            "804:\tlearn: 19.9071725\ttotal: 1.98s\tremaining: 481ms\n",
            "805:\tlearn: 19.8943564\ttotal: 1.99s\tremaining: 478ms\n",
            "806:\tlearn: 19.7804687\ttotal: 1.99s\tremaining: 476ms\n",
            "807:\tlearn: 19.7343406\ttotal: 1.99s\tremaining: 473ms\n",
            "808:\tlearn: 19.6963930\ttotal: 1.99s\tremaining: 470ms\n",
            "809:\tlearn: 19.6705675\ttotal: 1.99s\tremaining: 468ms\n",
            "810:\tlearn: 19.6382933\ttotal: 2s\tremaining: 465ms\n",
            "811:\tlearn: 19.5889191\ttotal: 2s\tremaining: 463ms\n",
            "812:\tlearn: 19.5638487\ttotal: 2s\tremaining: 460ms\n",
            "813:\tlearn: 19.4926424\ttotal: 2s\tremaining: 458ms\n",
            "814:\tlearn: 19.3961396\ttotal: 2s\tremaining: 455ms\n",
            "815:\tlearn: 19.3880242\ttotal: 2.01s\tremaining: 453ms\n",
            "816:\tlearn: 19.2808372\ttotal: 2.01s\tremaining: 450ms\n",
            "817:\tlearn: 19.1712815\ttotal: 2.01s\tremaining: 448ms\n",
            "818:\tlearn: 19.0909823\ttotal: 2.01s\tremaining: 445ms\n",
            "819:\tlearn: 18.9993504\ttotal: 2.02s\tremaining: 442ms\n",
            "820:\tlearn: 18.9773399\ttotal: 2.02s\tremaining: 440ms\n",
            "821:\tlearn: 18.8989735\ttotal: 2.02s\tremaining: 437ms\n",
            "822:\tlearn: 18.8275176\ttotal: 2.02s\tremaining: 435ms\n",
            "823:\tlearn: 18.8092278\ttotal: 2.02s\tremaining: 432ms\n",
            "824:\tlearn: 18.7938447\ttotal: 2.02s\tremaining: 430ms\n",
            "825:\tlearn: 18.7871267\ttotal: 2.03s\tremaining: 427ms\n",
            "826:\tlearn: 18.7299674\ttotal: 2.03s\tremaining: 425ms\n",
            "827:\tlearn: 18.6808264\ttotal: 2.03s\tremaining: 422ms\n",
            "828:\tlearn: 18.5984875\ttotal: 2.03s\tremaining: 420ms\n",
            "829:\tlearn: 18.5170088\ttotal: 2.04s\tremaining: 417ms\n",
            "830:\tlearn: 18.4707382\ttotal: 2.04s\tremaining: 415ms\n",
            "831:\tlearn: 18.4368619\ttotal: 2.04s\tremaining: 413ms\n",
            "832:\tlearn: 18.3683191\ttotal: 2.05s\tremaining: 411ms\n",
            "833:\tlearn: 18.3295058\ttotal: 2.05s\tremaining: 409ms\n",
            "834:\tlearn: 18.2587263\ttotal: 2.06s\tremaining: 406ms\n",
            "835:\tlearn: 18.2103679\ttotal: 2.06s\tremaining: 404ms\n",
            "836:\tlearn: 18.1781032\ttotal: 2.06s\tremaining: 401ms\n",
            "837:\tlearn: 18.0746921\ttotal: 2.06s\tremaining: 399ms\n",
            "838:\tlearn: 18.0131984\ttotal: 2.06s\tremaining: 396ms\n",
            "839:\tlearn: 17.9510877\ttotal: 2.07s\tremaining: 394ms\n",
            "840:\tlearn: 17.8893536\ttotal: 2.07s\tremaining: 391ms\n",
            "841:\tlearn: 17.8813583\ttotal: 2.07s\tremaining: 389ms\n",
            "842:\tlearn: 17.8129857\ttotal: 2.07s\tremaining: 386ms\n",
            "843:\tlearn: 17.7981202\ttotal: 2.08s\tremaining: 384ms\n",
            "844:\tlearn: 17.7414627\ttotal: 2.08s\tremaining: 381ms\n",
            "845:\tlearn: 17.7255534\ttotal: 2.08s\tremaining: 379ms\n",
            "846:\tlearn: 17.6965545\ttotal: 2.08s\tremaining: 376ms\n",
            "847:\tlearn: 17.6499397\ttotal: 2.08s\tremaining: 373ms\n",
            "848:\tlearn: 17.6133852\ttotal: 2.08s\tremaining: 371ms\n",
            "849:\tlearn: 17.5621620\ttotal: 2.09s\tremaining: 368ms\n",
            "850:\tlearn: 17.5064049\ttotal: 2.09s\tremaining: 366ms\n",
            "851:\tlearn: 17.4643467\ttotal: 2.09s\tremaining: 363ms\n",
            "852:\tlearn: 17.4569544\ttotal: 2.09s\tremaining: 361ms\n",
            "853:\tlearn: 17.3731897\ttotal: 2.1s\tremaining: 358ms\n",
            "854:\tlearn: 17.3313609\ttotal: 2.1s\tremaining: 356ms\n",
            "855:\tlearn: 17.2781582\ttotal: 2.1s\tremaining: 353ms\n",
            "856:\tlearn: 17.2283433\ttotal: 2.1s\tremaining: 351ms\n",
            "857:\tlearn: 17.1944614\ttotal: 2.1s\tremaining: 348ms\n",
            "858:\tlearn: 17.1573393\ttotal: 2.1s\tremaining: 346ms\n",
            "859:\tlearn: 17.0975067\ttotal: 2.11s\tremaining: 343ms\n",
            "860:\tlearn: 17.0462043\ttotal: 2.11s\tremaining: 341ms\n",
            "861:\tlearn: 17.0118805\ttotal: 2.11s\tremaining: 338ms\n",
            "862:\tlearn: 17.0045195\ttotal: 2.11s\tremaining: 336ms\n",
            "863:\tlearn: 16.9528999\ttotal: 2.12s\tremaining: 333ms\n",
            "864:\tlearn: 16.9270632\ttotal: 2.12s\tremaining: 331ms\n",
            "865:\tlearn: 16.8915252\ttotal: 2.12s\tremaining: 328ms\n",
            "866:\tlearn: 16.7946576\ttotal: 2.12s\tremaining: 326ms\n",
            "867:\tlearn: 16.7737222\ttotal: 2.12s\tremaining: 323ms\n",
            "868:\tlearn: 16.7192509\ttotal: 2.13s\tremaining: 321ms\n",
            "869:\tlearn: 16.7138388\ttotal: 2.13s\tremaining: 318ms\n",
            "870:\tlearn: 16.6877768\ttotal: 2.13s\tremaining: 316ms\n",
            "871:\tlearn: 16.6265748\ttotal: 2.13s\tremaining: 313ms\n",
            "872:\tlearn: 16.5641199\ttotal: 2.13s\tremaining: 311ms\n",
            "873:\tlearn: 16.4935111\ttotal: 2.14s\tremaining: 309ms\n",
            "874:\tlearn: 16.4250863\ttotal: 2.15s\tremaining: 307ms\n",
            "875:\tlearn: 16.3566947\ttotal: 2.15s\tremaining: 304ms\n",
            "876:\tlearn: 16.2731185\ttotal: 2.15s\tremaining: 302ms\n",
            "877:\tlearn: 16.2207923\ttotal: 2.15s\tremaining: 299ms\n",
            "878:\tlearn: 16.2073108\ttotal: 2.16s\tremaining: 297ms\n",
            "879:\tlearn: 16.1336576\ttotal: 2.16s\tremaining: 294ms\n",
            "880:\tlearn: 16.0994139\ttotal: 2.16s\tremaining: 292ms\n",
            "881:\tlearn: 16.0720217\ttotal: 2.16s\tremaining: 289ms\n",
            "882:\tlearn: 16.0192163\ttotal: 2.17s\tremaining: 287ms\n",
            "883:\tlearn: 16.0021989\ttotal: 2.17s\tremaining: 284ms\n",
            "884:\tlearn: 15.9003005\ttotal: 2.17s\tremaining: 282ms\n",
            "885:\tlearn: 15.8685768\ttotal: 2.17s\tremaining: 279ms\n",
            "886:\tlearn: 15.7757199\ttotal: 2.17s\tremaining: 277ms\n",
            "887:\tlearn: 15.7280015\ttotal: 2.17s\tremaining: 274ms\n",
            "888:\tlearn: 15.7037867\ttotal: 2.18s\tremaining: 272ms\n",
            "889:\tlearn: 15.6876254\ttotal: 2.18s\tremaining: 269ms\n",
            "890:\tlearn: 15.6002589\ttotal: 2.18s\tremaining: 267ms\n",
            "891:\tlearn: 15.5663914\ttotal: 2.18s\tremaining: 264ms\n",
            "892:\tlearn: 15.4827503\ttotal: 2.19s\tremaining: 262ms\n",
            "893:\tlearn: 15.4422647\ttotal: 2.19s\tremaining: 259ms\n",
            "894:\tlearn: 15.4230904\ttotal: 2.19s\tremaining: 257ms\n",
            "895:\tlearn: 15.3907978\ttotal: 2.19s\tremaining: 254ms\n",
            "896:\tlearn: 15.3022423\ttotal: 2.19s\tremaining: 252ms\n",
            "897:\tlearn: 15.2770800\ttotal: 2.2s\tremaining: 250ms\n",
            "898:\tlearn: 15.2708396\ttotal: 2.2s\tremaining: 247ms\n",
            "899:\tlearn: 15.2217814\ttotal: 2.2s\tremaining: 245ms\n",
            "900:\tlearn: 15.2150872\ttotal: 2.2s\tremaining: 242ms\n",
            "901:\tlearn: 15.1938758\ttotal: 2.21s\tremaining: 240ms\n",
            "902:\tlearn: 15.1087389\ttotal: 2.21s\tremaining: 237ms\n",
            "903:\tlearn: 15.0270836\ttotal: 2.21s\tremaining: 235ms\n",
            "904:\tlearn: 14.9579009\ttotal: 2.21s\tremaining: 232ms\n",
            "905:\tlearn: 14.9321713\ttotal: 2.21s\tremaining: 230ms\n",
            "906:\tlearn: 14.9254894\ttotal: 2.21s\tremaining: 227ms\n",
            "907:\tlearn: 14.8662999\ttotal: 2.22s\tremaining: 225ms\n",
            "908:\tlearn: 14.7969088\ttotal: 2.22s\tremaining: 222ms\n",
            "909:\tlearn: 14.7187437\ttotal: 2.22s\tremaining: 220ms\n",
            "910:\tlearn: 14.6594229\ttotal: 2.22s\tremaining: 217ms\n",
            "911:\tlearn: 14.6109629\ttotal: 2.23s\tremaining: 215ms\n",
            "912:\tlearn: 14.5833869\ttotal: 2.23s\tremaining: 212ms\n",
            "913:\tlearn: 14.5677206\ttotal: 2.23s\tremaining: 210ms\n",
            "914:\tlearn: 14.5260964\ttotal: 2.23s\tremaining: 207ms\n",
            "915:\tlearn: 14.4838792\ttotal: 2.23s\tremaining: 205ms\n",
            "916:\tlearn: 14.4614097\ttotal: 2.24s\tremaining: 202ms\n",
            "917:\tlearn: 14.4432212\ttotal: 2.24s\tremaining: 200ms\n",
            "918:\tlearn: 14.4363977\ttotal: 2.24s\tremaining: 197ms\n",
            "919:\tlearn: 14.3740822\ttotal: 2.24s\tremaining: 195ms\n",
            "920:\tlearn: 14.3363459\ttotal: 2.24s\tremaining: 193ms\n",
            "921:\tlearn: 14.2862425\ttotal: 2.25s\tremaining: 190ms\n",
            "922:\tlearn: 14.2195191\ttotal: 2.25s\tremaining: 188ms\n",
            "923:\tlearn: 14.1752422\ttotal: 2.25s\tremaining: 185ms\n",
            "924:\tlearn: 14.1582897\ttotal: 2.25s\tremaining: 183ms\n",
            "925:\tlearn: 14.0892518\ttotal: 2.25s\tremaining: 180ms\n",
            "926:\tlearn: 14.0163904\ttotal: 2.26s\tremaining: 178ms\n",
            "927:\tlearn: 13.9674906\ttotal: 2.26s\tremaining: 175ms\n",
            "928:\tlearn: 13.9421041\ttotal: 2.26s\tremaining: 173ms\n",
            "929:\tlearn: 13.9264108\ttotal: 2.26s\tremaining: 170ms\n",
            "930:\tlearn: 13.8953443\ttotal: 2.27s\tremaining: 168ms\n",
            "931:\tlearn: 13.8514821\ttotal: 2.27s\tremaining: 165ms\n",
            "932:\tlearn: 13.8317730\ttotal: 2.27s\tremaining: 163ms\n",
            "933:\tlearn: 13.7980615\ttotal: 2.27s\tremaining: 161ms\n",
            "934:\tlearn: 13.7252551\ttotal: 2.28s\tremaining: 158ms\n",
            "935:\tlearn: 13.6867475\ttotal: 2.28s\tremaining: 156ms\n",
            "936:\tlearn: 13.6663164\ttotal: 2.28s\tremaining: 153ms\n",
            "937:\tlearn: 13.6108173\ttotal: 2.28s\tremaining: 151ms\n",
            "938:\tlearn: 13.5827380\ttotal: 2.28s\tremaining: 148ms\n",
            "939:\tlearn: 13.5211246\ttotal: 2.29s\tremaining: 146ms\n",
            "940:\tlearn: 13.4752089\ttotal: 2.29s\tremaining: 144ms\n",
            "941:\tlearn: 13.4283115\ttotal: 2.29s\tremaining: 141ms\n",
            "942:\tlearn: 13.3912327\ttotal: 2.29s\tremaining: 139ms\n",
            "943:\tlearn: 13.3593766\ttotal: 2.29s\tremaining: 136ms\n",
            "944:\tlearn: 13.3015250\ttotal: 2.3s\tremaining: 134ms\n",
            "945:\tlearn: 13.2587480\ttotal: 2.3s\tremaining: 131ms\n",
            "946:\tlearn: 13.1949436\ttotal: 2.3s\tremaining: 129ms\n",
            "947:\tlearn: 13.1552441\ttotal: 2.3s\tremaining: 126ms\n",
            "948:\tlearn: 13.0700947\ttotal: 2.31s\tremaining: 124ms\n",
            "949:\tlearn: 13.0460884\ttotal: 2.31s\tremaining: 121ms\n",
            "950:\tlearn: 13.0315972\ttotal: 2.31s\tremaining: 119ms\n",
            "951:\tlearn: 12.9964111\ttotal: 2.31s\tremaining: 117ms\n",
            "952:\tlearn: 12.9757139\ttotal: 2.31s\tremaining: 114ms\n",
            "953:\tlearn: 12.9120533\ttotal: 2.32s\tremaining: 112ms\n",
            "954:\tlearn: 12.8776679\ttotal: 2.32s\tremaining: 109ms\n",
            "955:\tlearn: 12.8703243\ttotal: 2.32s\tremaining: 107ms\n",
            "956:\tlearn: 12.8058615\ttotal: 2.32s\tremaining: 104ms\n",
            "957:\tlearn: 12.7637381\ttotal: 2.32s\tremaining: 102ms\n",
            "958:\tlearn: 12.7517063\ttotal: 2.33s\tremaining: 99.5ms\n",
            "959:\tlearn: 12.7382108\ttotal: 2.33s\tremaining: 97ms\n",
            "960:\tlearn: 12.6881713\ttotal: 2.33s\tremaining: 94.6ms\n",
            "961:\tlearn: 12.6728317\ttotal: 2.34s\tremaining: 92.3ms\n",
            "962:\tlearn: 12.6386609\ttotal: 2.34s\tremaining: 90ms\n",
            "963:\tlearn: 12.5837642\ttotal: 2.34s\tremaining: 87.5ms\n",
            "964:\tlearn: 12.5689789\ttotal: 2.35s\tremaining: 85.1ms\n",
            "965:\tlearn: 12.5362136\ttotal: 2.35s\tremaining: 82.6ms\n",
            "966:\tlearn: 12.5186020\ttotal: 2.35s\tremaining: 80.2ms\n",
            "967:\tlearn: 12.4787889\ttotal: 2.35s\tremaining: 77.8ms\n",
            "968:\tlearn: 12.4463866\ttotal: 2.36s\tremaining: 75.4ms\n",
            "969:\tlearn: 12.3919484\ttotal: 2.36s\tremaining: 73.1ms\n",
            "970:\tlearn: 12.3583173\ttotal: 2.36s\tremaining: 70.6ms\n",
            "971:\tlearn: 12.3430204\ttotal: 2.37s\tremaining: 68.2ms\n",
            "972:\tlearn: 12.3036135\ttotal: 2.37s\tremaining: 65.7ms\n",
            "973:\tlearn: 12.2785886\ttotal: 2.37s\tremaining: 63.3ms\n",
            "974:\tlearn: 12.2424148\ttotal: 2.37s\tremaining: 60.9ms\n",
            "975:\tlearn: 12.2287225\ttotal: 2.38s\tremaining: 58.5ms\n",
            "976:\tlearn: 12.1894056\ttotal: 2.38s\tremaining: 56ms\n",
            "977:\tlearn: 12.1399699\ttotal: 2.38s\tremaining: 53.6ms\n",
            "978:\tlearn: 12.1165698\ttotal: 2.38s\tremaining: 51.2ms\n",
            "979:\tlearn: 12.1084930\ttotal: 2.39s\tremaining: 48.7ms\n",
            "980:\tlearn: 12.1041455\ttotal: 2.39s\tremaining: 46.3ms\n",
            "981:\tlearn: 12.0749440\ttotal: 2.39s\tremaining: 43.8ms\n",
            "982:\tlearn: 12.0676323\ttotal: 2.39s\tremaining: 41.4ms\n",
            "983:\tlearn: 12.0253491\ttotal: 2.4s\tremaining: 39ms\n",
            "984:\tlearn: 11.9725269\ttotal: 2.4s\tremaining: 36.5ms\n",
            "985:\tlearn: 11.9344239\ttotal: 2.4s\tremaining: 34.1ms\n",
            "986:\tlearn: 11.8870660\ttotal: 2.4s\tremaining: 31.6ms\n",
            "987:\tlearn: 11.8411099\ttotal: 2.4s\tremaining: 29.2ms\n",
            "988:\tlearn: 11.7973602\ttotal: 2.41s\tremaining: 26.8ms\n",
            "989:\tlearn: 11.7514376\ttotal: 2.41s\tremaining: 24.3ms\n",
            "990:\tlearn: 11.7232746\ttotal: 2.41s\tremaining: 21.9ms\n",
            "991:\tlearn: 11.6852796\ttotal: 2.41s\tremaining: 19.5ms\n",
            "992:\tlearn: 11.6463794\ttotal: 2.42s\tremaining: 17ms\n",
            "993:\tlearn: 11.6106308\ttotal: 2.42s\tremaining: 14.6ms\n",
            "994:\tlearn: 11.5731961\ttotal: 2.42s\tremaining: 12.2ms\n",
            "995:\tlearn: 11.5417359\ttotal: 2.42s\tremaining: 9.73ms\n",
            "996:\tlearn: 11.5167117\ttotal: 2.42s\tremaining: 7.3ms\n",
            "997:\tlearn: 11.4745232\ttotal: 2.43s\tremaining: 4.87ms\n",
            "998:\tlearn: 11.4604481\ttotal: 2.43s\tremaining: 2.43ms\n",
            "999:\tlearn: 11.4510502\ttotal: 2.43s\tremaining: 0us\n"
          ]
        }
      ]
    },
    {
      "cell_type": "code",
      "source": [
        "y_pred = catb_model.predict(X_test)\n"
      ],
      "metadata": {
        "id": "-aM8QcReRs5K"
      },
      "execution_count": null,
      "outputs": []
    },
    {
      "cell_type": "code",
      "source": [
        "np.sqrt(mean_squared_error(y_test,y_pred))"
      ],
      "metadata": {
        "colab": {
          "base_uri": "https://localhost:8080/"
        },
        "id": "BKsA8brgRxhF",
        "outputId": "6e5778e6-e7d3-46cd-f81b-dd20c81fab0d"
      },
      "execution_count": null,
      "outputs": [
        {
          "output_type": "execute_result",
          "data": {
            "text/plain": [
              "351.194631344607"
            ]
          },
          "metadata": {},
          "execution_count": 123
        }
      ]
    },
    {
      "cell_type": "code",
      "source": [
        "catb_params = {\"iterations\":[200,500,100],\n",
        "              \"learning_rate\":[0.01,0.1],\n",
        "              \"depth\":[3,6,8]}"
      ],
      "metadata": {
        "id": "b4wlEAZrSEEQ"
      },
      "execution_count": null,
      "outputs": []
    },
    {
      "cell_type": "code",
      "source": [
        "catb_model = CatBoostRegressor()\n"
      ],
      "metadata": {
        "id": "xPAH9iVtSE8U"
      },
      "execution_count": null,
      "outputs": []
    },
    {
      "cell_type": "code",
      "source": [
        "catb_cv_model = GridSearchCV(catb_model,\n",
        "                          catb_params,\n",
        "                          cv=5,\n",
        "                          n_jobs=-1,\n",
        "                          verbose = 2).fit(X_train,y_train)"
      ],
      "metadata": {
        "colab": {
          "base_uri": "https://localhost:8080/"
        },
        "id": "S0ImgLP7SGZo",
        "outputId": "cc2ca04c-764d-4af5-d30e-745c762e92f2"
      },
      "execution_count": null,
      "outputs": [
        {
          "output_type": "stream",
          "name": "stdout",
          "text": [
            "Fitting 5 folds for each of 18 candidates, totalling 90 fits\n",
            "0:\tlearn: 425.7900818\ttotal: 1.06ms\tremaining: 211ms\n",
            "1:\tlearn: 404.8723520\ttotal: 2.47ms\tremaining: 245ms\n",
            "2:\tlearn: 387.4057666\ttotal: 3.42ms\tremaining: 225ms\n",
            "3:\tlearn: 372.2801584\ttotal: 4.35ms\tremaining: 213ms\n",
            "4:\tlearn: 358.9204229\ttotal: 5.27ms\tremaining: 206ms\n",
            "5:\tlearn: 347.0083933\ttotal: 6.18ms\tremaining: 200ms\n",
            "6:\tlearn: 336.0130818\ttotal: 7.1ms\tremaining: 196ms\n",
            "7:\tlearn: 324.3923300\ttotal: 8.04ms\tremaining: 193ms\n",
            "8:\tlearn: 314.8690957\ttotal: 8.97ms\tremaining: 190ms\n",
            "9:\tlearn: 308.5075563\ttotal: 9.9ms\tremaining: 188ms\n",
            "10:\tlearn: 298.8587285\ttotal: 10.8ms\tremaining: 185ms\n",
            "11:\tlearn: 294.7655438\ttotal: 11.7ms\tremaining: 183ms\n",
            "12:\tlearn: 288.0697862\ttotal: 12.5ms\tremaining: 180ms\n",
            "13:\tlearn: 282.6697154\ttotal: 13.4ms\tremaining: 178ms\n",
            "14:\tlearn: 277.6121667\ttotal: 14.3ms\tremaining: 176ms\n",
            "15:\tlearn: 273.4383979\ttotal: 15.2ms\tremaining: 175ms\n",
            "16:\tlearn: 269.1556201\ttotal: 16ms\tremaining: 173ms\n",
            "17:\tlearn: 264.8098704\ttotal: 16.9ms\tremaining: 171ms\n",
            "18:\tlearn: 261.6700768\ttotal: 17.8ms\tremaining: 169ms\n",
            "19:\tlearn: 257.3961290\ttotal: 18.7ms\tremaining: 168ms\n",
            "20:\tlearn: 252.2691509\ttotal: 19.5ms\tremaining: 166ms\n",
            "21:\tlearn: 249.0686482\ttotal: 20.4ms\tremaining: 165ms\n",
            "22:\tlearn: 244.1881041\ttotal: 21.3ms\tremaining: 164ms\n",
            "23:\tlearn: 242.1696687\ttotal: 22.1ms\tremaining: 162ms\n",
            "24:\tlearn: 239.2131476\ttotal: 23ms\tremaining: 161ms\n",
            "25:\tlearn: 236.6883901\ttotal: 23.9ms\tremaining: 160ms\n",
            "26:\tlearn: 234.5295613\ttotal: 24.7ms\tremaining: 159ms\n",
            "27:\tlearn: 231.7788834\ttotal: 25.6ms\tremaining: 157ms\n",
            "28:\tlearn: 228.8020330\ttotal: 26.5ms\tremaining: 156ms\n",
            "29:\tlearn: 226.8420565\ttotal: 27.4ms\tremaining: 155ms\n",
            "30:\tlearn: 224.0686558\ttotal: 28.3ms\tremaining: 154ms\n",
            "31:\tlearn: 222.6644699\ttotal: 29.1ms\tremaining: 153ms\n",
            "32:\tlearn: 221.6889573\ttotal: 30ms\tremaining: 152ms\n",
            "33:\tlearn: 220.5171653\ttotal: 30.9ms\tremaining: 151ms\n",
            "34:\tlearn: 217.7686033\ttotal: 31.7ms\tremaining: 150ms\n",
            "35:\tlearn: 214.8462789\ttotal: 32.6ms\tremaining: 149ms\n",
            "36:\tlearn: 214.4799251\ttotal: 33.5ms\tremaining: 147ms\n",
            "37:\tlearn: 212.3480429\ttotal: 34.3ms\tremaining: 146ms\n",
            "38:\tlearn: 210.0040644\ttotal: 35.2ms\tremaining: 145ms\n",
            "39:\tlearn: 208.3086913\ttotal: 36.1ms\tremaining: 144ms\n",
            "40:\tlearn: 207.5469119\ttotal: 36.9ms\tremaining: 143ms\n",
            "41:\tlearn: 205.9351113\ttotal: 37.8ms\tremaining: 142ms\n",
            "42:\tlearn: 205.3580824\ttotal: 38.7ms\tremaining: 141ms\n",
            "43:\tlearn: 204.6204266\ttotal: 39.6ms\tremaining: 140ms\n",
            "44:\tlearn: 202.5023220\ttotal: 40.4ms\tremaining: 139ms\n",
            "45:\tlearn: 201.4347853\ttotal: 41.3ms\tremaining: 138ms\n",
            "46:\tlearn: 200.8752553\ttotal: 42.2ms\tremaining: 137ms\n",
            "47:\tlearn: 200.4047344\ttotal: 43ms\tremaining: 136ms\n",
            "48:\tlearn: 197.5433004\ttotal: 43.9ms\tremaining: 135ms\n",
            "49:\tlearn: 194.6943292\ttotal: 44.8ms\tremaining: 134ms\n",
            "50:\tlearn: 194.3011982\ttotal: 45.6ms\tremaining: 133ms\n",
            "51:\tlearn: 193.4011843\ttotal: 46.5ms\tremaining: 132ms\n",
            "52:\tlearn: 193.0109753\ttotal: 47.5ms\tremaining: 132ms\n",
            "53:\tlearn: 192.6071142\ttotal: 48.4ms\tremaining: 131ms\n",
            "54:\tlearn: 191.9666153\ttotal: 49.3ms\tremaining: 130ms\n",
            "55:\tlearn: 191.5789727\ttotal: 50.1ms\tremaining: 129ms\n",
            "56:\tlearn: 190.7186284\ttotal: 51ms\tremaining: 128ms\n",
            "57:\tlearn: 190.4543087\ttotal: 51.9ms\tremaining: 127ms\n",
            "58:\tlearn: 190.1336317\ttotal: 52.8ms\tremaining: 126ms\n",
            "59:\tlearn: 188.2286484\ttotal: 53.7ms\tremaining: 125ms\n",
            "60:\tlearn: 187.7652417\ttotal: 54.6ms\tremaining: 124ms\n",
            "61:\tlearn: 187.4227950\ttotal: 55.5ms\tremaining: 123ms\n",
            "62:\tlearn: 186.9289182\ttotal: 56.3ms\tremaining: 122ms\n",
            "63:\tlearn: 185.2993487\ttotal: 57.2ms\tremaining: 122ms\n",
            "64:\tlearn: 185.0349598\ttotal: 58.1ms\tremaining: 121ms\n",
            "65:\tlearn: 183.9773430\ttotal: 59ms\tremaining: 120ms\n",
            "66:\tlearn: 183.4463166\ttotal: 59.9ms\tremaining: 119ms\n",
            "67:\tlearn: 181.6627740\ttotal: 60.8ms\tremaining: 118ms\n",
            "68:\tlearn: 179.8785055\ttotal: 61.6ms\tremaining: 117ms\n",
            "69:\tlearn: 179.6737527\ttotal: 62.5ms\tremaining: 116ms\n",
            "70:\tlearn: 177.0830981\ttotal: 63.4ms\tremaining: 115ms\n",
            "71:\tlearn: 176.5917790\ttotal: 64.3ms\tremaining: 114ms\n",
            "72:\tlearn: 176.1240502\ttotal: 65.2ms\tremaining: 113ms\n",
            "73:\tlearn: 174.4828953\ttotal: 66ms\tremaining: 112ms\n",
            "74:\tlearn: 173.4220482\ttotal: 66.9ms\tremaining: 111ms\n",
            "75:\tlearn: 171.9903405\ttotal: 67.8ms\tremaining: 111ms\n",
            "76:\tlearn: 171.5803116\ttotal: 68.7ms\tremaining: 110ms\n",
            "77:\tlearn: 170.1411594\ttotal: 69.6ms\tremaining: 109ms\n",
            "78:\tlearn: 167.9868133\ttotal: 70.5ms\tremaining: 108ms\n",
            "79:\tlearn: 166.5304475\ttotal: 71.4ms\tremaining: 107ms\n",
            "80:\tlearn: 166.1741622\ttotal: 72.3ms\tremaining: 106ms\n",
            "81:\tlearn: 165.8411762\ttotal: 73.1ms\tremaining: 105ms\n",
            "82:\tlearn: 165.1041583\ttotal: 74ms\tremaining: 104ms\n",
            "83:\tlearn: 163.5641543\ttotal: 74.9ms\tremaining: 103ms\n",
            "84:\tlearn: 163.2003311\ttotal: 75.8ms\tremaining: 103ms\n",
            "85:\tlearn: 161.1781702\ttotal: 76.7ms\tremaining: 102ms\n",
            "86:\tlearn: 160.8727658\ttotal: 77.3ms\tremaining: 100ms\n",
            "87:\tlearn: 159.7954077\ttotal: 78.2ms\tremaining: 99.5ms\n",
            "88:\tlearn: 158.8759132\ttotal: 79.1ms\tremaining: 98.7ms\n",
            "89:\tlearn: 158.4831323\ttotal: 80ms\tremaining: 97.8ms\n",
            "90:\tlearn: 157.4808127\ttotal: 80.9ms\tremaining: 96.9ms\n",
            "91:\tlearn: 157.1703230\ttotal: 81.8ms\tremaining: 96ms\n",
            "92:\tlearn: 155.3184755\ttotal: 82.7ms\tremaining: 95.1ms\n",
            "93:\tlearn: 154.3988879\ttotal: 83.6ms\tremaining: 94.3ms\n",
            "94:\tlearn: 153.4591935\ttotal: 84.5ms\tremaining: 93.4ms\n",
            "95:\tlearn: 153.1206893\ttotal: 85.4ms\tremaining: 92.5ms\n",
            "96:\tlearn: 152.7897351\ttotal: 86.2ms\tremaining: 91.6ms\n",
            "97:\tlearn: 150.9293164\ttotal: 87.1ms\tremaining: 90.7ms\n",
            "98:\tlearn: 149.7127171\ttotal: 88ms\tremaining: 89.8ms\n",
            "99:\tlearn: 149.5089324\ttotal: 88.9ms\tremaining: 88.9ms\n",
            "100:\tlearn: 149.3156312\ttotal: 89.8ms\tremaining: 88ms\n",
            "101:\tlearn: 147.7226718\ttotal: 90.7ms\tremaining: 87.2ms\n",
            "102:\tlearn: 146.7692282\ttotal: 91.6ms\tremaining: 86.3ms\n",
            "103:\tlearn: 145.9084983\ttotal: 92.5ms\tremaining: 85.4ms\n",
            "104:\tlearn: 144.8780979\ttotal: 93.3ms\tremaining: 84.5ms\n",
            "105:\tlearn: 143.8090268\ttotal: 94.3ms\tremaining: 83.6ms\n",
            "106:\tlearn: 143.1272551\ttotal: 95.2ms\tremaining: 82.7ms\n",
            "107:\tlearn: 142.4863018\ttotal: 96.1ms\tremaining: 81.8ms\n",
            "108:\tlearn: 141.4861279\ttotal: 97ms\tremaining: 81ms\n",
            "109:\tlearn: 140.8689530\ttotal: 97.9ms\tremaining: 80.1ms\n",
            "110:\tlearn: 140.4009570\ttotal: 98.8ms\tremaining: 79.2ms\n",
            "111:\tlearn: 140.0344439\ttotal: 99.6ms\tremaining: 78.3ms\n",
            "112:\tlearn: 139.4290096\ttotal: 101ms\tremaining: 77.4ms\n",
            "113:\tlearn: 139.2008874\ttotal: 101ms\tremaining: 76.5ms\n",
            "114:\tlearn: 138.6000188\ttotal: 102ms\tremaining: 75.7ms\n",
            "115:\tlearn: 138.3962706\ttotal: 103ms\tremaining: 74.8ms\n",
            "116:\tlearn: 138.1737256\ttotal: 104ms\tremaining: 73.9ms\n",
            "117:\tlearn: 137.6342361\ttotal: 105ms\tremaining: 73ms\n",
            "118:\tlearn: 136.7119826\ttotal: 106ms\tremaining: 72.1ms\n",
            "119:\tlearn: 135.3057402\ttotal: 107ms\tremaining: 71.2ms\n",
            "120:\tlearn: 134.4797815\ttotal: 108ms\tremaining: 70.3ms\n",
            "121:\tlearn: 133.0774331\ttotal: 109ms\tremaining: 69.4ms\n",
            "122:\tlearn: 131.8739238\ttotal: 109ms\tremaining: 68.5ms\n",
            "123:\tlearn: 131.3203837\ttotal: 110ms\tremaining: 67.7ms\n",
            "124:\tlearn: 130.8294604\ttotal: 111ms\tremaining: 66.8ms\n",
            "125:\tlearn: 130.6107905\ttotal: 112ms\tremaining: 65.9ms\n",
            "126:\tlearn: 130.1614924\ttotal: 113ms\tremaining: 65ms\n",
            "127:\tlearn: 129.3166972\ttotal: 114ms\tremaining: 64.1ms\n",
            "128:\tlearn: 129.1038672\ttotal: 115ms\tremaining: 63.2ms\n",
            "129:\tlearn: 128.9594874\ttotal: 116ms\tremaining: 62.4ms\n",
            "130:\tlearn: 128.1849638\ttotal: 117ms\tremaining: 61.5ms\n",
            "131:\tlearn: 128.0307033\ttotal: 118ms\tremaining: 60.6ms\n",
            "132:\tlearn: 127.3373882\ttotal: 119ms\tremaining: 59.7ms\n",
            "133:\tlearn: 126.2856989\ttotal: 119ms\tremaining: 58.8ms\n",
            "134:\tlearn: 126.1379832\ttotal: 120ms\tremaining: 57.9ms\n",
            "135:\tlearn: 126.0180019\ttotal: 121ms\tremaining: 57ms\n",
            "136:\tlearn: 125.8843963\ttotal: 122ms\tremaining: 56.1ms\n",
            "137:\tlearn: 125.7576333\ttotal: 123ms\tremaining: 55.2ms\n",
            "138:\tlearn: 125.4794581\ttotal: 124ms\tremaining: 54.3ms\n",
            "139:\tlearn: 124.7920270\ttotal: 125ms\tremaining: 53.4ms\n",
            "140:\tlearn: 124.6530278\ttotal: 126ms\tremaining: 52.5ms\n",
            "141:\tlearn: 123.4539010\ttotal: 126ms\tremaining: 51.7ms\n",
            "142:\tlearn: 122.8980001\ttotal: 127ms\tremaining: 50.8ms\n",
            "143:\tlearn: 122.0911177\ttotal: 128ms\tremaining: 49.9ms\n",
            "144:\tlearn: 121.1209154\ttotal: 129ms\tremaining: 49ms\n",
            "145:\tlearn: 120.1613553\ttotal: 130ms\tremaining: 48.1ms\n",
            "146:\tlearn: 119.1894727\ttotal: 131ms\tremaining: 47.2ms\n",
            "147:\tlearn: 118.0325732\ttotal: 132ms\tremaining: 46.3ms\n",
            "148:\tlearn: 117.9138240\ttotal: 133ms\tremaining: 45.4ms\n",
            "149:\tlearn: 117.3831462\ttotal: 134ms\tremaining: 44.6ms\n",
            "150:\tlearn: 116.8475244\ttotal: 135ms\tremaining: 43.7ms\n",
            "151:\tlearn: 116.3821954\ttotal: 135ms\tremaining: 42.8ms\n",
            "152:\tlearn: 115.5293176\ttotal: 136ms\tremaining: 41.9ms\n",
            "153:\tlearn: 115.0975175\ttotal: 137ms\tremaining: 41ms\n",
            "154:\tlearn: 114.0649594\ttotal: 138ms\tremaining: 40ms\n",
            "155:\tlearn: 113.2562326\ttotal: 139ms\tremaining: 39.1ms\n",
            "156:\tlearn: 112.7557871\ttotal: 140ms\tremaining: 38.2ms\n",
            "157:\tlearn: 112.5657565\ttotal: 140ms\tremaining: 37.3ms\n",
            "158:\tlearn: 112.3541525\ttotal: 141ms\tremaining: 36.4ms\n",
            "159:\tlearn: 111.8527982\ttotal: 142ms\tremaining: 35.5ms\n",
            "160:\tlearn: 111.1619644\ttotal: 143ms\tremaining: 34.6ms\n",
            "161:\tlearn: 110.3588257\ttotal: 144ms\tremaining: 33.8ms\n",
            "162:\tlearn: 109.6664293\ttotal: 145ms\tremaining: 32.9ms\n",
            "163:\tlearn: 109.5577303\ttotal: 146ms\tremaining: 32ms\n",
            "164:\tlearn: 109.0570285\ttotal: 146ms\tremaining: 31.1ms\n",
            "165:\tlearn: 108.7601467\ttotal: 147ms\tremaining: 30.2ms\n",
            "166:\tlearn: 108.0448620\ttotal: 148ms\tremaining: 29.3ms\n",
            "167:\tlearn: 107.5593372\ttotal: 149ms\tremaining: 28.4ms\n",
            "168:\tlearn: 106.3862999\ttotal: 150ms\tremaining: 27.5ms\n",
            "169:\tlearn: 106.2180807\ttotal: 151ms\tremaining: 26.6ms\n",
            "170:\tlearn: 106.0695603\ttotal: 152ms\tremaining: 25.8ms\n",
            "171:\tlearn: 105.6940213\ttotal: 153ms\tremaining: 24.9ms\n",
            "172:\tlearn: 104.7598987\ttotal: 154ms\tremaining: 24ms\n",
            "173:\tlearn: 104.6589992\ttotal: 155ms\tremaining: 23.2ms\n",
            "174:\tlearn: 103.7203657\ttotal: 156ms\tremaining: 22.3ms\n",
            "175:\tlearn: 103.2660987\ttotal: 157ms\tremaining: 21.4ms\n",
            "176:\tlearn: 103.0926213\ttotal: 158ms\tremaining: 20.5ms\n",
            "177:\tlearn: 102.6925209\ttotal: 159ms\tremaining: 19.6ms\n",
            "178:\tlearn: 102.1655154\ttotal: 160ms\tremaining: 18.7ms\n",
            "179:\tlearn: 101.8273108\ttotal: 161ms\tremaining: 17.8ms\n",
            "180:\tlearn: 101.7264515\ttotal: 161ms\tremaining: 16.9ms\n",
            "181:\tlearn: 101.1102333\ttotal: 162ms\tremaining: 16.1ms\n",
            "182:\tlearn: 100.7880364\ttotal: 163ms\tremaining: 15.2ms\n",
            "183:\tlearn: 100.6673014\ttotal: 164ms\tremaining: 14.3ms\n",
            "184:\tlearn: 100.0153055\ttotal: 165ms\tremaining: 13.4ms\n",
            "185:\tlearn: 99.7667281\ttotal: 166ms\tremaining: 12.5ms\n",
            "186:\tlearn: 99.1860593\ttotal: 167ms\tremaining: 11.6ms\n",
            "187:\tlearn: 99.0408133\ttotal: 168ms\tremaining: 10.7ms\n",
            "188:\tlearn: 98.9030718\ttotal: 168ms\tremaining: 9.81ms\n",
            "189:\tlearn: 97.4513860\ttotal: 169ms\tremaining: 8.91ms\n",
            "190:\tlearn: 97.3322959\ttotal: 170ms\tremaining: 8.02ms\n",
            "191:\tlearn: 97.1950848\ttotal: 171ms\tremaining: 7.13ms\n",
            "192:\tlearn: 96.6789532\ttotal: 172ms\tremaining: 6.24ms\n",
            "193:\tlearn: 96.5506179\ttotal: 173ms\tremaining: 5.34ms\n",
            "194:\tlearn: 95.6635039\ttotal: 174ms\tremaining: 4.45ms\n",
            "195:\tlearn: 94.8850777\ttotal: 175ms\tremaining: 3.56ms\n",
            "196:\tlearn: 94.1624589\ttotal: 175ms\tremaining: 2.67ms\n",
            "197:\tlearn: 93.8220662\ttotal: 176ms\tremaining: 1.78ms\n",
            "198:\tlearn: 93.7300351\ttotal: 178ms\tremaining: 896us\n",
            "199:\tlearn: 93.3339522\ttotal: 180ms\tremaining: 0us\n"
          ]
        }
      ]
    },
    {
      "cell_type": "code",
      "source": [
        "catb_cv_model.best_params_\n"
      ],
      "metadata": {
        "colab": {
          "base_uri": "https://localhost:8080/"
        },
        "id": "iPjnTq4ISMsQ",
        "outputId": "0988e3e2-fa69-4ffd-83e9-1259573a3f78"
      },
      "execution_count": null,
      "outputs": [
        {
          "output_type": "execute_result",
          "data": {
            "text/plain": [
              "{'depth': 3, 'iterations': 200, 'learning_rate': 0.1}"
            ]
          },
          "metadata": {},
          "execution_count": 127
        }
      ]
    },
    {
      "cell_type": "code",
      "source": [
        "catb_tuned = CatBoostRegressor(depth=3,\n",
        "                              iterations=200,\n",
        "                              learning_rate=0.1).fit(X_train,y_train)"
      ],
      "metadata": {
        "colab": {
          "base_uri": "https://localhost:8080/"
        },
        "id": "mv9llLtKSN63",
        "outputId": "ca5cc079-e634-4373-d303-561dce91f705"
      },
      "execution_count": null,
      "outputs": [
        {
          "output_type": "stream",
          "name": "stdout",
          "text": [
            "0:\tlearn: 425.7900818\ttotal: 2.35ms\tremaining: 468ms\n",
            "1:\tlearn: 404.8723520\ttotal: 3.59ms\tremaining: 355ms\n",
            "2:\tlearn: 387.4057666\ttotal: 4.73ms\tremaining: 311ms\n",
            "3:\tlearn: 372.2801584\ttotal: 5.73ms\tremaining: 281ms\n",
            "4:\tlearn: 358.9204229\ttotal: 6.68ms\tremaining: 261ms\n",
            "5:\tlearn: 347.0083933\ttotal: 7.57ms\tremaining: 245ms\n",
            "6:\tlearn: 336.0130818\ttotal: 8.46ms\tremaining: 233ms\n",
            "7:\tlearn: 324.3923300\ttotal: 9.34ms\tremaining: 224ms\n",
            "8:\tlearn: 314.8690957\ttotal: 10.2ms\tremaining: 217ms\n",
            "9:\tlearn: 308.5075563\ttotal: 11.1ms\tremaining: 212ms\n",
            "10:\tlearn: 298.8587285\ttotal: 12ms\tremaining: 207ms\n",
            "11:\tlearn: 294.7655438\ttotal: 12.9ms\tremaining: 202ms\n",
            "12:\tlearn: 288.0697862\ttotal: 13.8ms\tremaining: 198ms\n",
            "13:\tlearn: 282.6697154\ttotal: 14.7ms\tremaining: 195ms\n",
            "14:\tlearn: 277.6121667\ttotal: 15.6ms\tremaining: 192ms\n",
            "15:\tlearn: 273.4383979\ttotal: 16.5ms\tremaining: 189ms\n",
            "16:\tlearn: 269.1556201\ttotal: 17.4ms\tremaining: 187ms\n",
            "17:\tlearn: 264.8098704\ttotal: 18.2ms\tremaining: 184ms\n",
            "18:\tlearn: 261.6700768\ttotal: 19.1ms\tremaining: 182ms\n",
            "19:\tlearn: 257.3961290\ttotal: 20ms\tremaining: 180ms\n",
            "20:\tlearn: 252.2691509\ttotal: 20.9ms\tremaining: 178ms\n",
            "21:\tlearn: 249.0686482\ttotal: 21.8ms\tremaining: 176ms\n",
            "22:\tlearn: 244.1881041\ttotal: 22.7ms\tremaining: 175ms\n",
            "23:\tlearn: 242.1696687\ttotal: 23.6ms\tremaining: 173ms\n",
            "24:\tlearn: 239.2131476\ttotal: 24.5ms\tremaining: 171ms\n",
            "25:\tlearn: 236.6883901\ttotal: 25.4ms\tremaining: 170ms\n",
            "26:\tlearn: 234.5295613\ttotal: 26.3ms\tremaining: 168ms\n",
            "27:\tlearn: 231.7788834\ttotal: 27.1ms\tremaining: 167ms\n",
            "28:\tlearn: 228.8020330\ttotal: 28ms\tremaining: 165ms\n",
            "29:\tlearn: 226.8420565\ttotal: 28.9ms\tremaining: 164ms\n",
            "30:\tlearn: 224.0686558\ttotal: 29.8ms\tremaining: 162ms\n",
            "31:\tlearn: 222.6644699\ttotal: 30.7ms\tremaining: 161ms\n",
            "32:\tlearn: 221.6889573\ttotal: 31.6ms\tremaining: 160ms\n",
            "33:\tlearn: 220.5171653\ttotal: 32.5ms\tremaining: 158ms\n",
            "34:\tlearn: 217.7686033\ttotal: 33.3ms\tremaining: 157ms\n",
            "35:\tlearn: 214.8462789\ttotal: 34.2ms\tremaining: 156ms\n",
            "36:\tlearn: 214.4799251\ttotal: 35.2ms\tremaining: 155ms\n",
            "37:\tlearn: 212.3480429\ttotal: 36ms\tremaining: 154ms\n",
            "38:\tlearn: 210.0040644\ttotal: 36.9ms\tremaining: 152ms\n",
            "39:\tlearn: 208.3086913\ttotal: 37.8ms\tremaining: 151ms\n",
            "40:\tlearn: 207.5469119\ttotal: 38.7ms\tremaining: 150ms\n",
            "41:\tlearn: 205.9351113\ttotal: 39.6ms\tremaining: 149ms\n",
            "42:\tlearn: 205.3580824\ttotal: 40.5ms\tremaining: 148ms\n",
            "43:\tlearn: 204.6204266\ttotal: 41.3ms\tremaining: 147ms\n",
            "44:\tlearn: 202.5023220\ttotal: 42.2ms\tremaining: 145ms\n",
            "45:\tlearn: 201.4347853\ttotal: 43.1ms\tremaining: 144ms\n",
            "46:\tlearn: 200.8752553\ttotal: 44ms\tremaining: 143ms\n",
            "47:\tlearn: 200.4047344\ttotal: 44.9ms\tremaining: 142ms\n",
            "48:\tlearn: 197.5433004\ttotal: 45.8ms\tremaining: 141ms\n",
            "49:\tlearn: 194.6943292\ttotal: 46.7ms\tremaining: 140ms\n",
            "50:\tlearn: 194.3011982\ttotal: 47.6ms\tremaining: 139ms\n",
            "51:\tlearn: 193.4011843\ttotal: 48.7ms\tremaining: 139ms\n",
            "52:\tlearn: 193.0109753\ttotal: 49.6ms\tremaining: 137ms\n",
            "53:\tlearn: 192.6071142\ttotal: 50.5ms\tremaining: 136ms\n",
            "54:\tlearn: 191.9666153\ttotal: 51.4ms\tremaining: 135ms\n",
            "55:\tlearn: 191.5789727\ttotal: 52.2ms\tremaining: 134ms\n",
            "56:\tlearn: 190.7186284\ttotal: 53.1ms\tremaining: 133ms\n",
            "57:\tlearn: 190.4543087\ttotal: 54ms\tremaining: 132ms\n",
            "58:\tlearn: 190.1336317\ttotal: 54.9ms\tremaining: 131ms\n",
            "59:\tlearn: 188.2286484\ttotal: 55.8ms\tremaining: 130ms\n",
            "60:\tlearn: 187.7652417\ttotal: 56.7ms\tremaining: 129ms\n",
            "61:\tlearn: 187.4227950\ttotal: 57.5ms\tremaining: 128ms\n",
            "62:\tlearn: 186.9289182\ttotal: 58.5ms\tremaining: 127ms\n",
            "63:\tlearn: 185.2993487\ttotal: 59.3ms\tremaining: 126ms\n",
            "64:\tlearn: 185.0349598\ttotal: 60.2ms\tremaining: 125ms\n",
            "65:\tlearn: 183.9773430\ttotal: 61.1ms\tremaining: 124ms\n",
            "66:\tlearn: 183.4463166\ttotal: 62ms\tremaining: 123ms\n",
            "67:\tlearn: 181.6627740\ttotal: 62.9ms\tremaining: 122ms\n",
            "68:\tlearn: 179.8785055\ttotal: 63.8ms\tremaining: 121ms\n",
            "69:\tlearn: 179.6737527\ttotal: 64.6ms\tremaining: 120ms\n",
            "70:\tlearn: 177.0830981\ttotal: 65.5ms\tremaining: 119ms\n",
            "71:\tlearn: 176.5917790\ttotal: 66.4ms\tremaining: 118ms\n",
            "72:\tlearn: 176.1240502\ttotal: 67.3ms\tremaining: 117ms\n",
            "73:\tlearn: 174.4828953\ttotal: 68.2ms\tremaining: 116ms\n",
            "74:\tlearn: 173.4220482\ttotal: 69.1ms\tremaining: 115ms\n",
            "75:\tlearn: 171.9903405\ttotal: 70ms\tremaining: 114ms\n",
            "76:\tlearn: 171.5803116\ttotal: 71.8ms\tremaining: 115ms\n",
            "77:\tlearn: 170.1411594\ttotal: 74.1ms\tremaining: 116ms\n",
            "78:\tlearn: 167.9868133\ttotal: 75.1ms\tremaining: 115ms\n",
            "79:\tlearn: 166.5304475\ttotal: 76.2ms\tremaining: 114ms\n",
            "80:\tlearn: 166.1741622\ttotal: 78.2ms\tremaining: 115ms\n",
            "81:\tlearn: 165.8411762\ttotal: 79.8ms\tremaining: 115ms\n",
            "82:\tlearn: 165.1041583\ttotal: 81.5ms\tremaining: 115ms\n",
            "83:\tlearn: 163.5641543\ttotal: 83.2ms\tremaining: 115ms\n",
            "84:\tlearn: 163.2003311\ttotal: 84.7ms\tremaining: 115ms\n",
            "85:\tlearn: 161.1781702\ttotal: 85.4ms\tremaining: 113ms\n",
            "86:\tlearn: 160.8727658\ttotal: 86.2ms\tremaining: 112ms\n",
            "87:\tlearn: 159.7954077\ttotal: 87.2ms\tremaining: 111ms\n",
            "88:\tlearn: 158.8759132\ttotal: 88.1ms\tremaining: 110ms\n",
            "89:\tlearn: 158.4831323\ttotal: 89ms\tremaining: 109ms\n",
            "90:\tlearn: 157.4808127\ttotal: 89.8ms\tremaining: 108ms\n",
            "91:\tlearn: 157.1703230\ttotal: 90.8ms\tremaining: 107ms\n",
            "92:\tlearn: 155.3184755\ttotal: 91.6ms\tremaining: 105ms\n",
            "93:\tlearn: 154.3988879\ttotal: 92.5ms\tremaining: 104ms\n",
            "94:\tlearn: 153.4591935\ttotal: 93.4ms\tremaining: 103ms\n",
            "95:\tlearn: 153.1206893\ttotal: 94.3ms\tremaining: 102ms\n",
            "96:\tlearn: 152.7897351\ttotal: 95.3ms\tremaining: 101ms\n",
            "97:\tlearn: 150.9293164\ttotal: 96.3ms\tremaining: 100ms\n",
            "98:\tlearn: 149.7127171\ttotal: 97.3ms\tremaining: 99.3ms\n",
            "99:\tlearn: 149.5089324\ttotal: 98.1ms\tremaining: 98.1ms\n",
            "100:\tlearn: 149.3156312\ttotal: 99ms\tremaining: 97.1ms\n",
            "101:\tlearn: 147.7226718\ttotal: 99.9ms\tremaining: 96ms\n",
            "102:\tlearn: 146.7692282\ttotal: 101ms\tremaining: 94.9ms\n",
            "103:\tlearn: 145.9084983\ttotal: 102ms\tremaining: 93.8ms\n",
            "104:\tlearn: 144.8780979\ttotal: 103ms\tremaining: 92.8ms\n",
            "105:\tlearn: 143.8090268\ttotal: 103ms\tremaining: 91.7ms\n",
            "106:\tlearn: 143.1272551\ttotal: 104ms\tremaining: 90.6ms\n",
            "107:\tlearn: 142.4863018\ttotal: 105ms\tremaining: 89.6ms\n",
            "108:\tlearn: 141.4861279\ttotal: 106ms\tremaining: 88.5ms\n",
            "109:\tlearn: 140.8689530\ttotal: 107ms\tremaining: 87.4ms\n",
            "110:\tlearn: 140.4009570\ttotal: 108ms\tremaining: 86.4ms\n",
            "111:\tlearn: 140.0344439\ttotal: 109ms\tremaining: 85.3ms\n",
            "112:\tlearn: 139.4290096\ttotal: 109ms\tremaining: 84.1ms\n",
            "113:\tlearn: 139.2008874\ttotal: 110ms\tremaining: 83ms\n",
            "114:\tlearn: 138.6000188\ttotal: 111ms\tremaining: 82ms\n",
            "115:\tlearn: 138.3962706\ttotal: 112ms\tremaining: 81ms\n",
            "116:\tlearn: 138.1737256\ttotal: 113ms\tremaining: 79.9ms\n",
            "117:\tlearn: 137.6342361\ttotal: 114ms\tremaining: 78.9ms\n",
            "118:\tlearn: 136.7119826\ttotal: 114ms\tremaining: 77.9ms\n",
            "119:\tlearn: 135.3057402\ttotal: 115ms\tremaining: 76.8ms\n",
            "120:\tlearn: 134.4797815\ttotal: 116ms\tremaining: 75.8ms\n",
            "121:\tlearn: 133.0774331\ttotal: 117ms\tremaining: 74.8ms\n",
            "122:\tlearn: 131.8739238\ttotal: 118ms\tremaining: 73.8ms\n",
            "123:\tlearn: 131.3203837\ttotal: 119ms\tremaining: 72.8ms\n",
            "124:\tlearn: 130.8294604\ttotal: 120ms\tremaining: 71.8ms\n",
            "125:\tlearn: 130.6107905\ttotal: 121ms\tremaining: 70.8ms\n",
            "126:\tlearn: 130.1614924\ttotal: 121ms\tremaining: 69.8ms\n",
            "127:\tlearn: 129.3166972\ttotal: 122ms\tremaining: 68.8ms\n",
            "128:\tlearn: 129.1038672\ttotal: 123ms\tremaining: 67.8ms\n",
            "129:\tlearn: 128.9594874\ttotal: 124ms\tremaining: 66.8ms\n",
            "130:\tlearn: 128.1849638\ttotal: 125ms\tremaining: 65.8ms\n",
            "131:\tlearn: 128.0307033\ttotal: 126ms\tremaining: 64.8ms\n",
            "132:\tlearn: 127.3373882\ttotal: 127ms\tremaining: 63.8ms\n",
            "133:\tlearn: 126.2856989\ttotal: 128ms\tremaining: 62.8ms\n",
            "134:\tlearn: 126.1379832\ttotal: 128ms\tremaining: 61.8ms\n",
            "135:\tlearn: 126.0180019\ttotal: 129ms\tremaining: 60.9ms\n",
            "136:\tlearn: 125.8843963\ttotal: 130ms\tremaining: 59.9ms\n",
            "137:\tlearn: 125.7576333\ttotal: 131ms\tremaining: 58.9ms\n",
            "138:\tlearn: 125.4794581\ttotal: 132ms\tremaining: 57.9ms\n",
            "139:\tlearn: 124.7920270\ttotal: 133ms\tremaining: 56.9ms\n",
            "140:\tlearn: 124.6530278\ttotal: 134ms\tremaining: 56ms\n",
            "141:\tlearn: 123.4539010\ttotal: 135ms\tremaining: 55ms\n",
            "142:\tlearn: 122.8980001\ttotal: 135ms\tremaining: 54ms\n",
            "143:\tlearn: 122.0911177\ttotal: 136ms\tremaining: 53ms\n",
            "144:\tlearn: 121.1209154\ttotal: 137ms\tremaining: 52ms\n",
            "145:\tlearn: 120.1613553\ttotal: 138ms\tremaining: 51.1ms\n",
            "146:\tlearn: 119.1894727\ttotal: 139ms\tremaining: 50.1ms\n",
            "147:\tlearn: 118.0325732\ttotal: 140ms\tremaining: 49.1ms\n",
            "148:\tlearn: 117.9138240\ttotal: 141ms\tremaining: 48.1ms\n",
            "149:\tlearn: 117.3831462\ttotal: 142ms\tremaining: 47.2ms\n",
            "150:\tlearn: 116.8475244\ttotal: 142ms\tremaining: 46.2ms\n",
            "151:\tlearn: 116.3821954\ttotal: 143ms\tremaining: 45.3ms\n",
            "152:\tlearn: 115.5293176\ttotal: 144ms\tremaining: 44.3ms\n",
            "153:\tlearn: 115.0975175\ttotal: 145ms\tremaining: 43.3ms\n",
            "154:\tlearn: 114.0649594\ttotal: 146ms\tremaining: 42.4ms\n",
            "155:\tlearn: 113.2562326\ttotal: 147ms\tremaining: 41.4ms\n",
            "156:\tlearn: 112.7557871\ttotal: 148ms\tremaining: 40.5ms\n",
            "157:\tlearn: 112.5657565\ttotal: 149ms\tremaining: 39.5ms\n",
            "158:\tlearn: 112.3541525\ttotal: 149ms\tremaining: 38.5ms\n",
            "159:\tlearn: 111.8527982\ttotal: 150ms\tremaining: 37.6ms\n",
            "160:\tlearn: 111.1619644\ttotal: 151ms\tremaining: 36.6ms\n",
            "161:\tlearn: 110.3588257\ttotal: 152ms\tremaining: 35.7ms\n",
            "162:\tlearn: 109.6664293\ttotal: 153ms\tremaining: 34.7ms\n",
            "163:\tlearn: 109.5577303\ttotal: 154ms\tremaining: 33.8ms\n",
            "164:\tlearn: 109.0570285\ttotal: 155ms\tremaining: 32.8ms\n",
            "165:\tlearn: 108.7601467\ttotal: 156ms\tremaining: 31.9ms\n",
            "166:\tlearn: 108.0448620\ttotal: 156ms\tremaining: 30.9ms\n",
            "167:\tlearn: 107.5593372\ttotal: 157ms\tremaining: 30ms\n",
            "168:\tlearn: 106.3862999\ttotal: 158ms\tremaining: 29ms\n",
            "169:\tlearn: 106.2180807\ttotal: 159ms\tremaining: 28ms\n",
            "170:\tlearn: 106.0695603\ttotal: 160ms\tremaining: 27.1ms\n",
            "171:\tlearn: 105.6940213\ttotal: 160ms\tremaining: 26.1ms\n",
            "172:\tlearn: 104.7598987\ttotal: 161ms\tremaining: 25.1ms\n",
            "173:\tlearn: 104.6589992\ttotal: 162ms\tremaining: 24.2ms\n",
            "174:\tlearn: 103.7203657\ttotal: 163ms\tremaining: 23.3ms\n",
            "175:\tlearn: 103.2660987\ttotal: 164ms\tremaining: 22.3ms\n",
            "176:\tlearn: 103.0926213\ttotal: 165ms\tremaining: 21.4ms\n",
            "177:\tlearn: 102.6925209\ttotal: 165ms\tremaining: 20.4ms\n",
            "178:\tlearn: 102.1655154\ttotal: 166ms\tremaining: 19.5ms\n",
            "179:\tlearn: 101.8273108\ttotal: 167ms\tremaining: 18.6ms\n",
            "180:\tlearn: 101.7264515\ttotal: 168ms\tremaining: 17.6ms\n",
            "181:\tlearn: 101.1102333\ttotal: 169ms\tremaining: 16.7ms\n",
            "182:\tlearn: 100.7880364\ttotal: 170ms\tremaining: 15.8ms\n",
            "183:\tlearn: 100.6673014\ttotal: 171ms\tremaining: 14.8ms\n",
            "184:\tlearn: 100.0153055\ttotal: 172ms\tremaining: 13.9ms\n",
            "185:\tlearn: 99.7667281\ttotal: 172ms\tremaining: 13ms\n",
            "186:\tlearn: 99.1860593\ttotal: 173ms\tremaining: 12.1ms\n",
            "187:\tlearn: 99.0408133\ttotal: 174ms\tremaining: 11.1ms\n",
            "188:\tlearn: 98.9030718\ttotal: 175ms\tremaining: 10.2ms\n",
            "189:\tlearn: 97.4513860\ttotal: 176ms\tremaining: 9.26ms\n",
            "190:\tlearn: 97.3322959\ttotal: 178ms\tremaining: 8.39ms\n",
            "191:\tlearn: 97.1950848\ttotal: 179ms\tremaining: 7.46ms\n",
            "192:\tlearn: 96.6789532\ttotal: 180ms\tremaining: 6.53ms\n",
            "193:\tlearn: 96.5506179\ttotal: 181ms\tremaining: 5.6ms\n",
            "194:\tlearn: 95.6635039\ttotal: 182ms\tremaining: 4.67ms\n",
            "195:\tlearn: 94.8850777\ttotal: 185ms\tremaining: 3.78ms\n",
            "196:\tlearn: 94.1624589\ttotal: 186ms\tremaining: 2.83ms\n",
            "197:\tlearn: 93.8220662\ttotal: 187ms\tremaining: 1.89ms\n",
            "198:\tlearn: 93.7300351\ttotal: 188ms\tremaining: 944us\n",
            "199:\tlearn: 93.3339522\ttotal: 189ms\tremaining: 0us\n"
          ]
        }
      ]
    },
    {
      "cell_type": "code",
      "source": [
        "y_pred = catb_tuned.predict(X_test)\n",
        "np.sqrt(mean_squared_error(y_test,y_pred))"
      ],
      "metadata": {
        "colab": {
          "base_uri": "https://localhost:8080/"
        },
        "id": "qeVGC_jKSPmJ",
        "outputId": "16e1587a-7aa4-4f0e-df86-df3c6a879c34"
      },
      "execution_count": null,
      "outputs": [
        {
          "output_type": "execute_result",
          "data": {
            "text/plain": [
              "344.3125832615482"
            ]
          },
          "metadata": {},
          "execution_count": 129
        }
      ]
    },
    {
      "cell_type": "code",
      "source": [
        "def compML(df, y, alg):\n",
        "    y = df[y]\n",
        "    X_ = df.drop([\"Salary\",\"League\",\"Division\",\"NewLeague\"],axis=1).astype(\"float64\")\n",
        "    X = pd.concat([X_,dms[[\"League_N\",\"Division_W\",\"NewLeague_N\"]]],axis=1)\n",
        "    X_train,X_test,y_train,y_test = train_test_split(X,y,test_size=0.25,random_state=42)\n",
        "    \n",
        "    model = alg().fit(X_train,y_train)\n",
        "    y_pred = model.predict(X_test)\n",
        "    RMSE = np.sqrt(mean_squared_error(y_test,y_pred))\n",
        "    model_ismi = alg.__name__\n",
        "    print(model_ismi,'Modeli Test Hatası:', RMSE)\n",
        "    return RMSE"
      ],
      "metadata": {
        "id": "vwsAqG56SoTs"
      },
      "execution_count": null,
      "outputs": []
    },
    {
      "cell_type": "code",
      "source": [
        "compML(df,\"Salary\",SVR)\n"
      ],
      "metadata": {
        "colab": {
          "base_uri": "https://localhost:8080/"
        },
        "id": "Js9EU3hVStDy",
        "outputId": "47073f36-ffdf-47c2-a4b9-4a0710c24004"
      },
      "execution_count": null,
      "outputs": [
        {
          "output_type": "stream",
          "name": "stdout",
          "text": [
            "SVR Modeli Test Hatası: 460.0032657244849\n"
          ]
        },
        {
          "output_type": "execute_result",
          "data": {
            "text/plain": [
              "460.0032657244849"
            ]
          },
          "metadata": {},
          "execution_count": 131
        }
      ]
    },
    {
      "cell_type": "code",
      "source": [
        "models = [LGBMRegressor,\n",
        "          XGBRegressor,\n",
        "          GradientBoostingRegressor,\n",
        "          RandomForestRegressor,\n",
        "          DecisionTreeRegressor,\n",
        "          MLPRegressor,\n",
        "          KNeighborsRegressor,\n",
        "          SVR]"
      ],
      "metadata": {
        "id": "--NCONuuSuzV"
      },
      "execution_count": null,
      "outputs": []
    },
    {
      "cell_type": "code",
      "source": [
        "for i in models:\n",
        "    compML(df,\"Salary\",i)"
      ],
      "metadata": {
        "colab": {
          "base_uri": "https://localhost:8080/"
        },
        "id": "TnoA_dqaSwOU",
        "outputId": "4941b91e-dbd2-481f-84dc-9cc6ddf44de4"
      },
      "execution_count": null,
      "outputs": [
        {
          "output_type": "stream",
          "name": "stdout",
          "text": [
            "LGBMRegressor Modeli Test Hatası: 363.8712087611089\n",
            "[15:22:55] WARNING: /workspace/src/objective/regression_obj.cu:152: reg:linear is now deprecated in favor of reg:squarederror.\n",
            "XGBRegressor Modeli Test Hatası: 359.91750599447033\n",
            "GradientBoostingRegressor Modeli Test Hatası: 355.3069284672173\n",
            "RandomForestRegressor Modeli Test Hatası: 344.6857264969629\n",
            "DecisionTreeRegressor Modeli Test Hatası: 443.27798490354957\n",
            "MLPRegressor Modeli Test Hatası: 429.4027118474128\n",
            "KNeighborsRegressor Modeli Test Hatası: 426.6570764525201\n",
            "SVR Modeli Test Hatası: 460.0032657244849\n"
          ]
        }
      ]
    }
  ]
}